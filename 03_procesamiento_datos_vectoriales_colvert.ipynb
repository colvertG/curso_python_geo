{
 "cells": [
  {
   "cell_type": "markdown",
   "id": "d81e993c",
   "metadata": {},
   "source": [
    "# Shapely"
   ]
  },
  {
   "cell_type": "code",
   "execution_count": 17,
   "id": "509535fb",
   "metadata": {},
   "outputs": [],
   "source": [
    "from shapely import Point, LineString, Polygon"
   ]
  },
  {
   "cell_type": "code",
   "execution_count": 5,
   "id": "a1c2eb99",
   "metadata": {},
   "outputs": [
    {
     "data": {
      "image/svg+xml": [
       "<svg xmlns=\"http://www.w3.org/2000/svg\" xmlns:xlink=\"http://www.w3.org/1999/xlink\" width=\"100.0\" height=\"100.0\" viewBox=\"2.0 4.0 2.0 2.0\" preserveAspectRatio=\"xMinYMin meet\"><g transform=\"matrix(1,0,0,-1,0,10.0)\"><circle cx=\"3.0\" cy=\"5.0\" r=\"0.06\" stroke=\"#555555\" stroke-width=\"0.02\" fill=\"#66cc99\" opacity=\"0.6\" /></g></svg>"
      ],
      "text/plain": [
       "<POINT (3 5)>"
      ]
     },
     "execution_count": 5,
     "metadata": {},
     "output_type": "execute_result"
    }
   ],
   "source": [
    "# Crear un punto\n",
    "point = Point(3, 5)\n",
    "point"
   ]
  },
  {
   "cell_type": "code",
   "execution_count": 6,
   "id": "2fd9fd02",
   "metadata": {},
   "outputs": [
    {
     "data": {
      "text/plain": [
       "shapely.geometry.point.Point"
      ]
     },
     "execution_count": 6,
     "metadata": {},
     "output_type": "execute_result"
    }
   ],
   "source": [
    "type(point)"
   ]
  },
  {
   "cell_type": "code",
   "execution_count": 7,
   "id": "bb5a8077",
   "metadata": {},
   "outputs": [
    {
     "name": "stdout",
     "output_type": "stream",
     "text": [
      "POINT (3 5)\n"
     ]
    }
   ],
   "source": [
    "print(point)"
   ]
  },
  {
   "cell_type": "markdown",
   "id": "9ffef2fc",
   "metadata": {},
   "source": [
    "WKT (Well-Known Text) es un formato para interpretar correctamente las coordenadas geográficas."
   ]
  },
  {
   "cell_type": "code",
   "execution_count": 8,
   "id": "013cb8ac",
   "metadata": {},
   "outputs": [
    {
     "data": {
      "text/plain": [
       "'POINT (3 5)'"
      ]
     },
     "execution_count": 8,
     "metadata": {},
     "output_type": "execute_result"
    }
   ],
   "source": [
    "point.wkt"
   ]
  },
  {
   "cell_type": "code",
   "execution_count": 9,
   "id": "79f48afd",
   "metadata": {},
   "outputs": [
    {
     "data": {
      "text/plain": [
       "3.0"
      ]
     },
     "execution_count": 9,
     "metadata": {},
     "output_type": "execute_result"
    }
   ],
   "source": [
    "point.x"
   ]
  },
  {
   "cell_type": "code",
   "execution_count": 10,
   "id": "fc2bf5ca",
   "metadata": {},
   "outputs": [
    {
     "data": {
      "text/plain": [
       "5.0"
      ]
     },
     "execution_count": 10,
     "metadata": {},
     "output_type": "execute_result"
    }
   ],
   "source": [
    "point.y"
   ]
  },
  {
   "cell_type": "code",
   "execution_count": null,
   "id": "404ab4b5",
   "metadata": {},
   "outputs": [],
   "source": []
  },
  {
   "cell_type": "code",
   "execution_count": 11,
   "id": "77883635",
   "metadata": {},
   "outputs": [
    {
     "data": {
      "image/svg+xml": [
       "<svg xmlns=\"http://www.w3.org/2000/svg\" xmlns:xlink=\"http://www.w3.org/1999/xlink\" width=\"100.0\" height=\"100.0\" viewBox=\"-0.32 -0.32 8.64 4.640000000000001\" preserveAspectRatio=\"xMinYMin meet\"><g transform=\"matrix(1,0,0,-1,0,4.0)\"><polyline fill=\"none\" stroke=\"#66cc99\" stroke-width=\"0.1728\" points=\"0.0,0.0 4.0,4.0 8.0,0.0\" opacity=\"0.8\" /></g></svg>"
      ],
      "text/plain": [
       "<LINESTRING (0 0, 4 4, 8 0)>"
      ]
     },
     "execution_count": 11,
     "metadata": {},
     "output_type": "execute_result"
    }
   ],
   "source": [
    "# Crear una línea\n",
    "point_1 = Point(0, 0)\n",
    "point_2 = Point(4, 4)\n",
    "point_3 = Point(8, 0)\n",
    "\n",
    "line = LineString([point_1, point_2, point_3])\n",
    "line"
   ]
  },
  {
   "cell_type": "code",
   "execution_count": 12,
   "id": "c9845687",
   "metadata": {},
   "outputs": [
    {
     "data": {
      "text/plain": [
       "11.313708498984761"
      ]
     },
     "execution_count": 12,
     "metadata": {},
     "output_type": "execute_result"
    }
   ],
   "source": [
    "# Longitud de la línea\n",
    "line.length"
   ]
  },
  {
   "cell_type": "code",
   "execution_count": null,
   "id": "27c3f6c3",
   "metadata": {},
   "outputs": [
    {
     "data": {
      "text/plain": [
       "11.313708498984761"
      ]
     },
     "execution_count": 13,
     "metadata": {},
     "output_type": "execute_result"
    }
   ],
   "source": [
    "import math\n",
    "math.sqrt((4**2 + 4**2)) * 2 "
   ]
  },
  {
   "cell_type": "code",
   "execution_count": 14,
   "id": "a29ed320",
   "metadata": {},
   "outputs": [
    {
     "data": {
      "image/svg+xml": [
       "<svg xmlns=\"http://www.w3.org/2000/svg\" xmlns:xlink=\"http://www.w3.org/1999/xlink\" width=\"100.0\" height=\"100.0\" viewBox=\"-0.32 -0.32 8.64 4.640000000000001\" preserveAspectRatio=\"xMinYMin meet\"><g transform=\"matrix(1,0,0,-1,0,4.0)\"><path fill-rule=\"evenodd\" fill=\"#66cc99\" stroke=\"#555555\" stroke-width=\"0.1728\" opacity=\"0.6\" d=\"M 0.0,0.0 L 4.0,4.0 L 8.0,0.0 L 0.0,0.0 z\" /></g></svg>"
      ],
      "text/plain": [
       "<POLYGON ((0 0, 4 4, 8 0, 0 0))>"
      ]
     },
     "execution_count": 14,
     "metadata": {},
     "output_type": "execute_result"
    }
   ],
   "source": [
    "# Crear un polígono\n",
    "polygon = Polygon([point_1, point_2, point_3])\n",
    "polygon"
   ]
  },
  {
   "cell_type": "code",
   "execution_count": 15,
   "id": "8be41b50",
   "metadata": {},
   "outputs": [
    {
     "data": {
      "text/plain": [
       "16.0"
      ]
     },
     "execution_count": 15,
     "metadata": {},
     "output_type": "execute_result"
    }
   ],
   "source": [
    "polygon.area"
   ]
  },
  {
   "cell_type": "code",
   "execution_count": 16,
   "id": "db2251b2",
   "metadata": {},
   "outputs": [
    {
     "data": {
      "text/plain": [
       "'POLYGON ((0 0, 4 4, 8 0, 0 0))'"
      ]
     },
     "execution_count": 16,
     "metadata": {},
     "output_type": "execute_result"
    }
   ],
   "source": [
    "polygon.wkt"
   ]
  },
  {
   "cell_type": "code",
   "execution_count": 20,
   "id": "072cfec1",
   "metadata": {},
   "outputs": [],
   "source": [
    "# Crear geometrías múltiples\n",
    "from shapely import MultiPoint, MultiLineString, MultiPolygon"
   ]
  },
  {
   "cell_type": "code",
   "execution_count": 21,
   "id": "7e09c172",
   "metadata": {},
   "outputs": [
    {
     "data": {
      "image/svg+xml": [
       "<svg xmlns=\"http://www.w3.org/2000/svg\" xmlns:xlink=\"http://www.w3.org/1999/xlink\" width=\"100.0\" height=\"100.0\" viewBox=\"-0.16 -0.16 4.32 4.32\" preserveAspectRatio=\"xMinYMin meet\"><g transform=\"matrix(1,0,0,-1,0,4.0)\"><g><circle cx=\"0.0\" cy=\"0.0\" r=\"0.1296\" stroke=\"#555555\" stroke-width=\"0.0432\" fill=\"#66cc99\" opacity=\"0.6\" /><circle cx=\"4.0\" cy=\"4.0\" r=\"0.1296\" stroke=\"#555555\" stroke-width=\"0.0432\" fill=\"#66cc99\" opacity=\"0.6\" /></g></g></svg>"
      ],
      "text/plain": [
       "<MULTIPOINT ((0 0), (4 4))>"
      ]
     },
     "execution_count": 21,
     "metadata": {},
     "output_type": "execute_result"
    }
   ],
   "source": [
    "multipoint = MultiPoint([point_1, point_2])\n",
    "multipoint"
   ]
  },
  {
   "cell_type": "code",
   "execution_count": 22,
   "id": "f38f06fb",
   "metadata": {},
   "outputs": [
    {
     "data": {
      "image/svg+xml": [
       "<svg xmlns=\"http://www.w3.org/2000/svg\" xmlns:xlink=\"http://www.w3.org/1999/xlink\" width=\"100.0\" height=\"100.0\" viewBox=\"-0.32 -0.32 8.64 4.640000000000001\" preserveAspectRatio=\"xMinYMin meet\"><g transform=\"matrix(1,0,0,-1,0,4.0)\"><g><polyline fill=\"none\" stroke=\"#66cc99\" stroke-width=\"0.1728\" points=\"0.0,0.0 4.0,4.0\" opacity=\"0.8\" /><polyline fill=\"none\" stroke=\"#66cc99\" stroke-width=\"0.1728\" points=\"0.0,0.0 8.0,0.0\" opacity=\"0.8\" /></g></g></svg>"
      ],
      "text/plain": [
       "<MULTILINESTRING ((0 0, 4 4), (0 0, 8 0))>"
      ]
     },
     "execution_count": 22,
     "metadata": {},
     "output_type": "execute_result"
    }
   ],
   "source": [
    "multilinestring = MultiLineString([LineString([point_1, point_2]), LineString([point_1, point_3])])\n",
    "multilinestring"
   ]
  },
  {
   "cell_type": "code",
   "execution_count": 23,
   "id": "23b9a2e6",
   "metadata": {},
   "outputs": [
    {
     "data": {
      "image/svg+xml": [
       "<svg xmlns=\"http://www.w3.org/2000/svg\" xmlns:xlink=\"http://www.w3.org/1999/xlink\" width=\"100.0\" height=\"100.0\" viewBox=\"-0.32 -4.32 8.64 8.64\" preserveAspectRatio=\"xMinYMin meet\"><g transform=\"matrix(1,0,0,-1,0,0.0)\"><g><path fill-rule=\"evenodd\" fill=\"#ff3333\" stroke=\"#555555\" stroke-width=\"0.1728\" opacity=\"0.6\" d=\"M 0.0,0.0 L 4.0,4.0 L 8.0,0.0 L 0.0,0.0 z\" /><path fill-rule=\"evenodd\" fill=\"#ff3333\" stroke=\"#555555\" stroke-width=\"0.1728\" opacity=\"0.6\" d=\"M 0.0,0.0 L 8.0,0.0 L 4.0,-4.0 L 0.0,0.0 z\" /></g></g></svg>"
      ],
      "text/plain": [
       "<MULTIPOLYGON (((0 0, 4 4, 8 0, 0 0)), ((0 0, 8 0, 4 -4, 0 0)))>"
      ]
     },
     "execution_count": 23,
     "metadata": {},
     "output_type": "execute_result"
    }
   ],
   "source": [
    "point_4 = Point(4, -4)\n",
    "multipolygon = MultiPolygon([Polygon([point_1, point_2, point_3]), Polygon([point_1, point_3, point_4])])\n",
    "multipolygon"
   ]
  },
  {
   "cell_type": "code",
   "execution_count": 24,
   "id": "86984edc",
   "metadata": {},
   "outputs": [
    {
     "data": {
      "text/plain": [
       "'MULTIPOLYGON (((0 0, 4 4, 8 0, 0 0)), ((0 0, 8 0, 4 -4, 0 0)))'"
      ]
     },
     "execution_count": 24,
     "metadata": {},
     "output_type": "execute_result"
    }
   ],
   "source": [
    "multipolygon.wkt"
   ]
  },
  {
   "cell_type": "markdown",
   "id": "815fe12c",
   "metadata": {},
   "source": [
    "# Descarga de datos y descomprimir zip\n",
    "\n",
    "La librería **requests** es la herramienta estándar de Python para realizar peticiones HTTP de manera sencilla. Permite descargar archivos, consumir APIs REST, enviar datos POST, manejar autenticación y trabajar con cookies y sesiones. En el ejemplo mostrado, usamos `requests.get()` para descargar y obtenemos el contenido con `.content` y lo guardamos en modo binario ('wb'). Aunque este es un uso básico, requests también permite **web scraping** (extrayendo datos de páginas HTML), **consumo de APIs**, **envío de formularios**, **descarga con progreso**, **manejo de autenticación OAuth**, y **sesiones persistentes** para mantener cookies entre peticiones.\n",
    "\n",
    "Ejemplo para bajar datos de FIRMS y CONABIO:\n",
    "- [CONABIO-dest23w](http://www.conabio.gob.mx/informacion/gis/?vns=gis_root/dipol/estata/dest23gw)\n",
    "- [FIRMS/Active Fire Data](https://firms.modaps.eosdis.nasa.gov/active_fire/)"
   ]
  },
  {
   "cell_type": "code",
   "execution_count": 12,
   "id": "81750b5b",
   "metadata": {},
   "outputs": [],
   "source": [
    "import requests\n",
    "import zipfile\n",
    "import os"
   ]
  },
  {
   "cell_type": "code",
   "execution_count": 13,
   "id": "a0ad1764",
   "metadata": {},
   "outputs": [
    {
     "data": {
      "text/plain": [
       "'c:\\\\data\\\\curso_python_geo\\\\data\\\\entidades'"
      ]
     },
     "execution_count": 13,
     "metadata": {},
     "output_type": "execute_result"
    }
   ],
   "source": [
    "# Directorios (crear entidades_federativas y firms si no existen dentro de data)\n",
    "path_data = os.path.join(os.getcwd(), 'data')\n",
    "\n",
    "path_entidades = os.path.join(path_data, 'entidades')\n",
    "os.makedirs(path_entidades, exist_ok=True)\n",
    "\n",
    "path_entidades"
   ]
  },
  {
   "cell_type": "code",
   "execution_count": 14,
   "id": "bdcdf86e",
   "metadata": {},
   "outputs": [
    {
     "data": {
      "text/plain": [
       "'c:\\\\data\\\\curso_python_geo\\\\data\\\\firms'"
      ]
     },
     "execution_count": 14,
     "metadata": {},
     "output_type": "execute_result"
    }
   ],
   "source": [
    "path_firms = os.path.join(path_data, 'firms')\n",
    "os.makedirs(path_firms, exist_ok=True)\n",
    "path_firms"
   ]
  },
  {
   "cell_type": "code",
   "execution_count": 7,
   "id": "1c6d4869",
   "metadata": {},
   "outputs": [
    {
     "data": {
      "text/plain": [
       "'dest23gw.zip'"
      ]
     },
     "execution_count": 7,
     "metadata": {},
     "output_type": "execute_result"
    }
   ],
   "source": [
    "# Descarga las entidades federativas de México desde CONABIO\n",
    "url = 'http://www.conabio.gob.mx/informacion/gis/maps/geo/dest23gw.zip'\n",
    "zip_name_entidades = url.split('/')[-1]\n",
    "zip_name_entidades"
   ]
  },
  {
   "cell_type": "code",
   "execution_count": 29,
   "id": "1baac15c",
   "metadata": {},
   "outputs": [],
   "source": [
    "# Descargar el archivo y guardarlo en el directorio de salida\n",
    "file = requests.get(url) # Descargar el archivo\n",
    "open(os.path.join(path_entidades, zip_name_entidades), 'wb').write(file.content) # Guardar el archivo\n",
    "file.close() # Cerrar la conexión"
   ]
  },
  {
   "cell_type": "code",
   "execution_count": 30,
   "id": "a215c99a",
   "metadata": {},
   "outputs": [],
   "source": [
    "# Descomprimir el archivo\n",
    "zf = zipfile.ZipFile(os.path.join(path_entidades, zip_name_entidades), \"r\") # Abrir el archivo ZIP en modo lectura\n",
    "for i in zf.namelist(): # Listar los archivos dentro del ZIP\n",
    "    zf.extract(i, path = path_entidades) # Extraer cada archivo en el directorio de salida"
   ]
  },
  {
   "cell_type": "code",
   "execution_count": 15,
   "id": "f6641ac6",
   "metadata": {},
   "outputs": [
    {
     "data": {
      "text/plain": [
       "'SUOMI_VIIRS_C2_Central_America_48h.zip'"
      ]
     },
     "execution_count": 15,
     "metadata": {},
     "output_type": "execute_result"
    }
   ],
   "source": [
    "# Lo mismo para FIRMS\n",
    "url = 'https://firms.modaps.eosdis.nasa.gov/data/active_fire/suomi-npp-viirs-c2/shapes/zips/SUOMI_VIIRS_C2_Central_America_48h.zip'\n",
    "zip_name_firms = url.split('/')[-1]\n",
    "zip_name_firms"
   ]
  },
  {
   "cell_type": "code",
   "execution_count": 35,
   "id": "4881e5fb",
   "metadata": {},
   "outputs": [],
   "source": [
    "file = requests.get(url) # Descargar el archivo\n",
    "open(os.path.join(path_firms, zip_name_firms), 'wb').write(file.content) # Guardar el archivo\n",
    "file.close() # Cerrar la conexión"
   ]
  },
  {
   "cell_type": "code",
   "execution_count": null,
   "id": "216c79b7",
   "metadata": {},
   "outputs": [],
   "source": [
    "# Descomprimir el archivo\n",
    "zf = zipfile.ZipFile(os.path.join(path_firms, zip_name_firms), \"r\") # Abrir el archivo ZIP en modo lectura\n",
    "for i in zf.namelist(): # Listar los archivos dentro del ZIP\n",
    "    zf.extract(i, path = path_firms) # Extraer cada archivo en el directorio de salida"
   ]
  },
  {
   "cell_type": "markdown",
   "id": "55f81800",
   "metadata": {},
   "source": [
    "# Geopandas"
   ]
  },
  {
   "cell_type": "code",
   "execution_count": 16,
   "id": "c9b6a0a0",
   "metadata": {},
   "outputs": [],
   "source": [
    "import geopandas as gpd\n",
    "import matplotlib.pyplot as plt"
   ]
  },
  {
   "cell_type": "code",
   "execution_count": 17,
   "id": "56c8d8e0",
   "metadata": {},
   "outputs": [],
   "source": [
    "# Abrir el archivo shapefile con geopandas\n",
    "gdf_mex = gpd.read_file(os.path.join(path_entidades, zip_name_entidades.replace('.zip', '.shp')))"
   ]
  },
  {
   "cell_type": "code",
   "execution_count": 18,
   "id": "6d2da1d9",
   "metadata": {},
   "outputs": [
    {
     "data": {
      "text/html": [
       "<div>\n",
       "<style scoped>\n",
       "    .dataframe tbody tr th:only-of-type {\n",
       "        vertical-align: middle;\n",
       "    }\n",
       "\n",
       "    .dataframe tbody tr th {\n",
       "        vertical-align: top;\n",
       "    }\n",
       "\n",
       "    .dataframe thead th {\n",
       "        text-align: right;\n",
       "    }\n",
       "</style>\n",
       "<table border=\"1\" class=\"dataframe\">\n",
       "  <thead>\n",
       "    <tr style=\"text-align: right;\">\n",
       "      <th></th>\n",
       "      <th>CVEGEO</th>\n",
       "      <th>CVE_ENT</th>\n",
       "      <th>NOMGEO</th>\n",
       "      <th>CVE_CAP</th>\n",
       "      <th>NOM_CAP</th>\n",
       "      <th>COV_</th>\n",
       "      <th>COV_ID</th>\n",
       "      <th>AREA</th>\n",
       "      <th>PERIMETER</th>\n",
       "      <th>geometry</th>\n",
       "    </tr>\n",
       "  </thead>\n",
       "  <tbody>\n",
       "    <tr>\n",
       "      <th>0</th>\n",
       "      <td>01</td>\n",
       "      <td>01</td>\n",
       "      <td>Aguascalientes</td>\n",
       "      <td>10001</td>\n",
       "      <td>Aguascalientes</td>\n",
       "      <td>0</td>\n",
       "      <td>1</td>\n",
       "      <td>5558.673843</td>\n",
       "      <td>423.005983</td>\n",
       "      <td>POLYGON ((-102.29739 22.45527, -102.29554 22.4...</td>\n",
       "    </tr>\n",
       "    <tr>\n",
       "      <th>1</th>\n",
       "      <td>02</td>\n",
       "      <td>02</td>\n",
       "      <td>Baja California</td>\n",
       "      <td>20001</td>\n",
       "      <td>Mexicali</td>\n",
       "      <td>1</td>\n",
       "      <td>2</td>\n",
       "      <td>73406.158609</td>\n",
       "      <td>3104.096911</td>\n",
       "      <td>MULTIPOLYGON (((-114.11561 28.09639, -114.1152...</td>\n",
       "    </tr>\n",
       "    <tr>\n",
       "      <th>2</th>\n",
       "      <td>03</td>\n",
       "      <td>03</td>\n",
       "      <td>Baja California Sur</td>\n",
       "      <td>30001</td>\n",
       "      <td>La Paz</td>\n",
       "      <td>2</td>\n",
       "      <td>3</td>\n",
       "      <td>71407.136932</td>\n",
       "      <td>5094.093396</td>\n",
       "      <td>MULTIPOLYGON (((-109.89451 22.87476, -109.8946...</td>\n",
       "    </tr>\n",
       "    <tr>\n",
       "      <th>3</th>\n",
       "      <td>04</td>\n",
       "      <td>04</td>\n",
       "      <td>Campeche</td>\n",
       "      <td>20001</td>\n",
       "      <td>San Francisco de Campeche</td>\n",
       "      <td>3</td>\n",
       "      <td>4</td>\n",
       "      <td>57269.828744</td>\n",
       "      <td>1566.405110</td>\n",
       "      <td>MULTIPOLYGON (((-91.9565 20.197, -91.95636 20....</td>\n",
       "    </tr>\n",
       "    <tr>\n",
       "      <th>4</th>\n",
       "      <td>05</td>\n",
       "      <td>05</td>\n",
       "      <td>Coahuila de Zaragoza</td>\n",
       "      <td>300001</td>\n",
       "      <td>Saltillo</td>\n",
       "      <td>4</td>\n",
       "      <td>5</td>\n",
       "      <td>150671.222993</td>\n",
       "      <td>2414.885297</td>\n",
       "      <td>POLYGON ((-102.31549 29.88, -102.31509 29.8799...</td>\n",
       "    </tr>\n",
       "  </tbody>\n",
       "</table>\n",
       "</div>"
      ],
      "text/plain": [
       "  CVEGEO CVE_ENT                NOMGEO  CVE_CAP                    NOM_CAP  \\\n",
       "0     01      01        Aguascalientes    10001             Aguascalientes   \n",
       "1     02      02       Baja California    20001                   Mexicali   \n",
       "2     03      03   Baja California Sur    30001                     La Paz   \n",
       "3     04      04              Campeche    20001  San Francisco de Campeche   \n",
       "4     05      05  Coahuila de Zaragoza   300001                   Saltillo   \n",
       "\n",
       "   COV_  COV_ID           AREA    PERIMETER  \\\n",
       "0     0       1    5558.673843   423.005983   \n",
       "1     1       2   73406.158609  3104.096911   \n",
       "2     2       3   71407.136932  5094.093396   \n",
       "3     3       4   57269.828744  1566.405110   \n",
       "4     4       5  150671.222993  2414.885297   \n",
       "\n",
       "                                            geometry  \n",
       "0  POLYGON ((-102.29739 22.45527, -102.29554 22.4...  \n",
       "1  MULTIPOLYGON (((-114.11561 28.09639, -114.1152...  \n",
       "2  MULTIPOLYGON (((-109.89451 22.87476, -109.8946...  \n",
       "3  MULTIPOLYGON (((-91.9565 20.197, -91.95636 20....  \n",
       "4  POLYGON ((-102.31549 29.88, -102.31509 29.8799...  "
      ]
     },
     "execution_count": 18,
     "metadata": {},
     "output_type": "execute_result"
    }
   ],
   "source": [
    "gdf_mex.head()"
   ]
  },
  {
   "cell_type": "code",
   "execution_count": 19,
   "id": "3f2c9edf",
   "metadata": {},
   "outputs": [
    {
     "data": {
      "text/plain": [
       "<Geographic 2D CRS: EPSG:4326>\n",
       "Name: WGS 84\n",
       "Axis Info [ellipsoidal]:\n",
       "- Lat[north]: Geodetic latitude (degree)\n",
       "- Lon[east]: Geodetic longitude (degree)\n",
       "Area of Use:\n",
       "- name: World.\n",
       "- bounds: (-180.0, -90.0, 180.0, 90.0)\n",
       "Datum: World Geodetic System 1984 ensemble\n",
       "- Ellipsoid: WGS 84\n",
       "- Prime Meridian: Greenwich"
      ]
     },
     "execution_count": 19,
     "metadata": {},
     "output_type": "execute_result"
    }
   ],
   "source": [
    "# Ver su sistema de referencia espacial (CRS)\n",
    "gdf_mex.crs"
   ]
  },
  {
   "cell_type": "code",
   "execution_count": 20,
   "id": "2a111682",
   "metadata": {},
   "outputs": [
    {
     "data": {
      "text/plain": [
       "<Figure size 1200x600 with 0 Axes>"
      ]
     },
     "metadata": {},
     "output_type": "display_data"
    },
    {
     "data": {
      "image/png": "[encoded data removed]",
      "text/plain": [
       "<Figure size 640x480 with 1 Axes>"
      ]
     },
     "metadata": {},
     "output_type": "display_data"
    }
   ],
   "source": [
    "# Plot sencillo\n",
    "plt.figure(figsize=(12,6))\n",
    "gdf_mex.plot(column='AREA')\n",
    "plt.grid()\n",
    "plt.show()"
   ]
  },
  {
   "cell_type": "code",
   "execution_count": 21,
   "id": "8f2e13a8",
   "metadata": {},
   "outputs": [
    {
     "data": {
      "text/html": [
       "<div>\n",
       "<style scoped>\n",
       "    .dataframe tbody tr th:only-of-type {\n",
       "        vertical-align: middle;\n",
       "    }\n",
       "\n",
       "    .dataframe tbody tr th {\n",
       "        vertical-align: top;\n",
       "    }\n",
       "\n",
       "    .dataframe thead th {\n",
       "        text-align: right;\n",
       "    }\n",
       "</style>\n",
       "<table border=\"1\" class=\"dataframe\">\n",
       "  <thead>\n",
       "    <tr style=\"text-align: right;\">\n",
       "      <th></th>\n",
       "      <th>CVEGEO</th>\n",
       "      <th>CVE_ENT</th>\n",
       "      <th>NOMGEO</th>\n",
       "      <th>CVE_CAP</th>\n",
       "      <th>NOM_CAP</th>\n",
       "      <th>COV_</th>\n",
       "      <th>COV_ID</th>\n",
       "      <th>AREA</th>\n",
       "      <th>PERIMETER</th>\n",
       "      <th>geometry</th>\n",
       "    </tr>\n",
       "  </thead>\n",
       "  <tbody>\n",
       "    <tr>\n",
       "      <th>0</th>\n",
       "      <td>01</td>\n",
       "      <td>01</td>\n",
       "      <td>Aguascalientes</td>\n",
       "      <td>10001</td>\n",
       "      <td>Aguascalientes</td>\n",
       "      <td>0</td>\n",
       "      <td>1</td>\n",
       "      <td>5558.673843</td>\n",
       "      <td>423.005983</td>\n",
       "      <td>POLYGON ((-102.29739 22.45527, -102.29554 22.4...</td>\n",
       "    </tr>\n",
       "    <tr>\n",
       "      <th>1</th>\n",
       "      <td>02</td>\n",
       "      <td>02</td>\n",
       "      <td>Baja California</td>\n",
       "      <td>20001</td>\n",
       "      <td>Mexicali</td>\n",
       "      <td>1</td>\n",
       "      <td>2</td>\n",
       "      <td>73406.158609</td>\n",
       "      <td>3104.096911</td>\n",
       "      <td>MULTIPOLYGON (((-114.11561 28.09639, -114.1152...</td>\n",
       "    </tr>\n",
       "    <tr>\n",
       "      <th>2</th>\n",
       "      <td>03</td>\n",
       "      <td>03</td>\n",
       "      <td>Baja California Sur</td>\n",
       "      <td>30001</td>\n",
       "      <td>La Paz</td>\n",
       "      <td>2</td>\n",
       "      <td>3</td>\n",
       "      <td>71407.136932</td>\n",
       "      <td>5094.093396</td>\n",
       "      <td>MULTIPOLYGON (((-109.89451 22.87476, -109.8946...</td>\n",
       "    </tr>\n",
       "    <tr>\n",
       "      <th>3</th>\n",
       "      <td>04</td>\n",
       "      <td>04</td>\n",
       "      <td>Campeche</td>\n",
       "      <td>20001</td>\n",
       "      <td>San Francisco de Campeche</td>\n",
       "      <td>3</td>\n",
       "      <td>4</td>\n",
       "      <td>57269.828744</td>\n",
       "      <td>1566.405110</td>\n",
       "      <td>MULTIPOLYGON (((-91.9565 20.197, -91.95636 20....</td>\n",
       "    </tr>\n",
       "    <tr>\n",
       "      <th>4</th>\n",
       "      <td>05</td>\n",
       "      <td>05</td>\n",
       "      <td>Coahuila de Zaragoza</td>\n",
       "      <td>300001</td>\n",
       "      <td>Saltillo</td>\n",
       "      <td>4</td>\n",
       "      <td>5</td>\n",
       "      <td>150671.222993</td>\n",
       "      <td>2414.885297</td>\n",
       "      <td>POLYGON ((-102.31549 29.88, -102.31509 29.8799...</td>\n",
       "    </tr>\n",
       "  </tbody>\n",
       "</table>\n",
       "</div>"
      ],
      "text/plain": [
       "  CVEGEO CVE_ENT                NOMGEO  CVE_CAP                    NOM_CAP  \\\n",
       "0     01      01        Aguascalientes    10001             Aguascalientes   \n",
       "1     02      02       Baja California    20001                   Mexicali   \n",
       "2     03      03   Baja California Sur    30001                     La Paz   \n",
       "3     04      04              Campeche    20001  San Francisco de Campeche   \n",
       "4     05      05  Coahuila de Zaragoza   300001                   Saltillo   \n",
       "\n",
       "   COV_  COV_ID           AREA    PERIMETER  \\\n",
       "0     0       1    5558.673843   423.005983   \n",
       "1     1       2   73406.158609  3104.096911   \n",
       "2     2       3   71407.136932  5094.093396   \n",
       "3     3       4   57269.828744  1566.405110   \n",
       "4     4       5  150671.222993  2414.885297   \n",
       "\n",
       "                                            geometry  \n",
       "0  POLYGON ((-102.29739 22.45527, -102.29554 22.4...  \n",
       "1  MULTIPOLYGON (((-114.11561 28.09639, -114.1152...  \n",
       "2  MULTIPOLYGON (((-109.89451 22.87476, -109.8946...  \n",
       "3  MULTIPOLYGON (((-91.9565 20.197, -91.95636 20....  \n",
       "4  POLYGON ((-102.31549 29.88, -102.31509 29.8799...  "
      ]
     },
     "execution_count": 21,
     "metadata": {},
     "output_type": "execute_result"
    }
   ],
   "source": [
    "gdf_mex.head()"
   ]
  },
  {
   "cell_type": "code",
   "execution_count": 22,
   "id": "15795d94",
   "metadata": {},
   "outputs": [
    {
     "data": {
      "text/html": [
       "<div>\n",
       "<style scoped>\n",
       "    .dataframe tbody tr th:only-of-type {\n",
       "        vertical-align: middle;\n",
       "    }\n",
       "\n",
       "    .dataframe tbody tr th {\n",
       "        vertical-align: top;\n",
       "    }\n",
       "\n",
       "    .dataframe thead th {\n",
       "        text-align: right;\n",
       "    }\n",
       "</style>\n",
       "<table border=\"1\" class=\"dataframe\">\n",
       "  <thead>\n",
       "    <tr style=\"text-align: right;\">\n",
       "      <th></th>\n",
       "      <th>CVEGEO</th>\n",
       "      <th>CVE_ENT</th>\n",
       "      <th>NOMGEO</th>\n",
       "      <th>CVE_CAP</th>\n",
       "      <th>NOM_CAP</th>\n",
       "      <th>COV_</th>\n",
       "      <th>COV_ID</th>\n",
       "      <th>AREA</th>\n",
       "      <th>PERIMETER</th>\n",
       "      <th>geometry</th>\n",
       "    </tr>\n",
       "  </thead>\n",
       "  <tbody>\n",
       "    <tr>\n",
       "      <th>0</th>\n",
       "      <td>01</td>\n",
       "      <td>01</td>\n",
       "      <td>Aguascalientes</td>\n",
       "      <td>10001</td>\n",
       "      <td>Aguascalientes</td>\n",
       "      <td>0</td>\n",
       "      <td>1</td>\n",
       "      <td>5558.673843</td>\n",
       "      <td>423.005983</td>\n",
       "      <td>POLYGON ((-102.29739 22.45527, -102.29554 22.4...</td>\n",
       "    </tr>\n",
       "    <tr>\n",
       "      <th>1</th>\n",
       "      <td>02</td>\n",
       "      <td>02</td>\n",
       "      <td>Baja California</td>\n",
       "      <td>20001</td>\n",
       "      <td>Mexicali</td>\n",
       "      <td>1</td>\n",
       "      <td>2</td>\n",
       "      <td>73406.158609</td>\n",
       "      <td>3104.096911</td>\n",
       "      <td>MULTIPOLYGON (((-114.11561 28.09639, -114.1152...</td>\n",
       "    </tr>\n",
       "    <tr>\n",
       "      <th>2</th>\n",
       "      <td>03</td>\n",
       "      <td>03</td>\n",
       "      <td>Baja California Sur</td>\n",
       "      <td>30001</td>\n",
       "      <td>La Paz</td>\n",
       "      <td>2</td>\n",
       "      <td>3</td>\n",
       "      <td>71407.136932</td>\n",
       "      <td>5094.093396</td>\n",
       "      <td>MULTIPOLYGON (((-109.89451 22.87476, -109.8946...</td>\n",
       "    </tr>\n",
       "    <tr>\n",
       "      <th>3</th>\n",
       "      <td>04</td>\n",
       "      <td>04</td>\n",
       "      <td>Campeche</td>\n",
       "      <td>20001</td>\n",
       "      <td>San Francisco de Campeche</td>\n",
       "      <td>3</td>\n",
       "      <td>4</td>\n",
       "      <td>57269.828744</td>\n",
       "      <td>1566.405110</td>\n",
       "      <td>MULTIPOLYGON (((-91.9565 20.197, -91.95636 20....</td>\n",
       "    </tr>\n",
       "    <tr>\n",
       "      <th>4</th>\n",
       "      <td>05</td>\n",
       "      <td>05</td>\n",
       "      <td>Coahuila de Zaragoza</td>\n",
       "      <td>300001</td>\n",
       "      <td>Saltillo</td>\n",
       "      <td>4</td>\n",
       "      <td>5</td>\n",
       "      <td>150671.222993</td>\n",
       "      <td>2414.885297</td>\n",
       "      <td>POLYGON ((-102.31549 29.88, -102.31509 29.8799...</td>\n",
       "    </tr>\n",
       "  </tbody>\n",
       "</table>\n",
       "</div>"
      ],
      "text/plain": [
       "  CVEGEO CVE_ENT                NOMGEO  CVE_CAP                    NOM_CAP  \\\n",
       "0     01      01        Aguascalientes    10001             Aguascalientes   \n",
       "1     02      02       Baja California    20001                   Mexicali   \n",
       "2     03      03   Baja California Sur    30001                     La Paz   \n",
       "3     04      04              Campeche    20001  San Francisco de Campeche   \n",
       "4     05      05  Coahuila de Zaragoza   300001                   Saltillo   \n",
       "\n",
       "   COV_  COV_ID           AREA    PERIMETER  \\\n",
       "0     0       1    5558.673843   423.005983   \n",
       "1     1       2   73406.158609  3104.096911   \n",
       "2     2       3   71407.136932  5094.093396   \n",
       "3     3       4   57269.828744  1566.405110   \n",
       "4     4       5  150671.222993  2414.885297   \n",
       "\n",
       "                                            geometry  \n",
       "0  POLYGON ((-102.29739 22.45527, -102.29554 22.4...  \n",
       "1  MULTIPOLYGON (((-114.11561 28.09639, -114.1152...  \n",
       "2  MULTIPOLYGON (((-109.89451 22.87476, -109.8946...  \n",
       "3  MULTIPOLYGON (((-91.9565 20.197, -91.95636 20....  \n",
       "4  POLYGON ((-102.31549 29.88, -102.31509 29.8799...  "
      ]
     },
     "execution_count": 22,
     "metadata": {},
     "output_type": "execute_result"
    }
   ],
   "source": [
    "# Corregir la codificación de NOMGEO\n",
    "gdf_mex['NOMGEO'] = gdf_mex['NOMGEO'].str.encode('latin1').str.decode('utf-8')\n",
    "gdf_mex.head()"
   ]
  },
  {
   "cell_type": "code",
   "execution_count": 24,
   "id": "1a8011fa",
   "metadata": {},
   "outputs": [
    {
     "data": {
      "text/plain": [
       "<Axes: >"
      ]
     },
     "execution_count": 24,
     "metadata": {},
     "output_type": "execute_result"
    },
    {
     "data": {
      "image/png": "[encoded data removed]",
      "text/plain": [
       "<Figure size 640x480 with 1 Axes>"
      ]
     },
     "metadata": {},
     "output_type": "display_data"
    }
   ],
   "source": [
    "# Quedarme con NOMGEO igual a México\n",
    "gdf_cdmx = gdf_mex[gdf_mex['NOMGEO'] == 'Ciudad de México']\n",
    "gdf_cdmx.plot()"
   ]
  },
  {
   "cell_type": "code",
   "execution_count": 50,
   "id": "59fa03ee",
   "metadata": {},
   "outputs": [
    {
     "data": {
      "text/html": [
       "<div>\n",
       "<style scoped>\n",
       "    .dataframe tbody tr th:only-of-type {\n",
       "        vertical-align: middle;\n",
       "    }\n",
       "\n",
       "    .dataframe tbody tr th {\n",
       "        vertical-align: top;\n",
       "    }\n",
       "\n",
       "    .dataframe thead th {\n",
       "        text-align: right;\n",
       "    }\n",
       "</style>\n",
       "<table border=\"1\" class=\"dataframe\">\n",
       "  <thead>\n",
       "    <tr style=\"text-align: right;\">\n",
       "      <th></th>\n",
       "      <th>CVEGEO</th>\n",
       "      <th>CVE_ENT</th>\n",
       "      <th>NOMGEO</th>\n",
       "      <th>CVE_CAP</th>\n",
       "      <th>NOM_CAP</th>\n",
       "      <th>COV_</th>\n",
       "      <th>COV_ID</th>\n",
       "      <th>AREA</th>\n",
       "      <th>PERIMETER</th>\n",
       "      <th>geometry</th>\n",
       "    </tr>\n",
       "  </thead>\n",
       "  <tbody>\n",
       "    <tr>\n",
       "      <th>8</th>\n",
       "      <td>09</td>\n",
       "      <td>09</td>\n",
       "      <td>Ciudad de México</td>\n",
       "      <td>0</td>\n",
       "      <td>None</td>\n",
       "      <td>8</td>\n",
       "      <td>9</td>\n",
       "      <td>1486.183217</td>\n",
       "      <td>206.876266</td>\n",
       "      <td>POLYGON ((-99.12215 19.59248, -99.12078 19.592...</td>\n",
       "    </tr>\n",
       "  </tbody>\n",
       "</table>\n",
       "</div>"
      ],
      "text/plain": [
       "  CVEGEO CVE_ENT            NOMGEO  CVE_CAP NOM_CAP  COV_  COV_ID  \\\n",
       "8     09      09  Ciudad de México        0    None     8       9   \n",
       "\n",
       "          AREA   PERIMETER                                           geometry  \n",
       "8  1486.183217  206.876266  POLYGON ((-99.12215 19.59248, -99.12078 19.592...  "
      ]
     },
     "execution_count": 50,
     "metadata": {},
     "output_type": "execute_result"
    }
   ],
   "source": [
    "gdf_cdmx"
   ]
  },
  {
   "cell_type": "code",
   "execution_count": 25,
   "id": "e6de33b1",
   "metadata": {},
   "outputs": [
    {
     "name": "stderr",
     "output_type": "stream",
     "text": [
      "C:\\Users\\UEC\\AppData\\Local\\Temp\\ipykernel_2540\\1208425092.py:2: UserWarning: Geometry is in a geographic CRS. Results from 'area' are likely incorrect. Use 'GeoSeries.to_crs()' to re-project geometries to a projected CRS before this operation.\n",
      "\n",
      "  gdf_cdmx.geometry.area\n"
     ]
    },
    {
     "data": {
      "application/vnd.microsoft.datawrangler.viewer.v0+json": {
       "columns": [
        {
         "name": "index",
         "rawType": "int64",
         "type": "integer"
        },
        {
         "name": "0",
         "rawType": "float64",
         "type": "float"
        }
       ],
       "ref": "c6260edf-4d50-4720-adbb-3c317e5ae03d",
       "rows": [
        [
         "8",
         "0.12842277365135138"
        ]
       ],
       "shape": {
        "columns": 1,
        "rows": 1
       }
      },
      "text/plain": [
       "8    0.128423\n",
       "dtype: float64"
      ]
     },
     "execution_count": 25,
     "metadata": {},
     "output_type": "execute_result"
    }
   ],
   "source": [
    "# Área de la CDMX\n",
    "gdf_cdmx.geometry.area"
   ]
  },
  {
   "cell_type": "code",
   "execution_count": 26,
   "id": "71568044",
   "metadata": {},
   "outputs": [
    {
     "data": {
      "application/vnd.microsoft.datawrangler.viewer.v0+json": {
       "columns": [
        {
         "name": "index",
         "rawType": "int64",
         "type": "integer"
        },
        {
         "name": "0",
         "rawType": "float64",
         "type": "float"
        }
       ],
       "ref": "f91259a9-af07-405c-ba97-590a2cfc7ad8",
       "rows": [
        [
         "8",
         "1486.183216796739"
        ]
       ],
       "shape": {
        "columns": 1,
        "rows": 1
       }
      },
      "text/plain": [
       "8    1486.183217\n",
       "dtype: float64"
      ]
     },
     "execution_count": 26,
     "metadata": {},
     "output_type": "execute_result"
    }
   ],
   "source": [
    "# Reproyectar a CCL de México (EPSG:6372)\n",
    "gdf_cdmx_ccl = gdf_cdmx.to_crs(epsg = 6372)\n",
    "gdf_cdmx_ccl.geometry.area / 1e6"
   ]
  },
  {
   "cell_type": "markdown",
   "id": "2440f80c",
   "metadata": {},
   "source": [
    "[AEA vs CCL](https://map-projections.net/compare.php?p1=albers-equal-area-conic&p2=lambert-conformal-conic)\n",
    "\n",
    "[proj.org](https://proj.org/en/stable/index.html)"
   ]
  },
  {
   "cell_type": "code",
   "execution_count": 27,
   "id": "c6cf27d5",
   "metadata": {},
   "outputs": [
    {
     "data": {
      "application/vnd.microsoft.datawrangler.viewer.v0+json": {
       "columns": [
        {
         "name": "index",
         "rawType": "int64",
         "type": "integer"
        },
        {
         "name": "0",
         "rawType": "float64",
         "type": "float"
        }
       ],
       "ref": "56434b05-bff4-4e54-87c4-3a0ad6d5fbfc",
       "rows": [
        [
         "8",
         "1494.312514508385"
        ]
       ],
       "shape": {
        "columns": 1,
        "rows": 1
       }
      },
      "text/plain": [
       "8    1494.312515\n",
       "dtype: float64"
      ]
     },
     "execution_count": 27,
     "metadata": {},
     "output_type": "execute_result"
    }
   ],
   "source": [
    "# Ahora reproyectar a Albers Equal Area Conic (AEA) para México)\n",
    "aea_mexico = '+proj=aea +lat_0=12 +lon_0=-102 +lat_1=17.5 +lat_2=29.5 +x_0=2500000 +y_0=0 +ellps=GRS80 +towgs84=0,0,0,0,0,0,0 +units=m +no_defs +type=crs'\n",
    "gdf_cdmx_aea = gdf_cdmx.to_crs(aea_mexico)\n",
    "gdf_cdmx_aea.geometry.area / 1e6"
   ]
  },
  {
   "cell_type": "code",
   "execution_count": 28,
   "id": "eccbd18a",
   "metadata": {},
   "outputs": [],
   "source": [
    "# Reproyecta a UTM zona 14N (EPSG:32614)\n",
    "gdf_cdmx_utm = gdf_cdmx.to_crs(epsg = 32614)"
   ]
  },
  {
   "cell_type": "code",
   "execution_count": 29,
   "id": "bd3a9bdb",
   "metadata": {},
   "outputs": [
    {
     "data": {
      "text/plain": [
       "<Projected CRS: EPSG:32614>\n",
       "Name: WGS 84 / UTM zone 14N\n",
       "Axis Info [cartesian]:\n",
       "- E[east]: Easting (metre)\n",
       "- N[north]: Northing (metre)\n",
       "Area of Use:\n",
       "- name: Between 102°W and 96°W, northern hemisphere between equator and 84°N, onshore and offshore. Canada - Manitoba; Nunavut; Saskatchewan. Mexico. United States (USA).\n",
       "- bounds: (-102.0, 0.0, -96.0, 84.0)\n",
       "Coordinate Operation:\n",
       "- name: UTM zone 14N\n",
       "- method: Transverse Mercator\n",
       "Datum: World Geodetic System 1984 ensemble\n",
       "- Ellipsoid: WGS 84\n",
       "- Prime Meridian: Greenwich"
      ]
     },
     "execution_count": 29,
     "metadata": {},
     "output_type": "execute_result"
    }
   ],
   "source": [
    "gdf_cdmx_utm.crs"
   ]
  },
  {
   "cell_type": "code",
   "execution_count": 30,
   "id": "e050899a",
   "metadata": {},
   "outputs": [
    {
     "data": {
      "application/vnd.microsoft.datawrangler.viewer.v0+json": {
       "columns": [
        {
         "name": "index",
         "rawType": "int64",
         "type": "integer"
        },
        {
         "name": "0",
         "rawType": "float64",
         "type": "float"
        }
       ],
       "ref": "c83119a5-56e5-4f2d-b1c1-06921bee2624",
       "rows": [
        [
         "8",
         "1493.1292933999964"
        ]
       ],
       "shape": {
        "columns": 1,
        "rows": 1
       }
      },
      "text/plain": [
       "8    1493.129293\n",
       "dtype: float64"
      ]
     },
     "execution_count": 30,
     "metadata": {},
     "output_type": "execute_result"
    }
   ],
   "source": [
    "gdf_cdmx_utm.geometry.area / 1e6"
   ]
  },
  {
   "cell_type": "code",
   "execution_count": 31,
   "id": "ffa275c2",
   "metadata": {},
   "outputs": [
    {
     "data": {
      "text/plain": [
       "<Bound CRS: +proj=aea +lat_0=12 +lon_0=-102 +lat_1=17.5 +lat_2 ...>\n",
       "Name: unknown\n",
       "Axis Info [cartesian]:\n",
       "- E[east]: Easting (metre)\n",
       "- N[north]: Northing (metre)\n",
       "Area of Use:\n",
       "- undefined\n",
       "Coordinate Operation:\n",
       "- name: Transformation from unknown to WGS84\n",
       "- method: Position Vector transformation (geog2D domain)\n",
       "Datum: Unknown based on GRS 1980 ellipsoid using towgs84=0,0,0,0,0,0,0\n",
       "- Ellipsoid: GRS 1980\n",
       "- Prime Meridian: Greenwich\n",
       "Source CRS: unknown"
      ]
     },
     "execution_count": 31,
     "metadata": {},
     "output_type": "execute_result"
    }
   ],
   "source": [
    "# Reproyectar el gdf_mex a aea_mexico\n",
    "gdf_mex_aea = gdf_mex.to_crs(aea_mexico)\n",
    "gdf_mex_aea.crs"
   ]
  },
  {
   "cell_type": "code",
   "execution_count": 34,
   "id": "b74a4a57",
   "metadata": {},
   "outputs": [
    {
     "data": {
      "text/html": [
       "<div>\n",
       "<style scoped>\n",
       "    .dataframe tbody tr th:only-of-type {\n",
       "        vertical-align: middle;\n",
       "    }\n",
       "\n",
       "    .dataframe tbody tr th {\n",
       "        vertical-align: top;\n",
       "    }\n",
       "\n",
       "    .dataframe thead th {\n",
       "        text-align: right;\n",
       "    }\n",
       "</style>\n",
       "<table border=\"1\" class=\"dataframe\">\n",
       "  <thead>\n",
       "    <tr style=\"text-align: right;\">\n",
       "      <th></th>\n",
       "      <th>CVEGEO</th>\n",
       "      <th>CVE_ENT</th>\n",
       "      <th>NOMGEO</th>\n",
       "      <th>CVE_CAP</th>\n",
       "      <th>NOM_CAP</th>\n",
       "      <th>COV_</th>\n",
       "      <th>COV_ID</th>\n",
       "      <th>AREA</th>\n",
       "      <th>PERIMETER</th>\n",
       "      <th>geometry</th>\n",
       "      <th>area_aea</th>\n",
       "    </tr>\n",
       "  </thead>\n",
       "  <tbody>\n",
       "    <tr>\n",
       "      <th>0</th>\n",
       "      <td>01</td>\n",
       "      <td>01</td>\n",
       "      <td>Aguascalientes</td>\n",
       "      <td>10001</td>\n",
       "      <td>Aguascalientes</td>\n",
       "      <td>0</td>\n",
       "      <td>1</td>\n",
       "      <td>5558.673843</td>\n",
       "      <td>423.005983</td>\n",
       "      <td>POLYGON ((2469549.901 1155213.63, 2469737.257 ...</td>\n",
       "      <td>5615.671162</td>\n",
       "    </tr>\n",
       "    <tr>\n",
       "      <th>1</th>\n",
       "      <td>02</td>\n",
       "      <td>02</td>\n",
       "      <td>Baja California</td>\n",
       "      <td>20001</td>\n",
       "      <td>Mexicali</td>\n",
       "      <td>1</td>\n",
       "      <td>2</td>\n",
       "      <td>73406.158609</td>\n",
       "      <td>3104.096911</td>\n",
       "      <td>MULTIPOLYGON (((1313523.697 1832773.748, 13135...</td>\n",
       "      <td>73053.826390</td>\n",
       "    </tr>\n",
       "    <tr>\n",
       "      <th>2</th>\n",
       "      <td>03</td>\n",
       "      <td>03</td>\n",
       "      <td>Baja California Sur</td>\n",
       "      <td>30001</td>\n",
       "      <td>La Paz</td>\n",
       "      <td>2</td>\n",
       "      <td>3</td>\n",
       "      <td>71407.136932</td>\n",
       "      <td>5094.093396</td>\n",
       "      <td>MULTIPOLYGON (((1694633.841 1223893.697, 16946...</td>\n",
       "      <td>72023.937389</td>\n",
       "    </tr>\n",
       "    <tr>\n",
       "      <th>3</th>\n",
       "      <td>04</td>\n",
       "      <td>04</td>\n",
       "      <td>Campeche</td>\n",
       "      <td>20001</td>\n",
       "      <td>San Francisco de Campeche</td>\n",
       "      <td>3</td>\n",
       "      <td>4</td>\n",
       "      <td>57269.828744</td>\n",
       "      <td>1566.405110</td>\n",
       "      <td>MULTIPOLYGON (((3544976.076 940326.527, 354499...</td>\n",
       "      <td>57508.007322</td>\n",
       "    </tr>\n",
       "    <tr>\n",
       "      <th>4</th>\n",
       "      <td>05</td>\n",
       "      <td>05</td>\n",
       "      <td>Coahuila de Zaragoza</td>\n",
       "      <td>300001</td>\n",
       "      <td>Saltillo</td>\n",
       "      <td>4</td>\n",
       "      <td>5</td>\n",
       "      <td>150671.222993</td>\n",
       "      <td>2414.885297</td>\n",
       "      <td>POLYGON ((2469500.425 1980889.78, 2469538.912 ...</td>\n",
       "      <td>151594.619712</td>\n",
       "    </tr>\n",
       "  </tbody>\n",
       "</table>\n",
       "</div>"
      ],
      "text/plain": [
       "  CVEGEO CVE_ENT                NOMGEO  CVE_CAP                    NOM_CAP  \\\n",
       "0     01      01        Aguascalientes    10001             Aguascalientes   \n",
       "1     02      02       Baja California    20001                   Mexicali   \n",
       "2     03      03   Baja California Sur    30001                     La Paz   \n",
       "3     04      04              Campeche    20001  San Francisco de Campeche   \n",
       "4     05      05  Coahuila de Zaragoza   300001                   Saltillo   \n",
       "\n",
       "   COV_  COV_ID           AREA    PERIMETER  \\\n",
       "0     0       1    5558.673843   423.005983   \n",
       "1     1       2   73406.158609  3104.096911   \n",
       "2     2       3   71407.136932  5094.093396   \n",
       "3     3       4   57269.828744  1566.405110   \n",
       "4     4       5  150671.222993  2414.885297   \n",
       "\n",
       "                                            geometry       area_aea  \n",
       "0  POLYGON ((2469549.901 1155213.63, 2469737.257 ...    5615.671162  \n",
       "1  MULTIPOLYGON (((1313523.697 1832773.748, 13135...   73053.826390  \n",
       "2  MULTIPOLYGON (((1694633.841 1223893.697, 16946...   72023.937389  \n",
       "3  MULTIPOLYGON (((3544976.076 940326.527, 354499...   57508.007322  \n",
       "4  POLYGON ((2469500.425 1980889.78, 2469538.912 ...  151594.619712  "
      ]
     },
     "execution_count": 34,
     "metadata": {},
     "output_type": "execute_result"
    }
   ],
   "source": [
    "# Agregar una nueva columna con el área en km²\n",
    "gdf_mex_aea['area_aea'] = gdf_mex_aea.geometry.area / 1e6\n",
    "gdf_mex_aea.head()"
   ]
  },
  {
   "cell_type": "code",
   "execution_count": 36,
   "id": "9951a095",
   "metadata": {},
   "outputs": [
    {
     "data": {
      "text/html": [
       "<div>\n",
       "<style scoped>\n",
       "    .dataframe tbody tr th:only-of-type {\n",
       "        vertical-align: middle;\n",
       "    }\n",
       "\n",
       "    .dataframe tbody tr th {\n",
       "        vertical-align: top;\n",
       "    }\n",
       "\n",
       "    .dataframe thead th {\n",
       "        text-align: right;\n",
       "    }\n",
       "</style>\n",
       "<table border=\"1\" class=\"dataframe\">\n",
       "  <thead>\n",
       "    <tr style=\"text-align: right;\">\n",
       "      <th></th>\n",
       "      <th>CVEGEO</th>\n",
       "      <th>CVE_ENT</th>\n",
       "      <th>NOMGEO</th>\n",
       "      <th>CVE_CAP</th>\n",
       "      <th>NOM_CAP</th>\n",
       "      <th>COV_</th>\n",
       "      <th>COV_ID</th>\n",
       "      <th>AREA</th>\n",
       "      <th>PERIMETER</th>\n",
       "      <th>geometry</th>\n",
       "      <th>area_aea</th>\n",
       "      <th>dif_area</th>\n",
       "    </tr>\n",
       "  </thead>\n",
       "  <tbody>\n",
       "    <tr>\n",
       "      <th>0</th>\n",
       "      <td>01</td>\n",
       "      <td>01</td>\n",
       "      <td>Aguascalientes</td>\n",
       "      <td>10001</td>\n",
       "      <td>Aguascalientes</td>\n",
       "      <td>0</td>\n",
       "      <td>1</td>\n",
       "      <td>5558.673843</td>\n",
       "      <td>423.005983</td>\n",
       "      <td>POLYGON ((2469549.901 1155213.63, 2469737.257 ...</td>\n",
       "      <td>5615.671162</td>\n",
       "      <td>-56.997319</td>\n",
       "    </tr>\n",
       "    <tr>\n",
       "      <th>1</th>\n",
       "      <td>02</td>\n",
       "      <td>02</td>\n",
       "      <td>Baja California</td>\n",
       "      <td>20001</td>\n",
       "      <td>Mexicali</td>\n",
       "      <td>1</td>\n",
       "      <td>2</td>\n",
       "      <td>73406.158609</td>\n",
       "      <td>3104.096911</td>\n",
       "      <td>MULTIPOLYGON (((1313523.697 1832773.748, 13135...</td>\n",
       "      <td>73053.826390</td>\n",
       "      <td>352.332219</td>\n",
       "    </tr>\n",
       "    <tr>\n",
       "      <th>2</th>\n",
       "      <td>03</td>\n",
       "      <td>03</td>\n",
       "      <td>Baja California Sur</td>\n",
       "      <td>30001</td>\n",
       "      <td>La Paz</td>\n",
       "      <td>2</td>\n",
       "      <td>3</td>\n",
       "      <td>71407.136932</td>\n",
       "      <td>5094.093396</td>\n",
       "      <td>MULTIPOLYGON (((1694633.841 1223893.697, 16946...</td>\n",
       "      <td>72023.937389</td>\n",
       "      <td>-616.800456</td>\n",
       "    </tr>\n",
       "    <tr>\n",
       "      <th>3</th>\n",
       "      <td>04</td>\n",
       "      <td>04</td>\n",
       "      <td>Campeche</td>\n",
       "      <td>20001</td>\n",
       "      <td>San Francisco de Campeche</td>\n",
       "      <td>3</td>\n",
       "      <td>4</td>\n",
       "      <td>57269.828744</td>\n",
       "      <td>1566.405110</td>\n",
       "      <td>MULTIPOLYGON (((3544976.076 940326.527, 354499...</td>\n",
       "      <td>57508.007322</td>\n",
       "      <td>-238.178577</td>\n",
       "    </tr>\n",
       "    <tr>\n",
       "      <th>4</th>\n",
       "      <td>05</td>\n",
       "      <td>05</td>\n",
       "      <td>Coahuila de Zaragoza</td>\n",
       "      <td>300001</td>\n",
       "      <td>Saltillo</td>\n",
       "      <td>4</td>\n",
       "      <td>5</td>\n",
       "      <td>150671.222993</td>\n",
       "      <td>2414.885297</td>\n",
       "      <td>POLYGON ((2469500.425 1980889.78, 2469538.912 ...</td>\n",
       "      <td>151594.619712</td>\n",
       "      <td>-923.396719</td>\n",
       "    </tr>\n",
       "  </tbody>\n",
       "</table>\n",
       "</div>"
      ],
      "text/plain": [
       "  CVEGEO CVE_ENT                NOMGEO  CVE_CAP                    NOM_CAP  \\\n",
       "0     01      01        Aguascalientes    10001             Aguascalientes   \n",
       "1     02      02       Baja California    20001                   Mexicali   \n",
       "2     03      03   Baja California Sur    30001                     La Paz   \n",
       "3     04      04              Campeche    20001  San Francisco de Campeche   \n",
       "4     05      05  Coahuila de Zaragoza   300001                   Saltillo   \n",
       "\n",
       "   COV_  COV_ID           AREA    PERIMETER  \\\n",
       "0     0       1    5558.673843   423.005983   \n",
       "1     1       2   73406.158609  3104.096911   \n",
       "2     2       3   71407.136932  5094.093396   \n",
       "3     3       4   57269.828744  1566.405110   \n",
       "4     4       5  150671.222993  2414.885297   \n",
       "\n",
       "                                            geometry       area_aea  \\\n",
       "0  POLYGON ((2469549.901 1155213.63, 2469737.257 ...    5615.671162   \n",
       "1  MULTIPOLYGON (((1313523.697 1832773.748, 13135...   73053.826390   \n",
       "2  MULTIPOLYGON (((1694633.841 1223893.697, 16946...   72023.937389   \n",
       "3  MULTIPOLYGON (((3544976.076 940326.527, 354499...   57508.007322   \n",
       "4  POLYGON ((2469500.425 1980889.78, 2469538.912 ...  151594.619712   \n",
       "\n",
       "     dif_area  \n",
       "0  -56.997319  \n",
       "1  352.332219  \n",
       "2 -616.800456  \n",
       "3 -238.178577  \n",
       "4 -923.396719  "
      ]
     },
     "execution_count": 36,
     "metadata": {},
     "output_type": "execute_result"
    }
   ],
   "source": [
    "# Sacar la diferencia entre el área original AREA que esta en CCL y la reproyectada AEA\n",
    "gdf_mex_aea['dif_area'] = gdf_mex_aea['AREA'] - gdf_mex_aea['area_aea']\n",
    "gdf_mex_aea.head()"
   ]
  },
  {
   "cell_type": "code",
   "execution_count": 38,
   "id": "93496721",
   "metadata": {},
   "outputs": [
    {
     "data": {
      "text/plain": [
       "geopandas.geodataframe.GeoDataFrame"
      ]
     },
     "execution_count": 38,
     "metadata": {},
     "output_type": "execute_result"
    }
   ],
   "source": [
    "# Crear un nuevo gdf con las columnas NOMGEO y area_km2 y su geometría\n",
    "gdf_select = gdf_mex_aea[['NOMGEO', 'AREA', 'area_aea', 'dif_area', 'geometry']]\n",
    "type(gdf_select)"
   ]
  },
  {
   "cell_type": "code",
   "execution_count": 40,
   "id": "de70c0ea",
   "metadata": {},
   "outputs": [
    {
     "data": {
      "text/html": [
       "<div>\n",
       "<style scoped>\n",
       "    .dataframe tbody tr th:only-of-type {\n",
       "        vertical-align: middle;\n",
       "    }\n",
       "\n",
       "    .dataframe tbody tr th {\n",
       "        vertical-align: top;\n",
       "    }\n",
       "\n",
       "    .dataframe thead th {\n",
       "        text-align: right;\n",
       "    }\n",
       "</style>\n",
       "<table border=\"1\" class=\"dataframe\">\n",
       "  <thead>\n",
       "    <tr style=\"text-align: right;\">\n",
       "      <th></th>\n",
       "      <th>entidad</th>\n",
       "      <th>area_ccl</th>\n",
       "      <th>area_aea</th>\n",
       "      <th>dif_area</th>\n",
       "      <th>geometry</th>\n",
       "    </tr>\n",
       "  </thead>\n",
       "  <tbody>\n",
       "    <tr>\n",
       "      <th>0</th>\n",
       "      <td>Aguascalientes</td>\n",
       "      <td>5558.673843</td>\n",
       "      <td>5615.671162</td>\n",
       "      <td>-56.997319</td>\n",
       "      <td>POLYGON ((2469549.901 1155213.63, 2469737.257 ...</td>\n",
       "    </tr>\n",
       "    <tr>\n",
       "      <th>1</th>\n",
       "      <td>Baja California</td>\n",
       "      <td>73406.158609</td>\n",
       "      <td>73053.826390</td>\n",
       "      <td>352.332219</td>\n",
       "      <td>MULTIPOLYGON (((1313523.697 1832773.748, 13135...</td>\n",
       "    </tr>\n",
       "    <tr>\n",
       "      <th>2</th>\n",
       "      <td>Baja California Sur</td>\n",
       "      <td>71407.136932</td>\n",
       "      <td>72023.937389</td>\n",
       "      <td>-616.800456</td>\n",
       "      <td>MULTIPOLYGON (((1694633.841 1223893.697, 16946...</td>\n",
       "    </tr>\n",
       "    <tr>\n",
       "      <th>3</th>\n",
       "      <td>Campeche</td>\n",
       "      <td>57269.828744</td>\n",
       "      <td>57508.007322</td>\n",
       "      <td>-238.178577</td>\n",
       "      <td>MULTIPOLYGON (((3544976.076 940326.527, 354499...</td>\n",
       "    </tr>\n",
       "    <tr>\n",
       "      <th>4</th>\n",
       "      <td>Coahuila de Zaragoza</td>\n",
       "      <td>150671.222993</td>\n",
       "      <td>151594.619712</td>\n",
       "      <td>-923.396719</td>\n",
       "      <td>POLYGON ((2469500.425 1980889.78, 2469538.912 ...</td>\n",
       "    </tr>\n",
       "  </tbody>\n",
       "</table>\n",
       "</div>"
      ],
      "text/plain": [
       "                entidad       area_ccl       area_aea    dif_area  \\\n",
       "0        Aguascalientes    5558.673843    5615.671162  -56.997319   \n",
       "1       Baja California   73406.158609   73053.826390  352.332219   \n",
       "2   Baja California Sur   71407.136932   72023.937389 -616.800456   \n",
       "3              Campeche   57269.828744   57508.007322 -238.178577   \n",
       "4  Coahuila de Zaragoza  150671.222993  151594.619712 -923.396719   \n",
       "\n",
       "                                            geometry  \n",
       "0  POLYGON ((2469549.901 1155213.63, 2469737.257 ...  \n",
       "1  MULTIPOLYGON (((1313523.697 1832773.748, 13135...  \n",
       "2  MULTIPOLYGON (((1694633.841 1223893.697, 16946...  \n",
       "3  MULTIPOLYGON (((3544976.076 940326.527, 354499...  \n",
       "4  POLYGON ((2469500.425 1980889.78, 2469538.912 ...  "
      ]
     },
     "execution_count": 40,
     "metadata": {},
     "output_type": "execute_result"
    }
   ],
   "source": [
    "# Cambiar el nombre de la columna de NOMGEO a entidad\n",
    "gdf_select_corr = gdf_select.rename(columns = {'NOMGEO':'entidad', 'AREA':'area_ccl'})\n",
    "gdf_select_corr.head()"
   ]
  },
  {
   "cell_type": "code",
   "execution_count": 41,
   "id": "2b09e0b7",
   "metadata": {},
   "outputs": [],
   "source": [
    "# Exportar el gdf corregido a un nuevo archivo geojson\n",
    "gdf_select_corr.to_file(os.path.join(path_entidades, 'entidades_federativas_area_correcta.geojson'), driver='GeoJSON')"
   ]
  },
  {
   "cell_type": "code",
   "execution_count": 43,
   "id": "4ee41421",
   "metadata": {},
   "outputs": [],
   "source": [
    "# Exportar el gdf original y el corregido a un nuevo archivo geopackage\n",
    "gdf_mex.to_file(os.path.join(path_entidades, 'entidades_federativas.gpkg'), layer = 'conabio', driver = 'GPKG')\n",
    "\n",
    "gdf_select_corr.to_file(os.path.join(path_entidades, 'entidades_federativas.gpkg'), layer = 'procesado', driver = 'GPKG')"
   ]
  },
  {
   "cell_type": "code",
   "execution_count": 45,
   "id": "6c3fe7ff",
   "metadata": {},
   "outputs": [],
   "source": [
    "# Abrir shape de FIRMS\n",
    "shapefile_path = os.path.join(path_firms, 'SUOMI_VIIRS_C2_Central_America_48h.shp')\n",
    "gdf_firms = gpd.read_file(shapefile_path)"
   ]
  },
  {
   "cell_type": "code",
   "execution_count": 46,
   "id": "d20e21dc",
   "metadata": {},
   "outputs": [
    {
     "data": {
      "text/html": [
       "<div>\n",
       "<style scoped>\n",
       "    .dataframe tbody tr th:only-of-type {\n",
       "        vertical-align: middle;\n",
       "    }\n",
       "\n",
       "    .dataframe tbody tr th {\n",
       "        vertical-align: top;\n",
       "    }\n",
       "\n",
       "    .dataframe thead th {\n",
       "        text-align: right;\n",
       "    }\n",
       "</style>\n",
       "<table border=\"1\" class=\"dataframe\">\n",
       "  <thead>\n",
       "    <tr style=\"text-align: right;\">\n",
       "      <th></th>\n",
       "      <th>LATITUDE</th>\n",
       "      <th>LONGITUDE</th>\n",
       "      <th>BRIGHT_TI4</th>\n",
       "      <th>SCAN</th>\n",
       "      <th>TRACK</th>\n",
       "      <th>ACQ_DATE</th>\n",
       "      <th>ACQ_TIME</th>\n",
       "      <th>SATELLITE</th>\n",
       "      <th>CONFIDENCE</th>\n",
       "      <th>VERSION</th>\n",
       "      <th>BRIGHT_TI5</th>\n",
       "      <th>FRP</th>\n",
       "      <th>DAYNIGHT</th>\n",
       "      <th>geometry</th>\n",
       "    </tr>\n",
       "  </thead>\n",
       "  <tbody>\n",
       "    <tr>\n",
       "      <th>0</th>\n",
       "      <td>33.49162</td>\n",
       "      <td>-117.61858</td>\n",
       "      <td>304.35</td>\n",
       "      <td>0.40</td>\n",
       "      <td>0.37</td>\n",
       "      <td>2025-10-06</td>\n",
       "      <td>0947</td>\n",
       "      <td>N</td>\n",
       "      <td>nominal</td>\n",
       "      <td>2.0NRT</td>\n",
       "      <td>286.44</td>\n",
       "      <td>0.79</td>\n",
       "      <td>N</td>\n",
       "      <td>POINT (-117.61858 33.49162)</td>\n",
       "    </tr>\n",
       "    <tr>\n",
       "      <th>1</th>\n",
       "      <td>32.15644</td>\n",
       "      <td>-115.11214</td>\n",
       "      <td>305.04</td>\n",
       "      <td>0.49</td>\n",
       "      <td>0.41</td>\n",
       "      <td>2025-10-06</td>\n",
       "      <td>0947</td>\n",
       "      <td>N</td>\n",
       "      <td>nominal</td>\n",
       "      <td>2.0NRT</td>\n",
       "      <td>287.38</td>\n",
       "      <td>0.93</td>\n",
       "      <td>N</td>\n",
       "      <td>POINT (-115.11214 32.15644)</td>\n",
       "    </tr>\n",
       "    <tr>\n",
       "      <th>2</th>\n",
       "      <td>30.49821</td>\n",
       "      <td>-109.62907</td>\n",
       "      <td>322.03</td>\n",
       "      <td>0.35</td>\n",
       "      <td>0.57</td>\n",
       "      <td>2025-10-06</td>\n",
       "      <td>0947</td>\n",
       "      <td>N</td>\n",
       "      <td>nominal</td>\n",
       "      <td>2.0NRT</td>\n",
       "      <td>286.94</td>\n",
       "      <td>1.75</td>\n",
       "      <td>N</td>\n",
       "      <td>POINT (-109.62907 30.49821)</td>\n",
       "    </tr>\n",
       "    <tr>\n",
       "      <th>3</th>\n",
       "      <td>30.49906</td>\n",
       "      <td>-109.63260</td>\n",
       "      <td>295.07</td>\n",
       "      <td>0.35</td>\n",
       "      <td>0.57</td>\n",
       "      <td>2025-10-06</td>\n",
       "      <td>0947</td>\n",
       "      <td>N</td>\n",
       "      <td>nominal</td>\n",
       "      <td>2.0NRT</td>\n",
       "      <td>284.31</td>\n",
       "      <td>1.82</td>\n",
       "      <td>N</td>\n",
       "      <td>POINT (-109.6326 30.49906)</td>\n",
       "    </tr>\n",
       "    <tr>\n",
       "      <th>4</th>\n",
       "      <td>29.79965</td>\n",
       "      <td>-109.65757</td>\n",
       "      <td>320.74</td>\n",
       "      <td>0.36</td>\n",
       "      <td>0.57</td>\n",
       "      <td>2025-10-06</td>\n",
       "      <td>0947</td>\n",
       "      <td>N</td>\n",
       "      <td>nominal</td>\n",
       "      <td>2.0NRT</td>\n",
       "      <td>286.59</td>\n",
       "      <td>1.05</td>\n",
       "      <td>N</td>\n",
       "      <td>POINT (-109.65757 29.79965)</td>\n",
       "    </tr>\n",
       "  </tbody>\n",
       "</table>\n",
       "</div>"
      ],
      "text/plain": [
       "   LATITUDE  LONGITUDE  BRIGHT_TI4  SCAN  TRACK   ACQ_DATE ACQ_TIME SATELLITE  \\\n",
       "0  33.49162 -117.61858      304.35  0.40   0.37 2025-10-06     0947         N   \n",
       "1  32.15644 -115.11214      305.04  0.49   0.41 2025-10-06     0947         N   \n",
       "2  30.49821 -109.62907      322.03  0.35   0.57 2025-10-06     0947         N   \n",
       "3  30.49906 -109.63260      295.07  0.35   0.57 2025-10-06     0947         N   \n",
       "4  29.79965 -109.65757      320.74  0.36   0.57 2025-10-06     0947         N   \n",
       "\n",
       "  CONFIDENCE VERSION  BRIGHT_TI5   FRP DAYNIGHT                     geometry  \n",
       "0    nominal  2.0NRT      286.44  0.79        N  POINT (-117.61858 33.49162)  \n",
       "1    nominal  2.0NRT      287.38  0.93        N  POINT (-115.11214 32.15644)  \n",
       "2    nominal  2.0NRT      286.94  1.75        N  POINT (-109.62907 30.49821)  \n",
       "3    nominal  2.0NRT      284.31  1.82        N   POINT (-109.6326 30.49906)  \n",
       "4    nominal  2.0NRT      286.59  1.05        N  POINT (-109.65757 29.79965)  "
      ]
     },
     "execution_count": 46,
     "metadata": {},
     "output_type": "execute_result"
    }
   ],
   "source": [
    "gdf_firms.head()"
   ]
  },
  {
   "cell_type": "code",
   "execution_count": 47,
   "id": "b960cc6d",
   "metadata": {},
   "outputs": [
    {
     "data": {
      "application/vnd.microsoft.datawrangler.viewer.v0+json": {
       "columns": [
        {
         "name": "index",
         "rawType": "object",
         "type": "string"
        },
        {
         "name": "LATITUDE",
         "rawType": "float64",
         "type": "float"
        },
        {
         "name": "LONGITUDE",
         "rawType": "float64",
         "type": "float"
        },
        {
         "name": "BRIGHT_TI4",
         "rawType": "float64",
         "type": "float"
        },
        {
         "name": "SCAN",
         "rawType": "float64",
         "type": "float"
        },
        {
         "name": "TRACK",
         "rawType": "float64",
         "type": "float"
        },
        {
         "name": "ACQ_DATE",
         "rawType": "object",
         "type": "unknown"
        },
        {
         "name": "BRIGHT_TI5",
         "rawType": "float64",
         "type": "float"
        },
        {
         "name": "FRP",
         "rawType": "float64",
         "type": "float"
        }
       ],
       "ref": "15b40bc3-464e-4d92-9e18-259e91da237b",
       "rows": [
        [
         "count",
         "1869.0",
         "1869.0",
         "1869.0",
         "1869.0",
         "1869.0",
         "1869",
         "1869.0",
         "1869.0"
        ],
        [
         "mean",
         "20.02833981273408",
         "-81.71981070626003",
         "323.21058319957194",
         "0.44806848582129477",
         "0.4550775815944355",
         "2025-10-06 16:46:13.675000",
         "292.1319154628143",
         "4.746554307116105"
        ],
        [
         "min",
         "7.00795",
         "-117.61904",
         "295.07",
         "0.32",
         "0.36",
         "2025-10-06 00:00:00",
         "249.65",
         "0.1"
        ],
        [
         "25%",
         "9.609",
         "-96.17067",
         "306.7",
         "0.39",
         "0.37",
         "2025-10-06 00:00:00",
         "287.58",
         "1.28"
        ],
        [
         "50%",
         "19.43882",
         "-84.30678",
         "327.27",
         "0.42",
         "0.42",
         "2025-10-07 00:00:00",
         "292.33",
         "2.75"
        ],
        [
         "75%",
         "31.07165",
         "-63.71056",
         "336.83",
         "0.49",
         "0.5",
         "2025-10-07 00:00:00",
         "298.83",
         "5.23"
        ],
        [
         "max",
         "33.49162",
         "-58.50101",
         "367.0",
         "0.77",
         "0.77",
         "2025-10-08 00:00:00",
         "328.68",
         "134.6"
        ],
        [
         "std",
         "10.437154683038054",
         "16.699539231687027",
         "17.02420004227501",
         "0.07663816662350864",
         "0.10638631512744756",
         null,
         "9.152205130390069",
         "8.632315604939718"
        ]
       ],
       "shape": {
        "columns": 8,
        "rows": 8
       }
      },
      "text/html": [
       "<div>\n",
       "<style scoped>\n",
       "    .dataframe tbody tr th:only-of-type {\n",
       "        vertical-align: middle;\n",
       "    }\n",
       "\n",
       "    .dataframe tbody tr th {\n",
       "        vertical-align: top;\n",
       "    }\n",
       "\n",
       "    .dataframe thead th {\n",
       "        text-align: right;\n",
       "    }\n",
       "</style>\n",
       "<table border=\"1\" class=\"dataframe\">\n",
       "  <thead>\n",
       "    <tr style=\"text-align: right;\">\n",
       "      <th></th>\n",
       "      <th>LATITUDE</th>\n",
       "      <th>LONGITUDE</th>\n",
       "      <th>BRIGHT_TI4</th>\n",
       "      <th>SCAN</th>\n",
       "      <th>TRACK</th>\n",
       "      <th>ACQ_DATE</th>\n",
       "      <th>BRIGHT_TI5</th>\n",
       "      <th>FRP</th>\n",
       "    </tr>\n",
       "  </thead>\n",
       "  <tbody>\n",
       "    <tr>\n",
       "      <th>count</th>\n",
       "      <td>1869.000000</td>\n",
       "      <td>1869.000000</td>\n",
       "      <td>1869.000000</td>\n",
       "      <td>1869.000000</td>\n",
       "      <td>1869.000000</td>\n",
       "      <td>1869</td>\n",
       "      <td>1869.000000</td>\n",
       "      <td>1869.000000</td>\n",
       "    </tr>\n",
       "    <tr>\n",
       "      <th>mean</th>\n",
       "      <td>20.028340</td>\n",
       "      <td>-81.719811</td>\n",
       "      <td>323.210583</td>\n",
       "      <td>0.448068</td>\n",
       "      <td>0.455078</td>\n",
       "      <td>2025-10-06 16:46:13.675000</td>\n",
       "      <td>292.131915</td>\n",
       "      <td>4.746554</td>\n",
       "    </tr>\n",
       "    <tr>\n",
       "      <th>min</th>\n",
       "      <td>7.007950</td>\n",
       "      <td>-117.619040</td>\n",
       "      <td>295.070000</td>\n",
       "      <td>0.320000</td>\n",
       "      <td>0.360000</td>\n",
       "      <td>2025-10-06 00:00:00</td>\n",
       "      <td>249.650000</td>\n",
       "      <td>0.100000</td>\n",
       "    </tr>\n",
       "    <tr>\n",
       "      <th>25%</th>\n",
       "      <td>9.609000</td>\n",
       "      <td>-96.170670</td>\n",
       "      <td>306.700000</td>\n",
       "      <td>0.390000</td>\n",
       "      <td>0.370000</td>\n",
       "      <td>2025-10-06 00:00:00</td>\n",
       "      <td>287.580000</td>\n",
       "      <td>1.280000</td>\n",
       "    </tr>\n",
       "    <tr>\n",
       "      <th>50%</th>\n",
       "      <td>19.438820</td>\n",
       "      <td>-84.306780</td>\n",
       "      <td>327.270000</td>\n",
       "      <td>0.420000</td>\n",
       "      <td>0.420000</td>\n",
       "      <td>2025-10-07 00:00:00</td>\n",
       "      <td>292.330000</td>\n",
       "      <td>2.750000</td>\n",
       "    </tr>\n",
       "    <tr>\n",
       "      <th>75%</th>\n",
       "      <td>31.071650</td>\n",
       "      <td>-63.710560</td>\n",
       "      <td>336.830000</td>\n",
       "      <td>0.490000</td>\n",
       "      <td>0.500000</td>\n",
       "      <td>2025-10-07 00:00:00</td>\n",
       "      <td>298.830000</td>\n",
       "      <td>5.230000</td>\n",
       "    </tr>\n",
       "    <tr>\n",
       "      <th>max</th>\n",
       "      <td>33.491620</td>\n",
       "      <td>-58.501010</td>\n",
       "      <td>367.000000</td>\n",
       "      <td>0.770000</td>\n",
       "      <td>0.770000</td>\n",
       "      <td>2025-10-08 00:00:00</td>\n",
       "      <td>328.680000</td>\n",
       "      <td>134.600000</td>\n",
       "    </tr>\n",
       "    <tr>\n",
       "      <th>std</th>\n",
       "      <td>10.437155</td>\n",
       "      <td>16.699539</td>\n",
       "      <td>17.024200</td>\n",
       "      <td>0.076638</td>\n",
       "      <td>0.106386</td>\n",
       "      <td>NaN</td>\n",
       "      <td>9.152205</td>\n",
       "      <td>8.632316</td>\n",
       "    </tr>\n",
       "  </tbody>\n",
       "</table>\n",
       "</div>"
      ],
      "text/plain": [
       "          LATITUDE    LONGITUDE   BRIGHT_TI4         SCAN        TRACK  \\\n",
       "count  1869.000000  1869.000000  1869.000000  1869.000000  1869.000000   \n",
       "mean     20.028340   -81.719811   323.210583     0.448068     0.455078   \n",
       "min       7.007950  -117.619040   295.070000     0.320000     0.360000   \n",
       "25%       9.609000   -96.170670   306.700000     0.390000     0.370000   \n",
       "50%      19.438820   -84.306780   327.270000     0.420000     0.420000   \n",
       "75%      31.071650   -63.710560   336.830000     0.490000     0.500000   \n",
       "max      33.491620   -58.501010   367.000000     0.770000     0.770000   \n",
       "std      10.437155    16.699539    17.024200     0.076638     0.106386   \n",
       "\n",
       "                         ACQ_DATE   BRIGHT_TI5          FRP  \n",
       "count                        1869  1869.000000  1869.000000  \n",
       "mean   2025-10-06 16:46:13.675000   292.131915     4.746554  \n",
       "min           2025-10-06 00:00:00   249.650000     0.100000  \n",
       "25%           2025-10-06 00:00:00   287.580000     1.280000  \n",
       "50%           2025-10-07 00:00:00   292.330000     2.750000  \n",
       "75%           2025-10-07 00:00:00   298.830000     5.230000  \n",
       "max           2025-10-08 00:00:00   328.680000   134.600000  \n",
       "std                           NaN     9.152205     8.632316  "
      ]
     },
     "execution_count": 47,
     "metadata": {},
     "output_type": "execute_result"
    }
   ],
   "source": [
    "gdf_firms.describe()"
   ]
  },
  {
   "cell_type": "code",
   "execution_count": 49,
   "id": "a3590a9d",
   "metadata": {},
   "outputs": [
    {
     "data": {
      "text/plain": [
       "<Geographic 2D CRS: EPSG:4326>\n",
       "Name: WGS 84\n",
       "Axis Info [ellipsoidal]:\n",
       "- Lat[north]: Geodetic latitude (degree)\n",
       "- Lon[east]: Geodetic longitude (degree)\n",
       "Area of Use:\n",
       "- name: World.\n",
       "- bounds: (-180.0, -90.0, 180.0, 90.0)\n",
       "Datum: World Geodetic System 1984 ensemble\n",
       "- Ellipsoid: WGS 84\n",
       "- Prime Meridian: Greenwich"
      ]
     },
     "execution_count": 49,
     "metadata": {},
     "output_type": "execute_result"
    }
   ],
   "source": [
    "gdf_firms.crs"
   ]
  },
  {
   "cell_type": "code",
   "execution_count": 64,
   "id": "6109c628",
   "metadata": {},
   "outputs": [
    {
     "data": {
      "text/plain": [
       "(163, 19)"
      ]
     },
     "execution_count": 64,
     "metadata": {},
     "output_type": "execute_result"
    }
   ],
   "source": [
    "gdf_sjoin = gpd.sjoin(gdf_select_corr.to_crs(epsg = 4326), gdf_firms)\n",
    "gdf_sjoin.shape"
   ]
  },
  {
   "cell_type": "code",
   "execution_count": 55,
   "id": "7cedbf13",
   "metadata": {},
   "outputs": [
    {
     "data": {
      "text/html": [
       "<div>\n",
       "<style scoped>\n",
       "    .dataframe tbody tr th:only-of-type {\n",
       "        vertical-align: middle;\n",
       "    }\n",
       "\n",
       "    .dataframe tbody tr th {\n",
       "        vertical-align: top;\n",
       "    }\n",
       "\n",
       "    .dataframe thead th {\n",
       "        text-align: right;\n",
       "    }\n",
       "</style>\n",
       "<table border=\"1\" class=\"dataframe\">\n",
       "  <thead>\n",
       "    <tr style=\"text-align: right;\">\n",
       "      <th></th>\n",
       "      <th>entidad</th>\n",
       "      <th>area_ccl</th>\n",
       "      <th>area_aea</th>\n",
       "      <th>dif_area</th>\n",
       "      <th>geometry</th>\n",
       "      <th>index_right</th>\n",
       "      <th>LATITUDE</th>\n",
       "      <th>LONGITUDE</th>\n",
       "      <th>BRIGHT_TI4</th>\n",
       "      <th>SCAN</th>\n",
       "      <th>TRACK</th>\n",
       "      <th>ACQ_DATE</th>\n",
       "      <th>ACQ_TIME</th>\n",
       "      <th>SATELLITE</th>\n",
       "      <th>CONFIDENCE</th>\n",
       "      <th>VERSION</th>\n",
       "      <th>BRIGHT_TI5</th>\n",
       "      <th>FRP</th>\n",
       "      <th>DAYNIGHT</th>\n",
       "    </tr>\n",
       "  </thead>\n",
       "  <tbody>\n",
       "    <tr>\n",
       "      <th>1</th>\n",
       "      <td>Baja California</td>\n",
       "      <td>73406.158609</td>\n",
       "      <td>73053.82639</td>\n",
       "      <td>352.332219</td>\n",
       "      <td>MULTIPOLYGON (((-114.11561 28.09639, -114.1152...</td>\n",
       "      <td>1590</td>\n",
       "      <td>30.70747</td>\n",
       "      <td>-115.97429</td>\n",
       "      <td>334.16</td>\n",
       "      <td>0.39</td>\n",
       "      <td>0.36</td>\n",
       "      <td>2025-10-07</td>\n",
       "      <td>2046</td>\n",
       "      <td>N</td>\n",
       "      <td>nominal</td>\n",
       "      <td>2.0NRT</td>\n",
       "      <td>307.37</td>\n",
       "      <td>1.69</td>\n",
       "      <td>D</td>\n",
       "    </tr>\n",
       "    <tr>\n",
       "      <th>1</th>\n",
       "      <td>Baja California</td>\n",
       "      <td>73406.158609</td>\n",
       "      <td>73053.82639</td>\n",
       "      <td>352.332219</td>\n",
       "      <td>MULTIPOLYGON (((-114.11561 28.09639, -114.1152...</td>\n",
       "      <td>1256</td>\n",
       "      <td>30.85075</td>\n",
       "      <td>-116.03297</td>\n",
       "      <td>297.92</td>\n",
       "      <td>0.39</td>\n",
       "      <td>0.36</td>\n",
       "      <td>2025-10-07</td>\n",
       "      <td>0930</td>\n",
       "      <td>N</td>\n",
       "      <td>nominal</td>\n",
       "      <td>2.0NRT</td>\n",
       "      <td>286.07</td>\n",
       "      <td>0.44</td>\n",
       "      <td>N</td>\n",
       "    </tr>\n",
       "    <tr>\n",
       "      <th>1</th>\n",
       "      <td>Baja California</td>\n",
       "      <td>73406.158609</td>\n",
       "      <td>73053.82639</td>\n",
       "      <td>352.332219</td>\n",
       "      <td>MULTIPOLYGON (((-114.11561 28.09639, -114.1152...</td>\n",
       "      <td>1255</td>\n",
       "      <td>31.84285</td>\n",
       "      <td>-116.58607</td>\n",
       "      <td>306.40</td>\n",
       "      <td>0.40</td>\n",
       "      <td>0.37</td>\n",
       "      <td>2025-10-07</td>\n",
       "      <td>0930</td>\n",
       "      <td>N</td>\n",
       "      <td>nominal</td>\n",
       "      <td>2.0NRT</td>\n",
       "      <td>287.80</td>\n",
       "      <td>0.84</td>\n",
       "      <td>N</td>\n",
       "    </tr>\n",
       "    <tr>\n",
       "      <th>1</th>\n",
       "      <td>Baja California</td>\n",
       "      <td>73406.158609</td>\n",
       "      <td>73053.82639</td>\n",
       "      <td>352.332219</td>\n",
       "      <td>MULTIPOLYGON (((-114.11561 28.09639, -114.1152...</td>\n",
       "      <td>826</td>\n",
       "      <td>31.91493</td>\n",
       "      <td>-116.71107</td>\n",
       "      <td>344.35</td>\n",
       "      <td>0.45</td>\n",
       "      <td>0.39</td>\n",
       "      <td>2025-10-06</td>\n",
       "      <td>2106</td>\n",
       "      <td>N</td>\n",
       "      <td>nominal</td>\n",
       "      <td>2.0NRT</td>\n",
       "      <td>311.35</td>\n",
       "      <td>21.87</td>\n",
       "      <td>D</td>\n",
       "    </tr>\n",
       "    <tr>\n",
       "      <th>1</th>\n",
       "      <td>Baja California</td>\n",
       "      <td>73406.158609</td>\n",
       "      <td>73053.82639</td>\n",
       "      <td>352.332219</td>\n",
       "      <td>MULTIPOLYGON (((-114.11561 28.09639, -114.1152...</td>\n",
       "      <td>824</td>\n",
       "      <td>31.91654</td>\n",
       "      <td>-116.70923</td>\n",
       "      <td>347.34</td>\n",
       "      <td>0.45</td>\n",
       "      <td>0.39</td>\n",
       "      <td>2025-10-06</td>\n",
       "      <td>2106</td>\n",
       "      <td>N</td>\n",
       "      <td>nominal</td>\n",
       "      <td>2.0NRT</td>\n",
       "      <td>311.81</td>\n",
       "      <td>28.81</td>\n",
       "      <td>D</td>\n",
       "    </tr>\n",
       "  </tbody>\n",
       "</table>\n",
       "</div>"
      ],
      "text/plain": [
       "           entidad      area_ccl     area_aea    dif_area  \\\n",
       "1  Baja California  73406.158609  73053.82639  352.332219   \n",
       "1  Baja California  73406.158609  73053.82639  352.332219   \n",
       "1  Baja California  73406.158609  73053.82639  352.332219   \n",
       "1  Baja California  73406.158609  73053.82639  352.332219   \n",
       "1  Baja California  73406.158609  73053.82639  352.332219   \n",
       "\n",
       "                                            geometry  index_right  LATITUDE  \\\n",
       "1  MULTIPOLYGON (((-114.11561 28.09639, -114.1152...         1590  30.70747   \n",
       "1  MULTIPOLYGON (((-114.11561 28.09639, -114.1152...         1256  30.85075   \n",
       "1  MULTIPOLYGON (((-114.11561 28.09639, -114.1152...         1255  31.84285   \n",
       "1  MULTIPOLYGON (((-114.11561 28.09639, -114.1152...          826  31.91493   \n",
       "1  MULTIPOLYGON (((-114.11561 28.09639, -114.1152...          824  31.91654   \n",
       "\n",
       "   LONGITUDE  BRIGHT_TI4  SCAN  TRACK   ACQ_DATE ACQ_TIME SATELLITE  \\\n",
       "1 -115.97429      334.16  0.39   0.36 2025-10-07     2046         N   \n",
       "1 -116.03297      297.92  0.39   0.36 2025-10-07     0930         N   \n",
       "1 -116.58607      306.40  0.40   0.37 2025-10-07     0930         N   \n",
       "1 -116.71107      344.35  0.45   0.39 2025-10-06     2106         N   \n",
       "1 -116.70923      347.34  0.45   0.39 2025-10-06     2106         N   \n",
       "\n",
       "  CONFIDENCE VERSION  BRIGHT_TI5    FRP DAYNIGHT  \n",
       "1    nominal  2.0NRT      307.37   1.69        D  \n",
       "1    nominal  2.0NRT      286.07   0.44        N  \n",
       "1    nominal  2.0NRT      287.80   0.84        N  \n",
       "1    nominal  2.0NRT      311.35  21.87        D  \n",
       "1    nominal  2.0NRT      311.81  28.81        D  "
      ]
     },
     "execution_count": 55,
     "metadata": {},
     "output_type": "execute_result"
    }
   ],
   "source": [
    "gdf_sjoin.head()"
   ]
  },
  {
   "cell_type": "code",
   "execution_count": 65,
   "id": "5ab056b2",
   "metadata": {},
   "outputs": [
    {
     "data": {
      "text/plain": [
       "(1869, 14)"
      ]
     },
     "execution_count": 65,
     "metadata": {},
     "output_type": "execute_result"
    }
   ],
   "source": [
    "gdf_firms.shape"
   ]
  },
  {
   "cell_type": "code",
   "execution_count": 63,
   "id": "1178673e",
   "metadata": {},
   "outputs": [
    {
     "data": {
      "text/plain": [
       "(163, 19)"
      ]
     },
     "execution_count": 63,
     "metadata": {},
     "output_type": "execute_result"
    }
   ],
   "source": [
    "# Unión espacial (spatial join) entre gdf_mex_corr y gdf_firms (ya están en el mismo CRS)\n",
    "gdf_sjoin = gpd.sjoin(gdf_select_corr.to_crs(epsg = 4326), gdf_firms, how='inner', predicate='contains')\n",
    "gdf_sjoin.shape"
   ]
  },
  {
   "cell_type": "code",
   "execution_count": 72,
   "id": "fab47932",
   "metadata": {},
   "outputs": [
    {
     "data": {
      "text/plain": [
       "(163, 19)"
      ]
     },
     "execution_count": 72,
     "metadata": {},
     "output_type": "execute_result"
    }
   ],
   "source": [
    "gdf_sjoin.shape"
   ]
  },
  {
   "cell_type": "code",
   "execution_count": 79,
   "id": "8d93f0a9",
   "metadata": {},
   "outputs": [
    {
     "name": "stdout",
     "output_type": "stream",
     "text": [
      "Entidad: Aguascalientes       PC: 0\n",
      "Entidad: Baja California      PC: 11\n",
      "Entidad: Baja California Sur  PC: 0\n",
      "Entidad: Campeche             PC: 4\n",
      "Entidad: Coahuila de Zaragoza PC: 16\n",
      "Entidad: Colima               PC: 2\n",
      "Entidad: Chiapas              PC: 1\n",
      "Entidad: Chihuahua            PC: 5\n",
      "Entidad: Ciudad de México     PC: 0\n",
      "Entidad: Durango              PC: 0\n",
      "Entidad: Guanajuato           PC: 11\n",
      "Entidad: Guerrero             PC: 0\n",
      "Entidad: Hidalgo              PC: 3\n",
      "Entidad: Jalisco              PC: 0\n",
      "Entidad: México               PC: 1\n",
      "Entidad: Michoacán de Ocampo  PC: 0\n",
      "Entidad: Morelos              PC: 0\n",
      "Entidad: Nayarit              PC: 0\n",
      "Entidad: Nuevo León           PC: 13\n",
      "Entidad: Oaxaca               PC: 0\n",
      "Entidad: Puebla               PC: 1\n",
      "Entidad: Querétaro            PC: 0\n",
      "Entidad: Quintana Roo         PC: 0\n",
      "Entidad: San Luis Potosí      PC: 1\n",
      "Entidad: Sinaloa              PC: 8\n",
      "Entidad: Sonora               PC: 22\n",
      "Entidad: Tabasco              PC: 24\n",
      "Entidad: Tamaulipas           PC: 20\n",
      "Entidad: Tlaxcala             PC: 0\n",
      "Entidad: Veracruz de Ignacio de la Llave PC: 20\n",
      "Entidad: Yucatán              PC: 0\n",
      "Entidad: Zacatecas            PC: 0\n"
     ]
    },
    {
     "data": {
      "text/html": [
       "<div>\n",
       "<style scoped>\n",
       "    .dataframe tbody tr th:only-of-type {\n",
       "        vertical-align: middle;\n",
       "    }\n",
       "\n",
       "    .dataframe tbody tr th {\n",
       "        vertical-align: top;\n",
       "    }\n",
       "\n",
       "    .dataframe thead th {\n",
       "        text-align: right;\n",
       "    }\n",
       "</style>\n",
       "<table border=\"1\" class=\"dataframe\">\n",
       "  <thead>\n",
       "    <tr style=\"text-align: right;\">\n",
       "      <th></th>\n",
       "      <th>entidad</th>\n",
       "      <th>area_ccl</th>\n",
       "      <th>area_aea</th>\n",
       "      <th>dif_area</th>\n",
       "      <th>geometry</th>\n",
       "      <th>firms_count</th>\n",
       "    </tr>\n",
       "  </thead>\n",
       "  <tbody>\n",
       "    <tr>\n",
       "      <th>0</th>\n",
       "      <td>Aguascalientes</td>\n",
       "      <td>5558.673843</td>\n",
       "      <td>5615.671162</td>\n",
       "      <td>-56.997319</td>\n",
       "      <td>POLYGON ((2469549.901 1155213.63, 2469737.257 ...</td>\n",
       "      <td>0</td>\n",
       "    </tr>\n",
       "    <tr>\n",
       "      <th>1</th>\n",
       "      <td>Baja California</td>\n",
       "      <td>73406.158609</td>\n",
       "      <td>73053.826390</td>\n",
       "      <td>352.332219</td>\n",
       "      <td>MULTIPOLYGON (((1313523.697 1832773.748, 13135...</td>\n",
       "      <td>11</td>\n",
       "    </tr>\n",
       "    <tr>\n",
       "      <th>2</th>\n",
       "      <td>Baja California Sur</td>\n",
       "      <td>71407.136932</td>\n",
       "      <td>72023.937389</td>\n",
       "      <td>-616.800456</td>\n",
       "      <td>MULTIPOLYGON (((1694633.841 1223893.697, 16946...</td>\n",
       "      <td>0</td>\n",
       "    </tr>\n",
       "    <tr>\n",
       "      <th>3</th>\n",
       "      <td>Campeche</td>\n",
       "      <td>57269.828744</td>\n",
       "      <td>57508.007322</td>\n",
       "      <td>-238.178577</td>\n",
       "      <td>MULTIPOLYGON (((3544976.076 940326.527, 354499...</td>\n",
       "      <td>4</td>\n",
       "    </tr>\n",
       "    <tr>\n",
       "      <th>4</th>\n",
       "      <td>Coahuila de Zaragoza</td>\n",
       "      <td>150671.222993</td>\n",
       "      <td>151594.619712</td>\n",
       "      <td>-923.396719</td>\n",
       "      <td>POLYGON ((2469500.425 1980889.78, 2469538.912 ...</td>\n",
       "      <td>16</td>\n",
       "    </tr>\n",
       "  </tbody>\n",
       "</table>\n",
       "</div>"
      ],
      "text/plain": [
       "                entidad       area_ccl       area_aea    dif_area  \\\n",
       "0        Aguascalientes    5558.673843    5615.671162  -56.997319   \n",
       "1       Baja California   73406.158609   73053.826390  352.332219   \n",
       "2   Baja California Sur   71407.136932   72023.937389 -616.800456   \n",
       "3              Campeche   57269.828744   57508.007322 -238.178577   \n",
       "4  Coahuila de Zaragoza  150671.222993  151594.619712 -923.396719   \n",
       "\n",
       "                                            geometry  firms_count  \n",
       "0  POLYGON ((2469549.901 1155213.63, 2469737.257 ...            0  \n",
       "1  MULTIPOLYGON (((1313523.697 1832773.748, 13135...           11  \n",
       "2  MULTIPOLYGON (((1694633.841 1223893.697, 16946...            0  \n",
       "3  MULTIPOLYGON (((3544976.076 940326.527, 354499...            4  \n",
       "4  POLYGON ((2469500.425 1980889.78, 2469538.912 ...           16  "
      ]
     },
     "execution_count": 79,
     "metadata": {},
     "output_type": "execute_result"
    }
   ],
   "source": [
    "# Agregar el conteo de puntos de FIRMS por entidad federativa con programación estructurada\n",
    "counts = []\n",
    "for entidad in gdf_select_corr['entidad']:\n",
    "    # print(f'Entidad: {entidad}')\n",
    "    gdf_entidad = gdf_select_corr[gdf_select_corr['entidad'] == entidad]\n",
    "    # print(f'gdf_entidad: {gdf_entidad.head}')\n",
    "\n",
    "    count = gpd.sjoin(gdf_entidad.to_crs(epsg=4326), gdf_firms).shape[0]\n",
    "    counts.append(count)\n",
    "\n",
    "    print(f'Entidad: {entidad:20} PC: {count}')\n",
    "\n",
    "gdf_select_corr['firms_count'] = counts\n",
    "gdf_select_corr.head()"
   ]
  },
  {
   "cell_type": "code",
   "execution_count": null,
   "id": "63650e61",
   "metadata": {},
   "outputs": [
    {
     "data": {
      "text/html": [
       "<div>\n",
       "<style scoped>\n",
       "    .dataframe tbody tr th:only-of-type {\n",
       "        vertical-align: middle;\n",
       "    }\n",
       "\n",
       "    .dataframe tbody tr th {\n",
       "        vertical-align: top;\n",
       "    }\n",
       "\n",
       "    .dataframe thead th {\n",
       "        text-align: right;\n",
       "    }\n",
       "</style>\n",
       "<table border=\"1\" class=\"dataframe\">\n",
       "  <thead>\n",
       "    <tr style=\"text-align: right;\">\n",
       "      <th></th>\n",
       "      <th>entidad</th>\n",
       "      <th>area_ccl</th>\n",
       "      <th>area_aea</th>\n",
       "      <th>dif_area</th>\n",
       "      <th>geometry</th>\n",
       "      <th>firms_count</th>\n",
       "      <th>firms_count_2</th>\n",
       "    </tr>\n",
       "  </thead>\n",
       "  <tbody>\n",
       "    <tr>\n",
       "      <th>0</th>\n",
       "      <td>Aguascalientes</td>\n",
       "      <td>5558.673843</td>\n",
       "      <td>5615.671162</td>\n",
       "      <td>-56.997319</td>\n",
       "      <td>POLYGON ((2469549.901 1155213.63, 2469737.257 ...</td>\n",
       "      <td>0</td>\n",
       "      <td>0</td>\n",
       "    </tr>\n",
       "    <tr>\n",
       "      <th>1</th>\n",
       "      <td>Baja California</td>\n",
       "      <td>73406.158609</td>\n",
       "      <td>73053.826390</td>\n",
       "      <td>352.332219</td>\n",
       "      <td>MULTIPOLYGON (((1313523.697 1832773.748, 13135...</td>\n",
       "      <td>11</td>\n",
       "      <td>11</td>\n",
       "    </tr>\n",
       "    <tr>\n",
       "      <th>2</th>\n",
       "      <td>Baja California Sur</td>\n",
       "      <td>71407.136932</td>\n",
       "      <td>72023.937389</td>\n",
       "      <td>-616.800456</td>\n",
       "      <td>MULTIPOLYGON (((1694633.841 1223893.697, 16946...</td>\n",
       "      <td>0</td>\n",
       "      <td>0</td>\n",
       "    </tr>\n",
       "    <tr>\n",
       "      <th>3</th>\n",
       "      <td>Campeche</td>\n",
       "      <td>57269.828744</td>\n",
       "      <td>57508.007322</td>\n",
       "      <td>-238.178577</td>\n",
       "      <td>MULTIPOLYGON (((3544976.076 940326.527, 354499...</td>\n",
       "      <td>4</td>\n",
       "      <td>4</td>\n",
       "    </tr>\n",
       "    <tr>\n",
       "      <th>4</th>\n",
       "      <td>Coahuila de Zaragoza</td>\n",
       "      <td>150671.222993</td>\n",
       "      <td>151594.619712</td>\n",
       "      <td>-923.396719</td>\n",
       "      <td>POLYGON ((2469500.425 1980889.78, 2469538.912 ...</td>\n",
       "      <td>16</td>\n",
       "      <td>16</td>\n",
       "    </tr>\n",
       "  </tbody>\n",
       "</table>\n",
       "</div>"
      ],
      "text/plain": [
       "                entidad       area_ccl       area_aea    dif_area  \\\n",
       "0        Aguascalientes    5558.673843    5615.671162  -56.997319   \n",
       "1       Baja California   73406.158609   73053.826390  352.332219   \n",
       "2   Baja California Sur   71407.136932   72023.937389 -616.800456   \n",
       "3              Campeche   57269.828744   57508.007322 -238.178577   \n",
       "4  Coahuila de Zaragoza  150671.222993  151594.619712 -923.396719   \n",
       "\n",
       "                                            geometry  firms_count  \\\n",
       "0  POLYGON ((2469549.901 1155213.63, 2469737.257 ...            0   \n",
       "1  MULTIPOLYGON (((1313523.697 1832773.748, 13135...           11   \n",
       "2  MULTIPOLYGON (((1694633.841 1223893.697, 16946...            0   \n",
       "3  MULTIPOLYGON (((3544976.076 940326.527, 354499...            4   \n",
       "4  POLYGON ((2469500.425 1980889.78, 2469538.912 ...           16   \n",
       "\n",
       "   firms_count_2  \n",
       "0              0  \n",
       "1             11  \n",
       "2              0  \n",
       "3              4  \n",
       "4             16  "
      ]
     },
     "execution_count": 81,
     "metadata": {},
     "output_type": "execute_result"
    }
   ],
   "source": [
    "# Agregar el conteo de puntos de FIRMS por entidad federativa\n",
    "gdf_select_corr['firms_count_2'] = gdf_select_corr.to_crs(epsg=4326).geometry.apply(lambda x: gdf_firms.within(x).sum())\n",
    "\n",
    "gdf_select_corr.head()"
   ]
  },
  {
   "cell_type": "code",
   "execution_count": null,
   "id": "2a3880af",
   "metadata": {},
   "outputs": [],
   "source": [
    "# Crear nueva columa de DATE con la fecha y hora en formato datetime y CST"
   ]
  },
  {
   "cell_type": "code",
   "execution_count": null,
   "id": "780627bd",
   "metadata": {},
   "outputs": [],
   "source": [
    "# Ver tipo de dato de ACQ_DATE\n"
   ]
  },
  {
   "cell_type": "code",
   "execution_count": null,
   "id": "96afd52d",
   "metadata": {},
   "outputs": [],
   "source": [
    "# Crea una nueva columna en gdf_firms con la suma de ACQ_DATE y AQC_TIME\n",
    "\n"
   ]
  },
  {
   "cell_type": "code",
   "execution_count": null,
   "id": "77c33af3",
   "metadata": {},
   "outputs": [],
   "source": [
    "# DATE esta en formato string YYYY-MM-DD HHMM, hay que convertirlo a datetime\n"
   ]
  },
  {
   "cell_type": "code",
   "execution_count": null,
   "id": "ee2b4353",
   "metadata": {},
   "outputs": [],
   "source": [
    "# Asignar la zona horaria de UTC (tiempo universal coordinado) a la columna DATE\n"
   ]
  },
  {
   "cell_type": "code",
   "execution_count": null,
   "id": "90eaf38a",
   "metadata": {},
   "outputs": [],
   "source": [
    "# Convierte DATE a la zona horaria de Ciudad de México (CST, UTC-6) en una nueva columna DATE_CST\n"
   ]
  },
  {
   "cell_type": "markdown",
   "id": "b9dcb1b4",
   "metadata": {},
   "source": [
    "# Reproyección de coordenadas"
   ]
  },
  {
   "cell_type": "code",
   "execution_count": 82,
   "id": "b502baa8",
   "metadata": {},
   "outputs": [],
   "source": [
    "import pyproj"
   ]
  },
  {
   "cell_type": "code",
   "execution_count": 85,
   "id": "13d10c8c",
   "metadata": {},
   "outputs": [
    {
     "data": {
      "text/plain": [
       "(2795869.3434203323, 817211.4868859897)"
      ]
     },
     "execution_count": 85,
     "metadata": {},
     "output_type": "execute_result"
    }
   ],
   "source": [
    "# Reproyecta una coordenada de epsg:4326 a epsg:6372\n",
    "transformer = pyproj.Transformer.from_crs(\"EPSG:4326\", 'EPSG:6372', always_xy=True)\n",
    "\n",
    "lon, lat  = -99.17642742495453, 19.32607298072103\n",
    "\n",
    "x, y = transformer.transform(lon, lat)\n",
    "x, y"
   ]
  },
  {
   "cell_type": "code",
   "execution_count": null,
   "id": "ecdae6e1",
   "metadata": {},
   "outputs": [],
   "source": [
    "# Definiendo los CRS con proj4, de 4326 a AEA\n"
   ]
  }
 ],
 "metadata": {
  "kernelspec": {
   "display_name": "geo_python",
   "language": "python",
   "name": "python3"
  },
  "language_info": {
   "codemirror_mode": {
    "name": "ipython",
    "version": 3
   },
   "file_extension": ".py",
   "mimetype": "text/x-python",
   "name": "python",
   "nbconvert_exporter": "python",
   "pygments_lexer": "ipython3",
   "version": "3.11.13"
  }
 },
 "nbformat": 4,
 "nbformat_minor": 5
}
