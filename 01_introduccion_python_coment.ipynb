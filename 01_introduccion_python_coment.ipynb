{
 "cells": [
  {
   "cell_type": "markdown",
   "id": "45789a52",
   "metadata": {},
   "source": [
    "# 📚 Introducción a Python para procesamiento de datos geoespaciales\n",
    "\n",
    "> Colvert Gomez Rubio - Octubre 2025"
   ]
  },
  {
   "cell_type": "markdown",
   "id": "8e050b7d",
   "metadata": {},
   "source": [
    "# 👋 Introducción"
   ]
  },
  {
   "cell_type": "markdown",
   "id": "3b779da0",
   "metadata": {},
   "source": [
    "## 🐍 ¿Qué es Python?\n",
    "\n",
    "**Python** es un lenguaje de programación de **alto nivel** creado por Guido van Rossum en 1991, cuyo nombre está inspirado en el famoso grupo de comedia británico \"Monty Python\". Caracterizado por su **sintaxis limpia y elegante**, Python es un lenguaje **interpretado**, **multiplataforma** y **orientado a objetos** con **tipado dinámico** pero **fuertemente tipado**. Desde sus inicios, ha experimentado un crecimiento exponencial hasta convertirse en uno de los lenguajes más populares y utilizados en ciencia, ingeniería, desarrollo web y automatización ([🔗 Stack Overflow Developer Survey 2025](https://survey.stackoverflow.co/2025/technology#most-popular-technologies-language)). Actualmente es mantenido por la **Python Software Foundation**, cuenta con versiones estables, una comunidad global muy activa y, lo mejor de todo, **¡es completamente gratuito y de código abierto!**"
   ]
  },
  {
   "cell_type": "markdown",
   "id": "b9b2a551",
   "metadata": {},
   "source": [
    "## 📝 Características principales de Python\n",
    "\n",
    "### Lenguaje interpretado\n",
    "A diferencia de los lenguajes compilados que traducen todo el código a lenguaje máquina antes de ejecutarse, Python utiliza un **intérprete** que procesa y ejecuta el código línea por línea. Aunque esto puede hacer que sea ligeramente más lento que los lenguajes compilados, ofrece **mayor flexibilidad y portabilidad**. \n",
    "\n",
    "**Dato curioso:** Python es técnicamente un lenguaje \"semi-interpretado\" porque convierte el código fuente a un código intermedio llamado **bytecode** (archivos `.pyc` o `.pyo`), similar a como funciona Java, lo que optimiza las ejecuciones posteriores.\n",
    "\n",
    "\n",
    "\n",
    "### Tipado dinámico\n",
    "En Python no necesitas declarar explícitamente el tipo de dato de una variable. El intérprete **determina automáticamente el tipo** según el valor asignado, y este tipo puede cambiar durante la ejecución del programa. ¡Esto hace que programar sea más rápido y flexible!\n",
    "\n",
    "```python\n",
    "# El tipo se determina automáticamente\n",
    "variable = 42        # int\n",
    "variable = \"Hola\"    # str\n",
    "variable = 3.14      # float\n",
    "```\n",
    "\n",
    "### Fuertemente tipado\n",
    "Aunque el tipado es dinámico, Python es **estricto** con los tipos de datos. No puedes mezclar tipos incompatibles sin una conversión explícita, lo que **previene errores comunes** y hace el código más seguro.\n",
    "\n",
    "```python\n",
    "# Esto causará un error ❌\n",
    "resultado = \"5\" + 3\n",
    "\n",
    "# Esto es correcto ✅\n",
    "resultado = \"5\" + str(3)  # \"53\"\n",
    "resultado = int(\"5\") + 3  # 8\n",
    "```\n",
    "\n",
    "### Multiplataforma\n",
    "Una de las grandes ventajas de Python es su **portabilidad universal**. El intérprete está disponible en prácticamente todos los sistemas operativos modernos (Windows, macOS, Linux, Unix, etc.), lo que significa que tu código funcionará en **cualquier plataforma** sin modificaciones significativas. ¡Escribe una vez, ejecuta en cualquier lugar!\n",
    "\n",
    "### Orientado a objetos\n",
    "Python implementa el **paradigma de programación orientada a objetos**, donde los elementos del mundo real se modelan como **clases y objetos** que interactúan entre sí. Esto facilita la organización del código y la reutilización de componentes.\n",
    "\n",
    "**Ejemplo práctico:** Imagina que queremos modelar un **automóvil** en Python:\n",
    "\n",
    "```python\n",
    "class Automovil:\n",
    "    def __init__(self, marca, modelo, año):\n",
    "        # Atributos (características del objeto)\n",
    "        self.marca = marca\n",
    "        self.modelo = modelo  \n",
    "        self.año = año\n",
    "        self.velocidad = 0\n",
    "        self.encendido = False\n",
    "    \n",
    "    # Métodos (acciones que puede realizar el objeto)\n",
    "    def encender(self):\n",
    "        self.encendido = True\n",
    "        print(f\"El {self.marca} {self.modelo} está encendido 🚗\")\n",
    "    \n",
    "    def acelerar(self, incremento):\n",
    "        if self.encendido:\n",
    "            self.velocidad += incremento\n",
    "            print(f\"Acelerando... Velocidad actual: {self.velocidad} km/h\")\n",
    "    \n",
    "    def frenar(self):\n",
    "        self.velocidad = 0\n",
    "        print(\"El automóvil se ha detenido 🛑\")\n",
    "\n",
    "# Crear objetos (instancias) de la clase Automovil\n",
    "mi_carro = Automovil(\"Toyota\", \"Corolla\", 2023)\n",
    "tu_carro = Automovil(\"Honda\", \"Civic\", 2022)\n",
    "\n",
    "# Usar los métodos de los objetos\n",
    "mi_carro.encender()\n",
    "mi_carro.acelerar(50)\n",
    "mi_carro.frenar()\n",
    "```\n",
    "\n",
    "**🔍 Conceptos clave:**\n",
    "- **Clase:** El \"molde\" o plantilla (Automovil)\n",
    "- **Objeto:** Una instancia específica (mi_carro, tu_carro)  \n",
    "- **Atributos:** Las características (marca, modelo, velocidad)\n",
    "- **Métodos:** Las acciones que puede realizar (encender, acelerar, frenar)\n",
    "\n",
    "Además de la programación orientada a objetos, Python también soporta:\n",
    "- **Programación imperativa** (paso a paso)\n",
    "- **Programación funcional** (usando funciones como elementos principales)  \n",
    "- **Programación orientada a aspectos** (separación de concerns)\n",
    "\n",
    "Esta versatilidad permite elegir el enfoque más adecuado para cada problema específico.\n"
   ]
  },
  {
   "cell_type": "markdown",
   "id": "b07d41d1",
   "metadata": {},
   "source": [
    "## 🚀 Aplicaciones que se pueden desarrollar con Python\n",
    "\n",
    "**Desarrollo Web:**\n",
    "- **Frameworks modernos:** Django (robusto y completo) y Flask (minimalista y flexible)\n",
    "- **APIs y microservicios** para aplicaciones escalables\n",
    "- **Sitios web dinámicos** con funcionalidades avanzadas\n",
    "\n",
    "**Ciencia de Datos y Machine Learning:**\n",
    "- **Análisis de datos:** NumPy, Pandas para manipulación masiva de información\n",
    "- **Inteligencia Artificial:** Scikit-learn, TensorFlow, PyTorch para modelos predictivos\n",
    "- **Procesamiento de big data** y análisis estadístico avanzado\n",
    "\n",
    "**Automatización y Scripting:**\n",
    "- **Automatización de tareas repetitivas** del sistema operativo\n",
    "- **Web scraping** para extraer datos de sitios web\n",
    "- **Integración de APIs** y servicios externos\n",
    "\n",
    "**Visualización de Datos:**\n",
    "- **Gráficos estáticos:** Matplotlib, Seaborn para análisis exploratorio\n",
    "- **Dashboards interactivos:** Plotly, Streamlit para presentaciones dinámicas\n",
    "- **Reportes automatizados** con visualizaciones profesionales\n",
    "\n"
   ]
  },
  {
   "cell_type": "markdown",
   "id": "7d0dd170",
   "metadata": {},
   "source": [
    "## 🗺️ Ventajas para procesamiento de datos geoespaciales\n",
    "\n",
    "Python se ha consolidado como **el lenguaje líder en geomática** gracias a sus capacidades únicas:\n",
    "\n",
    "**Facilidad de uso y aprendizaje:**\n",
    "- **Sintaxis intuitiva** que permite prototipar y experimentar rápidamente\n",
    "- **Curva de aprendizaje suave** ideal para profesionales de otras disciplinas\n",
    "- **Comunidad masiva** con abundantes tutoriales, foros y documentación\n",
    "\n",
    "**Ecosistema geoespacial robusto:**\n",
    "- **GeoPandas:** Manipulación de datos vectoriales como DataFrames  \n",
    "- **Shapely:** Operaciones geométricas y análisis espacial\n",
    "- **Rasterio:** Procesamiento eficiente de imágenes satelitales y rasters\n",
    "- **GDAL/OGR:** Conversión entre formatos geoespaciales\n",
    "- **PyProj:** Transformaciones de sistemas de coordenadas\n",
    "\n",
    "**Integración perfecta:**\n",
    "- **Jupyter Notebooks** para análisis interactivo y documentación reproducible\n",
    "- **Compatibilidad total** con formatos estándar (GeoJSON, Shapefile, GeoTIFF, KML, etc.)\n",
    "- **Conexión fluida** con bases de datos espaciales (PostGIS, SpatiaLite)\n",
    "\n",
    "**Versatilidad interdisciplinaria:**\n",
    "- **Combina análisis espacial** con estadística, machine learning y visualización\n",
    "- **Integración con SIG profesionales:** QGIS y ArcGIS utilizan Python como base\n",
    "- **Workflows completos** desde adquisición hasta visualización de datos"
   ]
  },
  {
   "cell_type": "markdown",
   "id": "799f52ce",
   "metadata": {},
   "source": [
    "## 🧘‍♂️ El Zen of Python\n",
    "\n",
    "El **Zen of Python** es una colección de principios que resumen la filosofía de diseño del lenguaje Python. Fue escrito por **Tim Peters**, uno de los desarrolladores más influyentes de la comunidad Python, y se puede consultar ejecutando `import this` en la consola.\n",
    "\n",
    "Estos principios buscan guiar a los programadores para escribir código claro, legible y mantenible, y han influido profundamente en la evolución de Python. No son solo teoría: son herramientas prácticas que te ayudarán a escribir código más limpio, tomar mejores decisiones de diseño."
   ]
  },
  {
   "cell_type": "code",
   "execution_count": 82,
   "id": "104e0d02",
   "metadata": {},
   "outputs": [],
   "source": [
    "# import this # ¡Ejecuta esto para descubrir la sabiduría! ✨"
   ]
  },
  {
   "cell_type": "markdown",
   "id": "1762fac6",
   "metadata": {},
   "source": [
    "1. *Beautiful is better than ugly.*  \n",
    "Hermoso es mejor que feo. El código debe ser estéticamente agradable.\n",
    "1. *Explicit is better than implicit.*  \n",
    "Explícito es mejor que implícito. Es mejor dejar claro lo que hace el código.\n",
    "1. *Simple is better than complex.*  \n",
    "Simple es mejor que complejo. Prefiere soluciones sencillas.\n",
    "1. *Complex is better than complicated.*  \n",
    "Complejo es mejor que complicado. Si la complejidad es necesaria, que no sea confusa.\n",
    "1. *Flat is better than nested.*  \n",
    "Plano es mejor que anidado. Evita demasiadas capas de anidación.\n",
    "1. *Sparse is better than dense.*  \n",
    "Disperso es mejor que denso. El código debe ser fácil de leer, no sobrecargado.\n",
    "1. *Readability counts.*  \n",
    "La legibilidad cuenta. El código debe ser fácil de entender.\n",
    "1. *Special cases aren't special enough to break the rules.*  \n",
    "Los casos especiales no son tan especiales como para romper las reglas.\n",
    "1. *Although practicality beats purity.*  \n",
    "Aunque la practicidad supera la pureza. A veces hay que ser pragmático.\n",
    "1.  *Errors should never pass silently.*  \n",
    "Los errores nunca deben pasar silenciosamente. Es mejor detectarlos y manejarlos.\n",
    "1.  *Unless explicitly silenced.*  \n",
    "A menos que se silencien explícitamente. Solo ignora errores si es intencional.\n",
    "1.  *In the face of ambiguity, refuse the temptation to guess.*  \n",
    "Ante la ambigüedad, rechaza la tentación de adivinar. Sé claro.\n",
    "1.  *There should be one-- and preferably only one --obvious way to do it.*  \n",
    "Debería haber una —y preferiblemente solo una— manera obvia de hacerlo.\n",
    "1.  *Although that way may not be obvious at first unless you're Dutch.*  \n",
    "Aunque esa manera puede no ser obvia al principio, a menos que seas holandés (broma sobre el creador de Python).\n",
    "1.  *Now is better than never.*  \n",
    "Ahora es mejor que nunca. Haz las cosas pronto.\n",
    "1.  *Although never is often better than *right* now.*  \n",
    "Aunque nunca suele ser mejor que *justo* ahora. No te apresures demasiado.\n",
    "1.  *If the implementation is hard to explain, it's a bad idea.*  \n",
    "Si la implementación es difícil de explicar, es una mala idea.\n",
    "1.  *If the implementation is easy to explain, it may be a good idea.*  \n",
    "Si la implementación es fácil de explicar, puede ser una buena idea.\n",
    "1.  *Namespaces are one honking great idea -- let's do more of those!*  \n",
    "Los espacios de nombres son una gran idea, ¡usémoslos más!"
   ]
  },
  {
   "cell_type": "markdown",
   "id": "880172ae",
   "metadata": {},
   "source": [
    "Python se diseñó como un lenguaje con un núcleo pequeño, es decir, con un léxico muy limitado, también llamado **palabras reservadas**, que componen un vocabulario básico de tan solo 35 términos a partir de los cuales se edifica todo lo demás, combinándolos mediante una sintaxis clara y también sencilla."
   ]
  },
  {
   "cell_type": "code",
   "execution_count": 83,
   "id": "ce1d7e31",
   "metadata": {},
   "outputs": [],
   "source": [
    "# import keyword # ¡Muestra las palabras reservadas en Python!\n",
    "# print(keyword.kwlist)"
   ]
  },
  {
   "cell_type": "markdown",
   "id": "b1a965f2",
   "metadata": {},
   "source": [
    "# 🛠️ Instalación y configuración inicial\n",
    "\n",
    "Para trabajar profesionalmente con Python y datos geoespaciales, necesitas un entorno robusto que simplifique la gestión de paquetes y ofrezca herramientas de desarrollo modernas."
   ]
  },
  {
   "cell_type": "markdown",
   "id": "74b15b51",
   "metadata": {},
   "source": [
    "## 💻 ¿Qué es un IDE?\n",
    "Un IDE, conocido en español como «entorno de desarrollo integrado», es un paquete que contiene todas las herramientas necesarias para crear un programa y hacer que el proceso sea lo más sencillo posible. Normalmente está formado por los siguientes elementos:\n",
    "- Un **editor de textos**, para escribir, guardar y abrir el código de nuestros programas. La mayoría de los editores incluyen también una herramienta\n",
    "de autocompletado inteligente de código, que permite completar los nombres de variables y funciones que se van escribiendo en el código.\n",
    "- Un **compilador** o intérprete, que permita traducir el código al lenguaje que entiende el ordenador.\n",
    "- Un **depurador**, para poder probar el código que hemos escrito y eliminar posibles errores\n",
    "- Un sistema de **extensiones o plugins**, que permite agregar funcionalidades extra al IDE, como soporte para nuevos lenguajes, herramientas de análisis, integración con control de versiones, y utilidades especializadas para diferentes áreas de desarrollo.\n",
    "\n",
    "**Ejemplos de IDEs para Python:**\n",
    "- Visual Studio Code (VS Code)\n",
    "- PyCharm\n",
    "- Spyder\n",
    "\n",
    "\n",
    "###  Visual Studio Code\n",
    "\n",
    "**VS Code** es un IDE ligero, gratuito y potente, desarrollado por Microsoft, perfecto para desarrollo en Python. Es el editor de código más usado en el mundo según encuestas de desarrolladores. Ofrece integración nativa con Jupyter, depuración avanzada y extensiones especializadas para geociencias.\n",
    "\n",
    "**Características destacadas:**\n",
    "- Soporte completo para notebooks Jupyter\n",
    "- IntelliSense y autocompletado inteligente\n",
    "- Terminal integrada para conda y git\n",
    "- Depurador visual para encontrar errores fácilmente\n",
    "- Extensiones para Python, Jupyter y GitHub Copilot"
   ]
  },
  {
   "cell_type": "markdown",
   "id": "58f4b08e",
   "metadata": {},
   "source": [
    "## 🐍 Anaconda\n",
    "\n",
    "**Anaconda** es una distribución gratuita y de código abierto de Python y R, diseñada específicamente para ciencia de datos y análisis científico. Incluye más de 250 paquetes preinstalados, herramientas para gestionar entornos virtuales y todo lo necesario para análisis geoespacial profesional.\n",
    "\n",
    "**Ventajas principales:**\n",
    "- Gestión simplificada de entornos virtuales y paquetes con `conda`\n",
    "- Jupyter Notebook incluido para análisis interactivo y documentación\n",
    "- Instalación automática de dependencias complejas\n",
    "- Compatibilidad garantizada entre librerías científicas\n",
    "\n",
    "### Entornos virtuales: proyectos aislados y organizados\n",
    "\n",
    "Un entorno virtual es un espacio aislado donde puedes instalar paquetes específicos para cada proyecto sin afectar tu instalación global de Python. Esto previene conflictos entre versiones y facilita la colaboración con otros desarrolladores.\n",
    "\n",
    "**Comandos esenciales para conda:**\n",
    "\n",
    "```bash\n",
    "# Ver información del entorno actual\n",
    "python --version\n",
    "conda --version\n",
    "\n",
    "# Gestionar entornos\n",
    "conda env list                                    # Listar entornos existentes\n",
    "conda create --name geo_python python=3.11 pip    # Crear entorno para datos geoespaciales\n",
    "conda activate geo_python                         # Activar entorno\n",
    "conda deactivate                                  # Desactivar entorno actual\n",
    "conda remove -n geo_python --all                  # Eliminar entorno completamente\n",
    "\n",
    "# Instalar paquetes\n",
    "conda install geopandas                           # Instalar con conda\n",
    "pip install geopandas                             # Instalar con pip\n",
    "```\n",
    "\n",
    "### Gestores de paquetes: conda vs pip\n",
    "\n",
    "**conda** es el gestor principal de Anaconda. Maneja tanto paquetes de Python como dependencias del sistema (bibliotecas C/C++, compiladores). Es ideal para librerías científicas complejas como GeoPandas que requieren múltiples dependencias.\n",
    "\n",
    "**pip** es el gestor oficial de Python. Accede al repositorio PyPI con la mayor colección de paquetes Python. Perfecto para librerías puras de Python.\n"
   ]
  },
  {
   "cell_type": "markdown",
   "id": "0a57f32d",
   "metadata": {},
   "source": [
    "## 🚀 Configuración paso a paso\n",
    "1. Descargar VS Code: [![Descargar VS Code](https://img.shields.io/badge/Descargar-VS%20Code-blue?style=for-the-badge&logo=visualstudiocode)](https://code.visualstudio.com/)\n",
    "2. Descargar Anaconda: [![Descargar Anaconda](https://img.shields.io/badge/Descargar-Anaconda-green?style=for-the-badge&logo=anaconda)](https://www.anaconda.com/products/distribution)\n",
    "3. Instalar extensiones en VS Code: Python, Jupyter, Python Environment Manager\n",
    "4. Crear entorno para el curso en `Anaconda Promp`:\n",
    "   ```bash\n",
    "   conda create --name geo_python python=3.11 pip\n",
    "   conda activate geo_python\n",
    "   ```\n",
    "\n",
    "** Anaconda Prompt: es la línea de órdenes de Anaconda. También nos permite gestionar las bibliotecas, pero además ofrece la posibilidad de escribir código en Python."
   ]
  },
  {
   "cell_type": "markdown",
   "id": "7e15565b",
   "metadata": {},
   "source": [
    "# Guia rapida de markdown\n"
   ]
  },
  {
   "cell_type": "markdown",
   "id": "64401cd3",
   "metadata": {},
   "source": [
    "\n",
    "Markdown es un lenguaje de marcado ligero que permite dar formato al texto de forma sencilla. Es ampliamente usado en Jupyter Notebooks, GitHub y documentación técnica.\n",
    "\n",
    "## Elementos básicos\n",
    "\n",
    "Negrita:  \n",
    "`**texto**` → **texto**\n",
    "\n",
    "Cursiva:  \n",
    "`*texto*` → *texto*\n",
    "\n",
    "Encabezados:  \n",
    "`# Título 1`  \n",
    "`## Título 2`  \n",
    "`### Título 3`\n",
    "\n",
    "Listas:\n",
    "- Lista con guiones:  \n",
    "  `- Elemento 1`  \n",
    "  `- Elemento 2`\n",
    "- Lista numerada:  \n",
    "  `1. Elemento 1`  \n",
    "  `2. Elemento 2`\n",
    "\n",
    "Enlaces:  \n",
    "`[Texto del enlace](https://www.ejemplo.com)`\n",
    "\n",
    "Imágenes:  \n",
    "`![Texto alternativo](ruta/imagen.png)`\n",
    "\n",
    "Bloques de código:\n",
    "```\n",
    "```python\n",
    "print(\"Hola, mundo!\")\n",
    "```\n",
    "```\n",
    "\n",
    "Citas:  \n",
    "`> Esto es una cita.`\n",
    "\n",
    "Tablas:\n",
    "```\n",
    "| Columna 1 | Columna 2 |\n",
    "|-----------|-----------|\n",
    "| Dato 1    | Dato 2    |\n",
    "```\n",
    "\n",
    "Separador horizontal:  \n",
    "`---`"
   ]
  },
  {
   "cell_type": "markdown",
   "id": "06a6c2ed",
   "metadata": {},
   "source": [
    "# 🚀 Primeros pasos en Python"
   ]
  },
  {
   "cell_type": "markdown",
   "id": "505afa18",
   "metadata": {},
   "source": [
    "## Consejos para nombrar variables en python:\n",
    "- Usa nombres descriptivos y claros para tus variables.\n",
    "- Evita abreviaturas confusas o demasiado cortas.\n",
    "- Utiliza minúsculas y guiones bajos para separar palabras (snake_case), por ejemplo: `total_ventas`.\n",
    "- No uses palabras reservadas de Python como nombre de variable.\n",
    "- Si la variable representa una constante, escribe el nombre en mayúsculas: `PI = 3.1416`.\n",
    "- Sé consistente con el estilo de nombres en todo tu código.\n",
    "- Prefiere nombres en singular para variables individuales y en plural para listas o colecciones."
   ]
  },
  {
   "cell_type": "code",
   "execution_count": null,
   "id": "dc0c1ea7",
   "metadata": {},
   "outputs": [],
   "source": [
    "# Hola Mundo: el primer programa clásico"
   ]
  },
  {
   "cell_type": "markdown",
   "id": "1c4fc228",
   "metadata": {},
   "source": [
    "# 📊 Variables y tipos de datos\n",
    "En un lenguaje de programación, una variable es un término que representa un espacio en la memoria del ordenador. Si queremos trabajar con un valor entero, ese tipo de dato necesita de un tamaño de memoria determinado. Si lo que nos interesa es operar con un número real, dependerá del nivel de precisión y requerirá un tamaño diferente. Para una secuencia de caracteres, que denominamos «cadena» (string en inglés), necesitaremos un espacio equivalente al de la longitud de dicha cadena. En definitiva, una variable no es sino un nombre que el programador usa para referenciar la posición de un hueco en la memoria RAM del ordenador."
   ]
  },
  {
   "cell_type": "markdown",
   "id": "2ea9d352",
   "metadata": {},
   "source": [
    "## Tipos de datos\n",
    "\n",
    "\n",
    "| Tipo | Descripción | Ejemplos |\n",
    "|------|-------------|----------|\n",
    "| **`None`** | Tipo especial que indica ausencia de valor. Se interpreta como `False` en expresiones lógicas. | `precio = None`<br>`def calc_saldo(cuenta=None)` |\n",
    "| **`int`** | Números enteros positivos y negativos, sin límite de rango. | `num_hijos = 3`<br>`saldo = -3000` |\n",
    "| **`bool`** | Valores lógicos: `True` (verdadero) o `False` (falso). | `es_mayor = edad > 18`<br>`activado = False` |\n",
    "| **`float`** | Números decimales con precisión variable. Acepta notación científica. | `pi = 3.141592`<br>`menor = 7e-10`<br>`valor_p = .0002` |\n",
    "| **`complex`** | Números complejos con parte real e imaginaria (usando `j`). | `comp = 3+5j`<br>`punto3d = 8.4-1e100j` |\n",
    "\n",
    "**Tipos de colección:**\n",
    "\n",
    "| Tipo | Descripción | Ejemplos |\n",
    "|------|-------------|----------|\n",
    "| **`str`** | Cadena de texto (secuencia de caracteres). Inmutable. | `nombre = \"Pedro\"`<br>`apellido = \"Gómez\"`<br>`id = nombre + \" \" + apellido` |\n",
    "| **`tuple`** | Secuencia ordenada e inmutable de elementos de cualquier tipo. | `coord = (334, 87.156)`<br>`persona = (nom, ape, peso)` |\n",
    "| **`list`** | Secuencia ordenada y mutable de elementos de cualquier tipo. | `precios = [2, 4.5, 65]`<br>`precios[2] = 64 * 2` |\n",
    "| **`set`** | Colección no ordenada de elementos únicos (sin duplicados). | `conj1 = {\"pera\", \"kiwi\", \"tomate\"}`<br>`conj2 = {1, \"hola\", (5, 6)}` |\n",
    "| **`dict`** | Colección de pares clave-valor para acceso rápido por clave. | `d = {'precio': 34, 'producto': 'consola'}`<br>`d['stock'] = d['stock'] - 1` |\n"
   ]
  },
  {
   "cell_type": "code",
   "execution_count": 85,
   "id": "4706bd27",
   "metadata": {},
   "outputs": [],
   "source": [
    "# # None - Ausencia de valor\n",
    "# var = None\n",
    "# print(var)\n",
    "# print(type(var))  # Muestra el tipo de dato de la variable"
   ]
  },
  {
   "cell_type": "code",
   "execution_count": 86,
   "id": "587d91e6",
   "metadata": {},
   "outputs": [],
   "source": [
    "# a = 10 # Ejemplo de entero\n",
    "# print(a)\n",
    "# print(type(a))"
   ]
  },
  {
   "cell_type": "code",
   "execution_count": 87,
   "id": "9cf33096",
   "metadata": {},
   "outputs": [],
   "source": [
    "# b = 3.14 # Ejemplo de flotante\n",
    "# print(b)\n",
    "# print(type(b))"
   ]
  },
  {
   "cell_type": "code",
   "execution_count": 88,
   "id": "2c9c9f81",
   "metadata": {},
   "outputs": [],
   "source": [
    "# lista = [1, 2, 3, 4, 5] # Ejemplo de lista\n",
    "# print(lista)\n",
    "# print(type(lista))"
   ]
  },
  {
   "cell_type": "code",
   "execution_count": 89,
   "id": "c2291d28",
   "metadata": {},
   "outputs": [],
   "source": [
    "# diccionario = {'clave1': 'valor1', 'clave2': 'valor2'} # Ejemplo de diccionario\n",
    "# print(diccionario)\n",
    "# print(type(diccionario))"
   ]
  },
  {
   "cell_type": "markdown",
   "id": "dc10194c",
   "metadata": {},
   "source": [
    "## Casting\n",
    "Aunque Python determina el tipo de manera dinámica, podemos obligar a que el resultado de una expresión se almacene bajo un tipo determinado por el programador. A esta especificación explícita de tipo se le denomina casting.\n",
    "\n",
    "- int(): crea un entero a partir de un literal o variable de tipo entero, un literal o variable de tipo real (mediante redondeo hacia abajo), o un literal o\n",
    "variable de tipo cadena (siempre que esa cadena represente un enter válido).\n",
    "- float(): crea un real a partir de un literal o variable de tipo entero, un literal o variable de tipo real o un literal o variable de tipo cadena válido.\n",
    "- str(): crea una cadena a partir de distintos tipos de datos, entre los que se incluyen enteros, reales y otras cadenas."
   ]
  },
  {
   "cell_type": "code",
   "execution_count": 90,
   "id": "feaee4e5",
   "metadata": {},
   "outputs": [],
   "source": [
    "# int(\"123\")"
   ]
  },
  {
   "cell_type": "code",
   "execution_count": 91,
   "id": "9719de22",
   "metadata": {},
   "outputs": [],
   "source": [
    "# str(123)"
   ]
  },
  {
   "cell_type": "code",
   "execution_count": 92,
   "id": "148d170b",
   "metadata": {},
   "outputs": [],
   "source": [
    "# float(\"123.45\")"
   ]
  },
  {
   "cell_type": "code",
   "execution_count": 93,
   "id": "d8aac882",
   "metadata": {},
   "outputs": [],
   "source": [
    "# Ejemplos de error:\n",
    "# float(\"abc\")  # ValueError: no se puede convertir 'abc' a flotante"
   ]
  },
  {
   "cell_type": "markdown",
   "id": "2f5d10fc",
   "metadata": {},
   "source": [
    "## Ámbito de una variable\n",
    "El ámbito de una variable es el contexto en el cual la variable es conocida. Las variables que se definen en el cuerpo de una función son variables locales, mientras que las que se definen a nivel de «módulo» son variables globales. Una variable local solo es visible en el interior de la función, mientras que una variable global puede usarse en cualquier parte del módulo (o lo que es lo mismo, del archivo que contiene nuestro código)."
   ]
  },
  {
   "cell_type": "code",
   "execution_count": 94,
   "id": "1d5ff056",
   "metadata": {},
   "outputs": [],
   "source": [
    "# var_global = 10 # Variable global\n",
    "\n",
    "# def funcion(): # Así se define una función\n",
    "#     var_local = 5 # Variable local\n",
    "#     print(var_global) # Accede a la variable global\n",
    "#     print(var_local) # Accede a la variable local\n",
    "\n",
    "# funcion() # Llama a la función"
   ]
  },
  {
   "cell_type": "markdown",
   "id": "7564719a",
   "metadata": {},
   "source": [
    "## Introspección\n",
    "Ya hemos revelado que en Python **una variable es un objeto**. Un objeto alberga, además del valor que almacena, una serie de **atributos** y **métodos**. Un método es una función que opera sobre el objeto. Según el tipo de dato de una variable, Python predefine un conjunto de métodos que facilitan la manipulación de ese tipo de dato.\n",
    "\n",
    "**La introspección** es la capacidad de examinar objetos durante la ejecución del programa para conocer su tipo, propiedades y métodos disponibles. Python ofrece funciones integradas que nos permiten \"inspeccionar\" cualquier objeto.\n",
    "\n",
    "\n",
    "| Función | Descripción | Ejemplo |\n",
    "|---------|-------------|---------|\n",
    "| `type()` | Devuelve el tipo de un objeto | `type(42)` → `<class 'int'>` |\n",
    "| `dir()` | Lista todos los métodos y atributos de un objeto | `dir(\"hola\")` |\n",
    "| `help()` | Muestra documentación completa del objeto | `help(str.upper)` |\n",
    "| `hasattr()` | Verifica si un objeto tiene un atributo específico | `hasattr(\"hola\", \"upper\")` |\n",
    "| `getattr()` | Obtiene el valor de un atributo | `getattr(\"hola\", \"upper\")` |\n",
    "| `callable()` | Verifica si un objeto es invocable (función/método) | `callable(print)` |\n",
    "\n"
   ]
  },
  {
   "cell_type": "code",
   "execution_count": 95,
   "id": "079ef6af",
   "metadata": {},
   "outputs": [],
   "source": [
    "# # Ejemplo de dir de un str\n",
    "# texto = \"Hola Mundo\"\n",
    "# print(dir(texto))"
   ]
  },
  {
   "cell_type": "code",
   "execution_count": 96,
   "id": "904b6920",
   "metadata": {},
   "outputs": [],
   "source": [
    "# texto.__add__(\"!!!\")"
   ]
  },
  {
   "cell_type": "code",
   "execution_count": 97,
   "id": "0fc7576d",
   "metadata": {},
   "outputs": [],
   "source": [
    "# print(texto)"
   ]
  },
  {
   "cell_type": "code",
   "execution_count": 98,
   "id": "bf7f54e6",
   "metadata": {},
   "outputs": [],
   "source": [
    "# texto.__class__"
   ]
  },
  {
   "cell_type": "code",
   "execution_count": 99,
   "id": "f1a1ee7a",
   "metadata": {},
   "outputs": [],
   "source": [
    "# texto.capitalize()"
   ]
  },
  {
   "cell_type": "code",
   "execution_count": 100,
   "id": "f9316442",
   "metadata": {},
   "outputs": [],
   "source": [
    "# texto.lower()"
   ]
  },
  {
   "cell_type": "code",
   "execution_count": 101,
   "id": "853b21fe",
   "metadata": {},
   "outputs": [],
   "source": [
    "# callable(texto.lower)"
   ]
  },
  {
   "cell_type": "code",
   "execution_count": 102,
   "id": "76e5be1e",
   "metadata": {},
   "outputs": [],
   "source": [
    "# texto.endswith(\"do\")"
   ]
  },
  {
   "cell_type": "code",
   "execution_count": 103,
   "id": "ea17c589",
   "metadata": {},
   "outputs": [],
   "source": [
    "# texto.replace(\"Mundo\", \"Python\")"
   ]
  },
  {
   "cell_type": "code",
   "execution_count": 104,
   "id": "1ca2a11b",
   "metadata": {},
   "outputs": [],
   "source": [
    "# texto.split(\" \")"
   ]
  },
  {
   "cell_type": "code",
   "execution_count": 105,
   "id": "0f7573dc",
   "metadata": {},
   "outputs": [],
   "source": [
    "# texto2 = \"Estoy aprendiendo Python\"\n",
    "# texto2.title()"
   ]
  },
  {
   "cell_type": "code",
   "execution_count": 106,
   "id": "2d85d302",
   "metadata": {},
   "outputs": [],
   "source": [
    "# texto2.split(\"o\")"
   ]
  },
  {
   "cell_type": "code",
   "execution_count": 107,
   "id": "1f67e944",
   "metadata": {},
   "outputs": [],
   "source": [
    "# texto2.count(\"o\")"
   ]
  },
  {
   "cell_type": "code",
   "execution_count": 108,
   "id": "d4cbe478",
   "metadata": {},
   "outputs": [],
   "source": [
    "# dir_int = \"C:/Users/Colvert/OneDrive/archivo_x.txt\"\n",
    "# dir_int.split(\"/\")[-1].replace(\".txt\", \".csv\")"
   ]
  },
  {
   "cell_type": "code",
   "execution_count": 109,
   "id": "591a48b1",
   "metadata": {},
   "outputs": [],
   "source": [
    "# dir(str) # Cambia str por int, list, dict, etc."
   ]
  },
  {
   "cell_type": "code",
   "execution_count": 110,
   "id": "141799e0",
   "metadata": {},
   "outputs": [],
   "source": [
    "# # Ejemplo de help\n",
    "# help(list)"
   ]
  },
  {
   "cell_type": "code",
   "execution_count": 111,
   "id": "43620bf2",
   "metadata": {},
   "outputs": [],
   "source": [
    "# lista = [1, 4, 3, 5, 2]\n",
    "# lista.sort()"
   ]
  },
  {
   "cell_type": "code",
   "execution_count": 112,
   "id": "e78e2c43",
   "metadata": {},
   "outputs": [],
   "source": [
    "# lista.append(6)\n",
    "# lista"
   ]
  },
  {
   "cell_type": "code",
   "execution_count": 113,
   "id": "4ccc707c",
   "metadata": {},
   "outputs": [],
   "source": [
    "# lista.pop()\n",
    "# lista"
   ]
  },
  {
   "cell_type": "code",
   "execution_count": 114,
   "id": "26c3eb30",
   "metadata": {},
   "outputs": [],
   "source": [
    "# lista.clear()\n",
    "# lista"
   ]
  },
  {
   "cell_type": "code",
   "execution_count": 115,
   "id": "65cf91c2",
   "metadata": {},
   "outputs": [],
   "source": [
    "# lista1 = [1,2,3,4,5]\n",
    "# lista2 = [6,7]\n",
    "\n",
    "# lista1.extend(lista2)\n",
    "# lista1"
   ]
  },
  {
   "cell_type": "code",
   "execution_count": 116,
   "id": "af5b07f4",
   "metadata": {},
   "outputs": [],
   "source": [
    "# lista1.sort(reverse=True)\n",
    "# lista1"
   ]
  },
  {
   "cell_type": "code",
   "execution_count": 117,
   "id": "ea8bf70d",
   "metadata": {},
   "outputs": [],
   "source": [
    "# help(set)"
   ]
  },
  {
   "cell_type": "code",
   "execution_count": 118,
   "id": "8e33dfb6",
   "metadata": {},
   "outputs": [],
   "source": [
    "# # Ejemplo de set\n",
    "# set1 = {1, 2, 3, 3, 5, 4} # set es palabra reservada, no usar como nombre de variable\n",
    "# set1"
   ]
  },
  {
   "cell_type": "code",
   "execution_count": 119,
   "id": "ea28744b",
   "metadata": {},
   "outputs": [],
   "source": [
    "# set1.add(6) \n",
    "# set1"
   ]
  },
  {
   "cell_type": "code",
   "execution_count": 120,
   "id": "7e2d2e52",
   "metadata": {},
   "outputs": [],
   "source": [
    "# set1.difference({2, 3})"
   ]
  },
  {
   "cell_type": "code",
   "execution_count": 121,
   "id": "a1d55356",
   "metadata": {},
   "outputs": [],
   "source": [
    "# # Ejemplo de tupla\n",
    "# tupla = (1, 2, 3, 3, 4, 5)\n",
    "# tupla"
   ]
  },
  {
   "cell_type": "code",
   "execution_count": 122,
   "id": "b19ce269",
   "metadata": {},
   "outputs": [],
   "source": [
    "# set(tupla)"
   ]
  },
  {
   "cell_type": "code",
   "execution_count": 123,
   "id": "5748b72f",
   "metadata": {},
   "outputs": [],
   "source": [
    "# tupla.pop(0) #"
   ]
  },
  {
   "cell_type": "code",
   "execution_count": 124,
   "id": "9189104f",
   "metadata": {},
   "outputs": [],
   "source": [
    "# # Eliminar una variable\n",
    "# a = 5\n",
    "# del a"
   ]
  },
  {
   "cell_type": "markdown",
   "id": "e39005f4",
   "metadata": {},
   "source": [
    "# 🏷️ Operadores\n",
    "Los operadores son símbolos que indican la operación que se va a llevar a cabo, por ejemplo, sumar o restar. Python cuenta con un gran número de operadores: de asignación, aritméticos, lógicos, relacionales o de comparación, a nivel de bit, de pertenencia y de identidad."
   ]
  },
  {
   "cell_type": "markdown",
   "id": "4b8ea861",
   "metadata": {},
   "source": [
    "## Operadores de asignación\n",
    "Los operadores de asignación son aquellos que permiten dar un valor a una variable o modificarlo.\n",
    "\n",
    "| Operador | Descripción | Ejemplo | Equivalente simple |\n",
    "|----------|-------------|---------|-------------------|\n",
    "| `=` | Asignación simple | `a = b` |  |\n",
    "| `+=` | Asignación de suma | `a += b` | `a = a + b` |\n",
    "| `-=` | Asignación de resta | `a -= b` | `a = a - b` |\n",
    "| `*=` | Asignación de multiplicación | `a *= b` | `a = a * b` |\n",
    "| `/=` | Asignación de división | `a /= b` | `a = a / b` |\n",
    "| `%=` | Asignación de módulo | `a %= b` | `a = a % b` |\n",
    "| `**=` | Asignación exponencial | `a **= b` | `a = a ** b` |\n",
    "| `//=` | Asignación de división entera | `a //= b` | `a = a // b` |"
   ]
  },
  {
   "cell_type": "code",
   "execution_count": 125,
   "id": "fe7232b1",
   "metadata": {},
   "outputs": [],
   "source": [
    "# # Ejemplo de uso de operadores de asignación:\n",
    "# x = 5 # Asignación simple\n",
    "# print(x)\n",
    "# x += 3 # Equivalente a x = x + 3\n",
    "# print(x)"
   ]
  },
  {
   "cell_type": "code",
   "execution_count": 126,
   "id": "394991a8",
   "metadata": {},
   "outputs": [],
   "source": [
    "# x = 5\n",
    "# x**=2 # Equivalente a x = x ** y\n",
    "# print(x)"
   ]
  },
  {
   "cell_type": "code",
   "execution_count": 127,
   "id": "f70a08a4",
   "metadata": {},
   "outputs": [],
   "source": [
    "# x = 10\n",
    "# x %= 3 # Equivalente a x = x % y\n",
    "# print(x)"
   ]
  },
  {
   "cell_type": "code",
   "execution_count": 128,
   "id": "d1ee0a8b",
   "metadata": {},
   "outputs": [],
   "source": [
    "# x = 10\n",
    "# x //= 3 # Equivalente a x = x // y\n",
    "# print(x)"
   ]
  },
  {
   "cell_type": "markdown",
   "id": "4b8807ee",
   "metadata": {},
   "source": [
    "## Operadores aritméticos\n",
    "Los operadores aritméticos se utilizan para realizar operaciones aritméticas, es decir, para manipular datos numéricos por medio de operaciones matemáticas, como pueden ser sumar, restar o multiplicar.\n",
    "| Operador | Descripción | Ejemplo |\n",
    "|----------|-------------|---------|\n",
    "| `+` | Suma | `a + b` |\n",
    "| `-` | Resta | `a - b` |\n",
    "| `*` | Multiplicación | `a * b` |\n",
    "| `**` | Potencia | `a ** b` |\n",
    "| `/` | Cociente de la división | `a / b` |\n",
    "| `//` | Cociente de la división entera | `a // b` |\n",
    "| `%` | Resto de la división entera | `a % b` |"
   ]
  },
  {
   "cell_type": "code",
   "execution_count": 129,
   "id": "154ecd06",
   "metadata": {},
   "outputs": [],
   "source": [
    "# # Ejemplo de uso de operadores aritméticos:\n",
    "# a = 15\n",
    "# b = 4\n",
    "# print(\"Suma:\", a + b)          # Suma\n",
    "# print(\"Resta:\", a - b)         # Resta\n",
    "# print(\"Multiplicación:\", a * b) # Multiplicación\n",
    "# print(\"División:\", a / b)       # División\n",
    "# print(\"División entera:\", a // b) # División entera\n",
    "# print(\"Módulo:\", a % b)         # Módulo"
   ]
  },
  {
   "cell_type": "code",
   "execution_count": 130,
   "id": "ca1cf497",
   "metadata": {},
   "outputs": [],
   "source": [
    "# sqrt(9)"
   ]
  },
  {
   "cell_type": "code",
   "execution_count": 131,
   "id": "01f3d70d",
   "metadata": {},
   "outputs": [],
   "source": [
    "# import math # Math es la librería matemática estándar de Python"
   ]
  },
  {
   "cell_type": "code",
   "execution_count": 132,
   "id": "7084a40a",
   "metadata": {},
   "outputs": [],
   "source": [
    "# math.sqrt(9) # Raíz cuadrada"
   ]
  },
  {
   "cell_type": "code",
   "execution_count": 133,
   "id": "bec3d414",
   "metadata": {},
   "outputs": [],
   "source": [
    "# math.sin(30)"
   ]
  },
  {
   "cell_type": "markdown",
   "id": "8ee4532a",
   "metadata": {},
   "source": [
    "## Operadores relacionales o de comparación\n",
    "Los operadores relacionales son símbolos que se utilizan para comparar dos valores o expresiones. El resultado de la evaluación con estos operadores puede ser `True`, si la comparación es cierta, o `False`, si la comparación es falsa.\n",
    "\n",
    "| Operador | Descripción | Ejemplo |\n",
    "|----------|-------------|---------|\n",
    "| `==` | Igual a | `a == b` |\n",
    "| `!=` | Distinto de | `a != b` |\n",
    "| `>` | Mayor que | `a > b` |\n",
    "| `<` | Menor que | `a < b` |\n",
    "| `>=` | Mayor o igual que | `a >= b` |\n",
    "| `<=` | Menor o igual que | `a <= b` |"
   ]
  },
  {
   "cell_type": "code",
   "execution_count": 134,
   "id": "331e21fd",
   "metadata": {},
   "outputs": [],
   "source": [
    "# # Ejemplo de operadores de comparación:\n",
    "# a = 10\n",
    "# b = 20\n",
    "# print(\"a es igual a b:\", a == b)\n",
    "# print(\"a es diferente de b:\", a != b)\n",
    "# print(\"a es mayor que b:\", a > b)\n",
    "# print(\"a es menor que b:\", a < b)\n",
    "# print(\"a es mayor o igual que b:\", a >= b)\n",
    "# print(\"a es menor o igual que b:\", a <= b)"
   ]
  },
  {
   "cell_type": "code",
   "execution_count": 135,
   "id": "0f137088",
   "metadata": {},
   "outputs": [],
   "source": [
    "# 2 == (4/2) # No confundir con 2 = (4/2) que es incorrecto"
   ]
  },
  {
   "cell_type": "code",
   "execution_count": 136,
   "id": "5783d9a7",
   "metadata": {},
   "outputs": [],
   "source": [
    "# \"Hola\" == \"hola\" # Las mayúsculas importan"
   ]
  },
  {
   "cell_type": "markdown",
   "id": "5bb30e57",
   "metadata": {},
   "source": [
    "## Operadores lógicos\n",
    "Los operadores lógicos o booleanos son aquellos que permiten conectar dos expresiones de comparación y evaluarlas de forma lógica, excepto el operador not que invierte el valor lógico de la expresión sobre la que se aplica. En Python existen tres operadores lógicos: and (y), or (o) y not (no). Los operadores and y or tienen la sintaxis expresión operador expresión, mientras que el operador not tiene la sintaxis operador expresión. Las operaciones con este tipo de operadores siempre devuelven un valor de tipo booleano: True (verdadero) o False (falso).\n",
    "\n",
    "Los ordenadores funcionan con números binarios (0 y 1), lo que permite representar cualquier información, desde imágenes hasta aplicaciones. Este principio se basa en el álgebra de Boole, creada en el siglo XIX, donde los valores lógicos verdadero (1) y falso (0) sustentan el diseño de los circuitos y la lógica computacional moderna.\n",
    "\n",
    "Operadores lógicos:\n",
    "| Operador | Descripción | Ejemplo |\n",
    "|----------|-------------|---------|\n",
    "| `and` | Operador «y» | `a and b` |\n",
    "| `or` | Operador «o» | `a or b` |\n",
    "| `not` | Operador «no» | `not a` |\n",
    "\n",
    "\n",
    "Tabla de verdad del operador lógico `and`:\n",
    "| Expresión a | Expresión b | Resultado |\n",
    "|-------------|-------------|-----------|\n",
    "| `True` | `True` | `True` |\n",
    "| `True` | `False` | `False` |\n",
    "| `False` | `True` | `False` |\n",
    "| `False` | `False` | `False` |\n",
    "\n",
    "\n",
    "Tabla de verdad del operador lógico `or`:\n",
    "| Expresión a | Expresión b | Resultado |\n",
    "|-------------|-------------|-----------|\n",
    "| `True` | `True` | `` |\n",
    "| `True` | `False` | `` |\n",
    "| `False` | `True` | `` |\n",
    "| `False` | `False` | `` |\n",
    "\n",
    "\n",
    "Tabla de verdad del operador lógico `not`:\n",
    "| Expresión a | Resultado |\n",
    "|-------------|-----------|\n",
    "| `True` | `False` |\n",
    "| `False` | `True` |"
   ]
  },
  {
   "cell_type": "code",
   "execution_count": 137,
   "id": "18dcba4b",
   "metadata": {},
   "outputs": [],
   "source": [
    "# # Ejemplo de uso de operadores de logicos:\n",
    "# a = (5 > 4)\n",
    "# print(a)\n",
    "# b = (10 <= 9)\n",
    "# print(b)"
   ]
  },
  {
   "cell_type": "code",
   "execution_count": 138,
   "id": "f37333dd",
   "metadata": {},
   "outputs": [],
   "source": [
    "# (5 > 4) and (10 <= 9)"
   ]
  },
  {
   "cell_type": "code",
   "execution_count": 139,
   "id": "6e446f2f",
   "metadata": {},
   "outputs": [],
   "source": [
    "# (5 > 4) or (10 <= 9)"
   ]
  },
  {
   "cell_type": "code",
   "execution_count": 140,
   "id": "053b8a94",
   "metadata": {},
   "outputs": [],
   "source": [
    "# not(5 > 4)"
   ]
  },
  {
   "cell_type": "code",
   "execution_count": 141,
   "id": "4b64d083",
   "metadata": {},
   "outputs": [],
   "source": [
    "# not((5 > 4) or (10 <= 9))"
   ]
  },
  {
   "cell_type": "code",
   "execution_count": 142,
   "id": "3fdb2373",
   "metadata": {},
   "outputs": [],
   "source": [
    "# not(((5 > 4) or (10 <= 9)) and (3 == 3))"
   ]
  },
  {
   "cell_type": "markdown",
   "id": "4ddc8fdb",
   "metadata": {},
   "source": [
    "## Operadores de pertenencia\n",
    "Los operadores de pertenencia, también conocidos como operadores miembro, permiten comprobar si un dato forma parte o no de una colección: una lista, una tupla, una cadena, etc.\n",
    "\n",
    "| Operador | Descripción | Ejemplo |\n",
    "|----------|-------------|---------|\n",
    "| `in` | Operador pertenece a | `a in b` |\n",
    "| `not in` | Operador no pertenece a | `a not in b` |"
   ]
  },
  {
   "cell_type": "code",
   "execution_count": 143,
   "id": "0505b824",
   "metadata": {},
   "outputs": [],
   "source": [
    "# # Ejemplo de uso de operadores de pertenencia:\n",
    "# a = [1, 2, 3, 4, 5]\n",
    "# print(3 in a)\n",
    "# print(6 in a)\n",
    "# print(3 not in a)"
   ]
  },
  {
   "cell_type": "code",
   "execution_count": 144,
   "id": "7f42e11c",
   "metadata": {},
   "outputs": [],
   "source": [
    "# # Verificar si un elemento está en una lista\n",
    "# paises = [\"Colombia\", \"Ecuador\", \"Perú\", \"Brasil\", \"Venezuela\"]\n",
    "# print(\"Colombia\" in paises)        \n",
    "# print(\"Argentina\" in paises)       \n",
    "# print(\"Chile\" not in paises)       "
   ]
  },
  {
   "cell_type": "code",
   "execution_count": 145,
   "id": "9eb111fa",
   "metadata": {},
   "outputs": [],
   "source": [
    "# # Verificar caracteres en una cadena\n",
    "# coordenada = \"4.6097N, 74.0817W\"\n",
    "# print(\"N\" in coordenada)           \n",
    "# print(\"S\" in coordenada)           "
   ]
  },
  {
   "cell_type": "markdown",
   "id": "704e29aa",
   "metadata": {},
   "source": [
    "## Operadores de identidad\n",
    "Los operadores de identidad evalúan si las referencias de dos variables apuntan al mismo objeto. Python cuenta con dos operadores de identidad.\n",
    "\n",
    "| Operador | Descripción | Ejemplo |\n",
    "|----------|-------------|---------|\n",
    "| `is` | Operador es | `a is b` |\n",
    "| `is not` | Operador no es | `a is not b` |\n",
    "\n",
    "**Diferencia clave:** Los operadores de identidad (`is`) verifican si dos variables apuntan al **mismo objeto en memoria**, mientras que los operadores de igualdad (`==`) verifican si los **valores son iguales**.\n",
    "\n",
    "**⚠️ Casos especiales en Python:**\n",
    "- **Números pequeños (-5 a 256):** Python los almacena en cache, por lo que `is` puede dar `True`\n",
    "- **Strings cortos:** Python optimiza strings pequeños, reutilizando objetos\n",
    "- **Objetos None:** Siempre usar `is None` en lugar de `== None`\n",
    "\n",
    "Las **variables** son referencias a objetos que guardan los valores de dichas variables. Todos los datos que maneja un programa de ordenador se almacenan en su memoria (denominada RAM). Una variable es, realmente, una ubicación en esa memoria, es decir, la posición de inicio de una celda de memoria en la que se almacena el dato. Si dos variables tienen distintos valores van a apuntar a distintos objetos, o sea, a distintas posiciones de memoria. Por tanto, puede darse el caso de que dos variables con los mismos valores apunten al mismo objeto o a dos objetos diferentes porque estén almacenados en diferentes espacios de memoria.\n"
   ]
  },
  {
   "cell_type": "code",
   "execution_count": 146,
   "id": "e46febeb",
   "metadata": {},
   "outputs": [],
   "source": [
    "# # Ejemplos de operadores de identidad\n",
    "\n",
    "# # Caso 1: Números pequeños (Python los optimiza)\n",
    "# a = 10\n",
    "# b = 10\n",
    "# print(f\"a is b: {a is b}\")\n",
    "# print(f\"a == b: {a == b}\")"
   ]
  },
  {
   "cell_type": "code",
   "execution_count": 147,
   "id": "8df604f1",
   "metadata": {},
   "outputs": [],
   "source": [
    "# # Caso 2: Números grandes (no se optimizan)\n",
    "# c = 1000\n",
    "# d = 1000\n",
    "# print(f\"c is d: {c is d}\")\n",
    "# print(f\"c == d: {c == d}\")"
   ]
  },
  {
   "cell_type": "code",
   "execution_count": 148,
   "id": "4b761066",
   "metadata": {},
   "outputs": [],
   "source": [
    "# # Caso 3: Listas (siempre objetos diferentes)\n",
    "# lista1 = [1, 2, 3]\n",
    "# lista2 = [1, 2, 3]\n",
    "# print(f\"lista1 is lista2: {lista1 is lista2}\")\n",
    "# print(f\"lista1 is not lista2: {lista1 is not lista2}\")\n",
    "# print(f\"lista1 != lista2: {lista1 != lista2}\")\n",
    "# print(f\"lista1 == lista2: {lista1 == lista2}\")"
   ]
  },
  {
   "cell_type": "code",
   "execution_count": 149,
   "id": "3ddaefb7",
   "metadata": {},
   "outputs": [],
   "source": [
    "# # Caso 4: Referencia a la misma lista\n",
    "# lista3 = lista1\n",
    "# print(lista1, lista3)\n",
    "# print(f\"lista1 is lista3: {lista1 is lista3}\")"
   ]
  },
  {
   "cell_type": "code",
   "execution_count": 150,
   "id": "e8beb92d",
   "metadata": {},
   "outputs": [],
   "source": [
    "# lista3.append(4)\n",
    "# print(lista1, lista3)\n",
    "# print(f\"lista1 is lista3: {lista1 is lista3}\")"
   ]
  },
  {
   "cell_type": "code",
   "execution_count": 151,
   "id": "7a684e71",
   "metadata": {},
   "outputs": [],
   "source": [
    "# lista4 = lista1.copy()\n",
    "# print(f\"lista1 is lista4: {lista1 is lista4}\")"
   ]
  },
  {
   "cell_type": "code",
   "execution_count": 152,
   "id": "d85bbe9a",
   "metadata": {},
   "outputs": [],
   "source": [
    "# # Caso 5: Verificación de None (uso recomendado)\n",
    "# coordenada = None\n",
    "# print(f\"coordenada is None: {coordenada is None}\")\n",
    "# print(f\"coordenada is not None: {coordenada is not None}\")"
   ]
  },
  {
   "cell_type": "code",
   "execution_count": 153,
   "id": "424ae98b",
   "metadata": {},
   "outputs": [],
   "source": [
    "# # Verificar ID de objetos en memoria\n",
    "# print(f\"ID de lista1: {id(lista1)}\")\n",
    "# print(f\"ID de lista3: {id(lista3)}\")\n",
    "# print(f\"ID de lista4: {id(lista4)}\")"
   ]
  },
  {
   "cell_type": "markdown",
   "id": "56eb330e",
   "metadata": {},
   "source": [
    "## Precedencia de los operadores\n",
    "Los operadores tienen un orden de prioridad preestablecido para determinar qué operaciones se deben evaluar primero en caso de que una expresión sea ambigua.\n",
    "\n",
    "| Prioridad | Operador | Descripción |\n",
    "|-----------|----------|-------------|\n",
    "| **1** | `**` | Potencia |\n",
    "| **2** | `*`, `/`, `%`, `//` | Multiplicación, división, módulo, división entera |\n",
    "| **3** | `+`, `-` | Suma y resta |\n",
    "| **4** | `<=`, `<`, `>`, `>=` | Operadores de comparación |\n",
    "| **5** | `==`, `!=` | Igual a y distinto a |\n",
    "| **6** | `=`, `%=`, `/=`, `//=`, `-=`, `+=`, `*=`, `**=` | Operadores de asignación |\n",
    "| **7** | `is`, `is not` | Operadores de identidad |\n",
    "| **8** | `in`, `not in` | Operadores de pertenencia |\n",
    "| **9** | `not`, `or`, `and` | Operadores lógicos |\n",
    "\n",
    "**Reglas importantes:**\n",
    "- **Mayor prioridad = se evalúa primero**\n",
    "- **Usa paréntesis** para cambiar el orden de evaluación\n",
    "- **En caso de empate** se evalúa de izquierda a derecha"
   ]
  },
  {
   "cell_type": "code",
   "execution_count": 154,
   "id": "c39a4230",
   "metadata": {},
   "outputs": [],
   "source": [
    "# # Ejemplo de precedencia de operadores\n",
    "# resultado = 2 + 3 * 4\n",
    "# print(resultado)\n",
    "\n",
    "# resultado = (2 + 3) * 4\n",
    "# print(resultado)"
   ]
  },
  {
   "cell_type": "code",
   "execution_count": 155,
   "id": "8885a75a",
   "metadata": {},
   "outputs": [],
   "source": [
    "# x = 5\n",
    "# y = 10\n",
    "# z = 15\n",
    "# print(f\"x < y and y < z: {x < y and y < z}\")\n",
    "# print(f\"not x > y and y < z: {not x > y and y < z}\")"
   ]
  },
  {
   "cell_type": "code",
   "execution_count": 156,
   "id": "99684635",
   "metadata": {},
   "outputs": [],
   "source": [
    "# a, b, c = 10, 5, 2\n",
    "# resultado = a + b * c ** 2 / 4 - 1\n",
    "# print(f\"a + b * c ** 2 / 4 - 1 = {resultado}\")"
   ]
  },
  {
   "cell_type": "code",
   "execution_count": 157,
   "id": "71d5252c",
   "metadata": {},
   "outputs": [],
   "source": [
    "# # Ejemplo con coordenadas geográficas\n",
    "# lat, lon = 19.2, -99.1\n",
    "# zona_valida = -90 <= lat <= 90 and -180 <= lon <= 180\n",
    "# print(f\"Coordenada ({lat}, {lon}) es válida: {zona_valida}\")"
   ]
  },
  {
   "cell_type": "markdown",
   "id": "7cf7e578",
   "metadata": {},
   "source": [
    "# 🚦 Control del flujo"
   ]
  },
  {
   "cell_type": "markdown",
   "id": "7578cb54",
   "metadata": {},
   "source": [
    "## Sentencia condicional if\n",
    "Las condiciones permiten elegir entre distintos caminos según el valor de una expresión. En pseudocódigo corresponde a la estructura SI...ENTONCES cuya semántica es la de «SI ocurre esto ENTONCES hacemos lo otro». Cuando la condición que comprobamos es verdadera, el flujo entra en el cuerpo del condicional; si es falsa, lo salta y continúa después de ese bloque de código."
   ]
  },
  {
   "cell_type": "code",
   "execution_count": 158,
   "id": "201b2d88",
   "metadata": {},
   "outputs": [],
   "source": [
    "# # Ejemplo de if\n",
    "# edad = 18\n",
    "# if edad >= 18:\n",
    "#     print(\"Eres mayor de edad\")\n",
    "# else:\n",
    "#     print(\"Eres menor de edad\")"
   ]
  },
  {
   "cell_type": "code",
   "execution_count": 159,
   "id": "6a6a3d7b",
   "metadata": {},
   "outputs": [],
   "source": [
    "# # if multiple\n",
    "# area = 10\n",
    "# if area < 50:\n",
    "#     print(\"Área pequeña\")\n",
    "# elif area < 200:\n",
    "#     print(\"Área mediana\")\n",
    "# else:\n",
    "#     print(\"Área grande\")"
   ]
  },
  {
   "cell_type": "markdown",
   "id": "a18e3a7a",
   "metadata": {},
   "source": [
    "## Sentencias repetitivas for y while"
   ]
  },
  {
   "cell_type": "markdown",
   "id": "5dfc26ca",
   "metadata": {},
   "source": [
    "### while\n",
    "Cuando nos encontramos ante la necesidad de repetir determinadas instrucciones mientras se cumpla una condición, la solución es siempre la sentencia while."
   ]
  },
  {
   "cell_type": "code",
   "execution_count": 160,
   "id": "4aea71cd",
   "metadata": {},
   "outputs": [],
   "source": [
    "# # Ejemplo de while\n",
    "# i = 0\n",
    "# while i < 5:\n",
    "#     print(i)"
   ]
  },
  {
   "cell_type": "markdown",
   "id": "60f0e5e9",
   "metadata": {},
   "source": [
    "### for\n",
    "Es muy habitual escribir un código con bucles dentro de estas dos posibles situaciones:\n",
    "1. Cuando utilizamos un contador en el seno de una repetición. El contador es una variable que va incrementándose o disminuyendo de forma constante en cada iteración del bucle hasta alcanzar un valor límite que marca el fin de las repeticiones.\n",
    "2. Cuando iteramos sobre los elementos de un contenedor, por ejemplo, una lista, para operar sobre cada uno de ellos. También en este caso conocemos de antemano el número de repeticiones que tendrían lugar."
   ]
  },
  {
   "cell_type": "code",
   "execution_count": 161,
   "id": "af0d4e66",
   "metadata": {},
   "outputs": [],
   "source": [
    "# # Ejemplo de for\n",
    "# lista = [10, 20, 30, 40, 50]\n",
    "# for n in lista:\n",
    "#     n *= 2\n",
    "#     print(n)"
   ]
  },
  {
   "cell_type": "code",
   "execution_count": 162,
   "id": "41b708cb",
   "metadata": {},
   "outputs": [],
   "source": [
    "# for i in range(5):\n",
    "#     print(i)"
   ]
  },
  {
   "cell_type": "code",
   "execution_count": 163,
   "id": "e6d3d371",
   "metadata": {},
   "outputs": [],
   "source": [
    "# for j in range(2, 10, 2):\n",
    "#     print(j)"
   ]
  },
  {
   "cell_type": "code",
   "execution_count": 164,
   "id": "39dfc70a",
   "metadata": {},
   "outputs": [],
   "source": [
    "# # For anidados\n",
    "# for i in range(0, 6, 2):\n",
    "#     for j in range(2):\n",
    "#         print(f\"i: {i}, j: {j}\")"
   ]
  },
  {
   "cell_type": "code",
   "execution_count": null,
   "id": "f4986539",
   "metadata": {},
   "outputs": [],
   "source": [
    "# lats = [10, 20, 30, 40, 50]\n",
    "# lons = [100, 110, 120, 130, 140]\n",
    "\n",
    "# for lat, lon in zip(lats, lons):\n",
    "#     print(f\"Latitud: {lat}, Longitud: {lon}\")"
   ]
  },
  {
   "cell_type": "markdown",
   "id": "6dca805f",
   "metadata": {},
   "source": [
    "### Control con break y continue\n",
    "La sentencia **break** permite «romper» un bucle en cualquier momento, terminar las iteraciones y continuar después del mismo. Generalmente usaremos break después de realizar alguna comprobación que motive abandonar una repetición while o for."
   ]
  },
  {
   "cell_type": "code",
   "execution_count": null,
   "id": "4822c56d",
   "metadata": {},
   "outputs": [],
   "source": [
    "# # Ejemplo de uso de break\n",
    "# for i in range(10):\n",
    "#     if i == 5:\n",
    "#         break\n",
    "#     print(i)"
   ]
  },
  {
   "cell_type": "code",
   "execution_count": null,
   "id": "6dc30ee3",
   "metadata": {},
   "outputs": [],
   "source": [
    "# # Usa break si el número es primo\n",
    "# num = 4\n",
    "# es_primo = True\n",
    "# for n in range(2, num):\n",
    "#     if num % n == 0:\n",
    "#         es_primo = False\n",
    "#         break\n",
    "\n",
    "# print(f\"El número {num} es primo: {es_primo}\")"
   ]
  },
  {
   "cell_type": "markdown",
   "id": "13b0bf14",
   "metadata": {},
   "source": [
    "la sentencia **continue** rompe ese flujo para saltar a la siguiente iteración. Gracias a esta sentencia podemos forzar la conclusión de una iteración para continuar con la siguiente."
   ]
  },
  {
   "cell_type": "code",
   "execution_count": null,
   "id": "7bbbb169",
   "metadata": {},
   "outputs": [],
   "source": [
    "# # Ejemplo de continue\n",
    "# pares = []\n",
    "# for i in range(20):\n",
    "#     if i % 2 != 0:\n",
    "#         continue\n",
    "#     # print(i)\n",
    "#     pares.append(i)\n",
    "\n",
    "# pares"
   ]
  },
  {
   "cell_type": "markdown",
   "id": "b5e2de2b",
   "metadata": {},
   "source": [
    "## Sentencia pass\n",
    "La sentencia pass no hace nada. En Python no podemos tener sin definir un bloque de código (por ejemplo, el cuerpo de una función, el cuerpo de una condición o el de un bucle). Es habitual usar pass cuando estamos escribiendo la estructura de nuestro programa pero aún no hemos abordado la implementación de determinados bloques de código."
   ]
  },
  {
   "cell_type": "code",
   "execution_count": null,
   "id": "29b88faf",
   "metadata": {},
   "outputs": [],
   "source": [
    "# # Ejemplo de pass\n",
    "# for n in range(5):\n",
    "#     pass  # Implementar más tarde\n"
   ]
  },
  {
   "cell_type": "code",
   "execution_count": null,
   "id": "d62cae20",
   "metadata": {},
   "outputs": [],
   "source": [
    "# # ejercicio: Modifica el código para el cálculo de un número primo usando la anidación de bucles para obtener de forma automática número primos menores a 1000. Aprovecha la opción de usar else para mostrar solo los números primos.\n",
    "\n",
    "# primos = []\n",
    "# for num in range(2, 1000):\n",
    "#     es_primo = True\n",
    "#     for n in range(2, num):\n",
    "#         if num % n == 0:\n",
    "#             es_primo = False\n",
    "#             break\n",
    "#     else:\n",
    "#         primos.append(num)\n",
    "\n",
    "# primos"
   ]
  },
  {
   "cell_type": "markdown",
   "id": "ffd53342",
   "metadata": {},
   "source": [
    "# 💬 Entrada y salida estándar"
   ]
  },
  {
   "cell_type": "markdown",
   "id": "5c55b327",
   "metadata": {},
   "source": [
    "Entrada de datos input"
   ]
  },
  {
   "cell_type": "code",
   "execution_count": null,
   "id": "96fb0fb5",
   "metadata": {},
   "outputs": [],
   "source": [
    "# # Entrada de datos\n",
    "# edad = input(\"Introduce tu edad: \")\n",
    "# print(f\"Tienes {edad} años\")"
   ]
  },
  {
   "cell_type": "code",
   "execution_count": null,
   "id": "17b5984f",
   "metadata": {},
   "outputs": [],
   "source": [
    "# # asegura que edad esta entre 0 y 120\n",
    "# edad = -1\n",
    "# while not (0 <= edad <= 120):\n",
    "#     edad = int(input(\"Introduce tu edad: \"))\n",
    "\n",
    "# print(f\"Tienes {edad} años\")"
   ]
  },
  {
   "cell_type": "code",
   "execution_count": null,
   "id": "362ec002",
   "metadata": {},
   "outputs": [],
   "source": [
    "# while True:\n",
    "#     print(\"Ciclo infinito\")"
   ]
  },
  {
   "cell_type": "markdown",
   "id": "2eaddde6",
   "metadata": {},
   "source": [
    "Salida print"
   ]
  },
  {
   "cell_type": "code",
   "execution_count": null,
   "id": "7e5d858d",
   "metadata": {},
   "outputs": [],
   "source": [
    "# nombre = \"Aníbal\"\n",
    "# apellido = \"Barca\"\n",
    "# edad = 19"
   ]
  },
  {
   "cell_type": "code",
   "execution_count": null,
   "id": "c7241eb9",
   "metadata": {},
   "outputs": [],
   "source": [
    "# print(\"Mi nombre es \" + nombre + \" \" + apellido + \"!\")"
   ]
  },
  {
   "cell_type": "code",
   "execution_count": null,
   "id": "e431d549",
   "metadata": {},
   "outputs": [],
   "source": [
    "# print(\"Mi nombre es\", nombre, apellido, \"!\", sep=\"-\")"
   ]
  },
  {
   "cell_type": "code",
   "execution_count": null,
   "id": "9b2c3e52",
   "metadata": {},
   "outputs": [],
   "source": [
    "# print(f\"Mi nombre es {nombre} {apellido}!\")"
   ]
  },
  {
   "cell_type": "code",
   "execution_count": null,
   "id": "662d8bc9",
   "metadata": {},
   "outputs": [],
   "source": [
    "# print(\"Mi nombre es {} {}!\".format(nombre, apellido))"
   ]
  },
  {
   "cell_type": "code",
   "execution_count": null,
   "id": "d4d84430",
   "metadata": {},
   "outputs": [],
   "source": [
    "# print(\"Tengo {1} años y mi nombre es {0}\".format(nombre, edad))"
   ]
  },
  {
   "cell_type": "code",
   "execution_count": null,
   "id": "b4daaa93",
   "metadata": {},
   "outputs": [],
   "source": [
    "# print(f\"Mi nombre es:\\n{nombre} {apellido}\")"
   ]
  },
  {
   "cell_type": "code",
   "execution_count": null,
   "id": "598f1cb9",
   "metadata": {},
   "outputs": [],
   "source": [
    "# print(f\"\\tMi nombre es:\\n\\t\\t{nombre} {apellido}\")"
   ]
  },
  {
   "cell_type": "code",
   "execution_count": null,
   "id": "e5b8a545",
   "metadata": {},
   "outputs": [],
   "source": [
    "# print(f\"   Mi nombre es {nombre} {apellido}   \".center(50, '='))"
   ]
  },
  {
   "cell_type": "code",
   "execution_count": null,
   "id": "e494bd54",
   "metadata": {},
   "outputs": [],
   "source": [
    "# print(f\"Mi nombre es {nombre} {apellido}\".rjust(50, \"-\"))"
   ]
  },
  {
   "cell_type": "code",
   "execution_count": null,
   "id": "07055d2b",
   "metadata": {},
   "outputs": [],
   "source": [
    "# altura = 10\n",
    "# for i in range(altura):\n",
    "#     print(\" \" * (altura - i - 1) + \"*\" * (2 * i + 1))\n",
    "# # base\n",
    "# base = 2\n",
    "# for t in range(base):\n",
    "#     print(\" \" * (altura - 2) + \"***\")"
   ]
  },
  {
   "cell_type": "markdown",
   "id": "22a2c6b7",
   "metadata": {},
   "source": [
    "# 📦 Listas, tuplas y conjuntos"
   ]
  },
  {
   "cell_type": "code",
   "execution_count": null,
   "id": "4ac8347b",
   "metadata": {},
   "outputs": [],
   "source": [
    "# lista = [1, 2.5, \"hola\", True, [1, 4]]\n",
    "# lista"
   ]
  },
  {
   "cell_type": "code",
   "execution_count": null,
   "id": "f8a39ee9",
   "metadata": {},
   "outputs": [],
   "source": [
    "# lista = [1, 2, 3, 4, 5, 6, 7, 8, 9, 10]"
   ]
  },
  {
   "cell_type": "code",
   "execution_count": null,
   "id": "aa0ddd3e",
   "metadata": {},
   "outputs": [],
   "source": [
    "# lista[0]"
   ]
  },
  {
   "cell_type": "code",
   "execution_count": null,
   "id": "d0855d0f",
   "metadata": {},
   "outputs": [],
   "source": [
    "# lista[:2] # Dos primeros elementos"
   ]
  },
  {
   "cell_type": "code",
   "execution_count": null,
   "id": "99ecbdb3",
   "metadata": {},
   "outputs": [],
   "source": [
    "# lista[-2:] # Dos últimos elementos"
   ]
  },
  {
   "cell_type": "code",
   "execution_count": null,
   "id": "1bfdd6a5",
   "metadata": {},
   "outputs": [],
   "source": [
    "# lista[:-2] # Todos menos los dos últimos"
   ]
  },
  {
   "cell_type": "code",
   "execution_count": null,
   "id": "0c4018cf",
   "metadata": {},
   "outputs": [],
   "source": [
    "# lista[3:7] # Elementos dentro del rango 3-6"
   ]
  },
  {
   "cell_type": "code",
   "execution_count": null,
   "id": "e5c1ae47",
   "metadata": {},
   "outputs": [],
   "source": [
    "# lista[2:3]"
   ]
  },
  {
   "cell_type": "code",
   "execution_count": null,
   "id": "1e836090",
   "metadata": {},
   "outputs": [],
   "source": [
    "# lista = list(range(1, 11, 2))\n",
    "# lista"
   ]
  },
  {
   "cell_type": "code",
   "execution_count": null,
   "id": "52268c20",
   "metadata": {},
   "outputs": [],
   "source": [
    "# del lista[0]\n",
    "# lista"
   ]
  },
  {
   "cell_type": "code",
   "execution_count": null,
   "id": "d0d159e6",
   "metadata": {},
   "outputs": [],
   "source": [
    "# lista[1] = 100\n",
    "# lista"
   ]
  },
  {
   "cell_type": "code",
   "execution_count": null,
   "id": "6dc93dad",
   "metadata": {},
   "outputs": [],
   "source": [
    "# lista.append(200)\n",
    "# lista"
   ]
  },
  {
   "cell_type": "code",
   "execution_count": null,
   "id": "c1236b6d",
   "metadata": {},
   "outputs": [],
   "source": [
    "# lista.extend(range(4))\n",
    "# lista"
   ]
  },
  {
   "cell_type": "code",
   "execution_count": null,
   "id": "b2102004",
   "metadata": {},
   "outputs": [],
   "source": [
    "# len(lista)"
   ]
  },
  {
   "cell_type": "code",
   "execution_count": null,
   "id": "46a55967",
   "metadata": {},
   "outputs": [],
   "source": [
    "# lista = list(f\"{nombre} {apellido}\")\n",
    "# lista"
   ]
  },
  {
   "cell_type": "code",
   "execution_count": null,
   "id": "f236abc5",
   "metadata": {},
   "outputs": [],
   "source": [
    "# lista.count(\"a\")"
   ]
  },
  {
   "cell_type": "code",
   "execution_count": null,
   "id": "11d15dea",
   "metadata": {},
   "outputs": [],
   "source": [
    "# lista.insert(0, \"$\")\n",
    "# lista"
   ]
  },
  {
   "cell_type": "code",
   "execution_count": null,
   "id": "a6f3a086",
   "metadata": {},
   "outputs": [],
   "source": [
    "# lista.insert(len(lista), \"!\")\n",
    "# lista"
   ]
  },
  {
   "cell_type": "code",
   "execution_count": null,
   "id": "ba7c7720",
   "metadata": {},
   "outputs": [],
   "source": [
    "# lista.remove(\"$\")\n",
    "# lista"
   ]
  },
  {
   "cell_type": "code",
   "execution_count": null,
   "id": "315c3fe3",
   "metadata": {},
   "outputs": [],
   "source": [
    "# lista.pop()\n",
    "# lista"
   ]
  },
  {
   "cell_type": "code",
   "execution_count": null,
   "id": "d43ae825",
   "metadata": {},
   "outputs": [],
   "source": [
    "# lista.pop(1)\n",
    "# lista"
   ]
  },
  {
   "cell_type": "code",
   "execution_count": null,
   "id": "c4ea0652",
   "metadata": {},
   "outputs": [],
   "source": [
    "# r = lista.pop(0)\n",
    "# r"
   ]
  },
  {
   "cell_type": "code",
   "execution_count": null,
   "id": "3cc99eb8",
   "metadata": {},
   "outputs": [],
   "source": [
    "# lista.clear()\n",
    "# lista"
   ]
  },
  {
   "cell_type": "code",
   "execution_count": null,
   "id": "7f72874b",
   "metadata": {},
   "outputs": [],
   "source": [
    "# lista = [10, 50, 35, 0]\n",
    "# lista"
   ]
  },
  {
   "cell_type": "code",
   "execution_count": null,
   "id": "eeeabb8f",
   "metadata": {},
   "outputs": [],
   "source": [
    "# lista.index(35)"
   ]
  },
  {
   "cell_type": "code",
   "execution_count": null,
   "id": "00a403b9",
   "metadata": {},
   "outputs": [],
   "source": [
    "# lista[2]"
   ]
  },
  {
   "cell_type": "code",
   "execution_count": null,
   "id": "49dfe79b",
   "metadata": {},
   "outputs": [],
   "source": [
    "# lista.sort()\n",
    "# lista"
   ]
  },
  {
   "cell_type": "code",
   "execution_count": null,
   "id": "7710d013",
   "metadata": {},
   "outputs": [],
   "source": [
    "# lista2 = lista.copy()\n",
    "# lista2"
   ]
  },
  {
   "cell_type": "code",
   "execution_count": null,
   "id": "5b3152bb",
   "metadata": {},
   "outputs": [],
   "source": [
    "# lista.reverse()\n",
    "# lista"
   ]
  },
  {
   "cell_type": "code",
   "execution_count": null,
   "id": "12efa366",
   "metadata": {},
   "outputs": [],
   "source": [
    "# lista.append(-1)\n",
    "# lista"
   ]
  },
  {
   "cell_type": "code",
   "execution_count": null,
   "id": "62140d39",
   "metadata": {},
   "outputs": [],
   "source": [
    "# latitudes = [19.4, 18.2, 20.6]\n",
    "# for l in range(len(latitudes)):\n",
    "#     latitudes[l] += 1\n",
    "\n",
    "# latitudes"
   ]
  },
  {
   "cell_type": "code",
   "execution_count": null,
   "id": "948081e9",
   "metadata": {},
   "outputs": [],
   "source": [
    "# latitudes = [19.4, 18.2, 20.6]\n",
    "# # Lista por comprensión\n",
    "# latitudes = [lat + 1 for lat in latitudes]\n",
    "# latitudes"
   ]
  },
  {
   "cell_type": "code",
   "execution_count": null,
   "id": "ba910546",
   "metadata": {},
   "outputs": [],
   "source": [
    "# edades = [23, 32, 19, 22, 25, 30, 27]\n",
    "\n",
    "# mayores = []\n",
    "# for edad in edades:\n",
    "#     if edad > 25:\n",
    "#         mayores.append(edad)\n",
    "\n",
    "# mayores"
   ]
  },
  {
   "cell_type": "code",
   "execution_count": null,
   "id": "5a6bd155",
   "metadata": {},
   "outputs": [],
   "source": [
    "# edades = [23, 32, 19, 22, 25, 30, 27]\n",
    "# # Lista por comprensión\n",
    "# mayores = [x for x in edades if x > 25]\n",
    "\n",
    "# print('Hay', len(mayores), 'mayores de 25 años, y son:', mayores)"
   ]
  },
  {
   "cell_type": "code",
   "execution_count": null,
   "id": "068ce9ff",
   "metadata": {},
   "outputs": [],
   "source": [
    "# alumnos = ['Trajano', 'Publio', 'Cesar', 'Julia']\n",
    "\n",
    "# parejas_posibles = [(alumnos[i], alumnos[j]) for i in range(len(alumnos)) for j in range(i+1, len(alumnos))]\n",
    "# parejas_posibles\n",
    "\n",
    "# # # Forma tradicional\n",
    "# # parejas_posibles = []  # Lista vacía\n",
    "# # for i in range(len(alumnos)):  # Para cada índice i en alumnos\n",
    "# #     for j in range(i+1, len(alumnos)):  # Para cada índice j mayor que i\n",
    "# #         parejas_posibles.append((alumnos[i], alumnos[j]))  # Agrega la pareja a la lista"
   ]
  },
  {
   "cell_type": "code",
   "execution_count": null,
   "id": "5b24c3f3",
   "metadata": {},
   "outputs": [],
   "source": [
    "# # tupla\n",
    "# tupla = (1, 2, 3, 4, 5)\n",
    "# tupla.count(3)"
   ]
  },
  {
   "cell_type": "code",
   "execution_count": null,
   "id": "bb49d929",
   "metadata": {},
   "outputs": [],
   "source": [
    "# # Conjunto\n",
    "# conjunto = {1, 2, 3, 3}\n",
    "# conjunto"
   ]
  },
  {
   "cell_type": "code",
   "execution_count": null,
   "id": "bf8e1f3f",
   "metadata": {},
   "outputs": [],
   "source": [
    "# pares = {2, 4, 6, 8}\n",
    "# impares = {1, 3, 5, 7}\n",
    "\n",
    "# pares.isdisjoint(impares) # True si no tienen elementos en común"
   ]
  },
  {
   "cell_type": "code",
   "execution_count": null,
   "id": "7dfbc8bf",
   "metadata": {},
   "outputs": [],
   "source": [
    "# set1 = {1, 2, 3}\n",
    "# set2 = {2, 4}\n",
    "\n",
    "# set1.issubset(pares) # subconjunto"
   ]
  },
  {
   "cell_type": "code",
   "execution_count": null,
   "id": "d9720761",
   "metadata": {},
   "outputs": [],
   "source": [
    "# set2.issubset(pares) # subconjunto"
   ]
  },
  {
   "cell_type": "code",
   "execution_count": null,
   "id": "ed3372aa",
   "metadata": {},
   "outputs": [],
   "source": [
    "# set1|set2 # Unión"
   ]
  },
  {
   "cell_type": "code",
   "execution_count": null,
   "id": "8242f2af",
   "metadata": {},
   "outputs": [],
   "source": [
    "# set1 & set2 # Intersección"
   ]
  },
  {
   "cell_type": "code",
   "execution_count": null,
   "id": "2729d1f3",
   "metadata": {},
   "outputs": [],
   "source": [
    "# set1 - set2 # Diferencia"
   ]
  },
  {
   "cell_type": "code",
   "execution_count": null,
   "id": "174bb6a8",
   "metadata": {},
   "outputs": [],
   "source": [
    "# set1 ^ set2 # Diferencia simétrica"
   ]
  },
  {
   "cell_type": "markdown",
   "id": "73a39d5c",
   "metadata": {},
   "source": [
    "Ejercicios:\n",
    "``` Python\n",
    "- list(range(10, 2, -3))\n",
    "- 'abc' * 2\n",
    "- max(list(range(10, 21, 2)))\n",
    "- min(list(range(10, 21, 2)))\n",
    "- tuple(zip([-2, 4, 0], [7, 6, 5], 'bla'))\n",
    "- 'abracadabra'.count('a')\n",
    "```"
   ]
  },
  {
   "cell_type": "markdown",
   "id": "e124723a",
   "metadata": {},
   "source": [
    "# 🔍 Expresiones regulares\n",
    "Las **expresiones regulares** (regex) son secuencias de caracteres que forman un patrón de búsqueda. Son extremadamente útiles para buscar, extraer, validar y manipular texto de manera eficiente. En Python, trabajamos con el módulo `re` para utilizar esta poderosa herramienta.\n",
    "\n",
    "\n",
    "Las **clases predefinidas** son caracteres especiales que representan conjuntos comunes de caracteres, facilitando la escritura de patrones. Estas clases simplifican enormemente la creación de expresiones regulares para casos frecuentes como números, letras, espacios, etc.\n",
    "\n",
    "| Clase | Descripción |\n",
    "|-------|-------------|\n",
    "| `\\d` | Cualquier carácter numérico, equivale a `[0-9]` |\n",
    "| `\\D` | Cualquier carácter no numérico, equivale a `[^0-9]` |\n",
    "| `\\w` | Cualquier carácter alfanumérico, equivale a `[A-Za-z0-9_]` |\n",
    "| `\\W` | Cualquier carácter no alfanumérico, equivale a `[^A-Za-z0-9_]` |\n",
    "| `\\s` | Cualquier carácter que es un espacio en blanco, equivale a `[\\t\\n\\r\\f]` |\n",
    "| `\\S` | Cualquier carácter que no es un espacio en blanco, equivale a `[^\\t\\n\\r\\f]` |\n",
    "| `.` | Cualquier carácter excepto el carácter `\\n` |"
   ]
  },
  {
   "cell_type": "code",
   "execution_count": null,
   "id": "a476f16d",
   "metadata": {},
   "outputs": [],
   "source": [
    "# import re\n",
    "# # Ejemplos de uso de expresiones regulares\n",
    "# patron = r'\\d+'  # Patrón para encontrar uno o más dígitos\n",
    "# texto = \"Hay 3 gatos y 4 perros\"\n",
    "# numeros = re.findall(patron, texto)\n",
    "# print(numeros)"
   ]
  },
  {
   "cell_type": "code",
   "execution_count": null,
   "id": "f5cabba0",
   "metadata": {},
   "outputs": [],
   "source": [
    "# imagen = \"OR_ABI-L2-CMIPC-M6C01_G16_s20250912101171_e20250912103544_c20250912104026.nc\"\n",
    "# patron = r's(\\d+)_e(\\d+)_c(\\d+)'  # Patrón para extraer tiempos\n",
    "# tiempos = re.findall(patron, imagen)\n",
    "\n",
    "# print(tiempos)\n",
    "\n",
    "# s_time = tiempos[0][0]\n",
    "# print(s_time)  # Tiempo de inicio"
   ]
  },
  {
   "cell_type": "code",
   "execution_count": null,
   "id": "72fbc252",
   "metadata": {},
   "outputs": [],
   "source": [
    "# # Extraer producto, canal y satélite\n",
    "# patron = r'L2-(\\w+)-M6C(\\d+)_G(\\d+)'  # Patrón para extraer producto, canal y satélite\n",
    "# sat_can = re.findall(patron, imagen)\n",
    "# print(sat_can)\n",
    "\n",
    "# producto = sat_can[0][0]\n",
    "# canal = sat_can[0][1]\n",
    "# satelite = sat_can[0][2]"
   ]
  },
  {
   "cell_type": "markdown",
   "id": "d4d30701",
   "metadata": {},
   "source": [
    "# 🗂️ Diccionarios\n",
    "En las bases de datos donde se almacenan grandes volúmenes de información, los registros se buscan por algún identificador que los localice de forma única. Estos identificadores se denominan «claves» y, aunque lo habitual es generar enteros como claves para asociarlos a los registros de datos, pueden usarse\n",
    "como claves otros valores que también sean únicos para cada registro."
   ]
  },
  {
   "cell_type": "code",
   "execution_count": null,
   "id": "2f270c2b",
   "metadata": {},
   "outputs": [],
   "source": [
    "# imagen_sat = {'Nombre': 'OR_ABI-L2-CMIPC-M6C01_G16_s20250912101171_e20250912103544_c20250912104026.nc', 'Satelite': satelite, 'Producto': producto}\n",
    "\n",
    "# imagen_sat"
   ]
  },
  {
   "cell_type": "code",
   "execution_count": null,
   "id": "714dd0bb",
   "metadata": {},
   "outputs": [],
   "source": [
    "# imagen_sat = dict(Nombre = 'OR_ABI-L2-CMIPC-M6C01_G16_s20250912101171_e20250912103544_c20250912104026.nc', Satelite = satelite, Producto = producto)\n",
    "# imagen_sat"
   ]
  },
  {
   "cell_type": "code",
   "execution_count": null,
   "id": "faed4523",
   "metadata": {},
   "outputs": [],
   "source": [
    "# imagen_sat['Satelite']"
   ]
  },
  {
   "cell_type": "code",
   "execution_count": null,
   "id": "5edadeb3",
   "metadata": {},
   "outputs": [],
   "source": [
    "# for key, value in imagen_sat.items():\n",
    "#     print(f\"{key}: {value}\")"
   ]
  },
  {
   "cell_type": "code",
   "execution_count": null,
   "id": "501e7c28",
   "metadata": {},
   "outputs": [],
   "source": [
    "# imagen_sat['Canal'] = canal\n",
    "# imagen_sat"
   ]
  },
  {
   "cell_type": "code",
   "execution_count": null,
   "id": "d93509f4",
   "metadata": {},
   "outputs": [],
   "source": [
    "# del imagen_sat['Producto']\n",
    "# imagen_sat"
   ]
  },
  {
   "cell_type": "code",
   "execution_count": null,
   "id": "2b437b37",
   "metadata": {},
   "outputs": [],
   "source": [
    "# imagen_sat.pop('Satelite')\n",
    "# imagen_sat"
   ]
  },
  {
   "cell_type": "markdown",
   "id": "0f8d4a5d",
   "metadata": {},
   "source": [
    "# ⚙️ Funciones\n",
    "Los lenguajes de programación como Python ofrecen dos mecanismos\n",
    "principales para el desarrollo modular: las funciones y los módulos. Las\n",
    "funciones son pequeños programas, con una entrada de datos sobre la cual se\n",
    "generará una salida. Tradicionalmente denominadas «subrutinas», las\n",
    "funciones permiten asociar a un conjunto de instrucciones un nombre, un\n",
    "identificador, bajo el cual podemos ejecutar una serie de instrucciones desde\n",
    "otras partes de nuestro programa."
   ]
  },
  {
   "cell_type": "code",
   "execution_count": null,
   "id": "fde268bb",
   "metadata": {},
   "outputs": [],
   "source": [
    "# # Ejemplo de una función simple\n",
    "# def saludar(nombre):\n",
    "#     \"\"\"\n",
    "#     Esta sección se llama docstring. Sirve para documentar la función (Explicar qué hace, sus parámetros y su retorno)\n",
    "#     Función que saluda a la persona cuyo nombre se pasa como argumento.\n",
    "\n",
    "#     Parámetros:\n",
    "#     nombre (str): El nombre de la persona a saludar.\n",
    "\n",
    "#     Retorna:\n",
    "#     str: Un saludo personalizado.\n",
    "#     \"\"\"\n",
    "#     saludo = f\"Hola, {nombre}!\"\n",
    "#     return saludo\n",
    "\n",
    "# saludar(\"Aníbal\")"
   ]
  },
  {
   "cell_type": "code",
   "execution_count": null,
   "id": "8cd5639f",
   "metadata": {},
   "outputs": [],
   "source": [
    "# def distancia_entre_puntos(lat1, lon1, lat2, lon2):\n",
    "#     \"\"\"\n",
    "#     Calcula la distancia euclidiana entre dos puntos en un plano cartesiano.\n",
    "\n",
    "#     Parámetros:\n",
    "#     lat1, lon1: Coordenadas del primer punto.\n",
    "#     lat2, lon2: Coordenadas del segundo punto.\n",
    "\n",
    "#     Retorna:\n",
    "#     float: La distancia entre los dos puntos.\n",
    "#     \"\"\"\n",
    "#     distancia = ((lat2 - lat1)**2 + (lon2 - lon1)**2)**0.5\n",
    "#     return distancia\n",
    "\n",
    "# distancia_entre_puntos(19.4, -99.1, 20.6, -98.5)"
   ]
  },
  {
   "cell_type": "markdown",
   "id": "88ea9524",
   "metadata": {},
   "source": [
    "🌍 Fórmula de Haversine\n",
    "\n",
    "La **fórmula de Haversine** permite calcular la distancia entre dos puntos en la superficie de una esfera (como la Tierra) conociendo sus coordenadas de latitud y longitud.\n",
    "\n",
    "Fórmula matemática:\n",
    "\n",
    "$$a = \\sin^2\\left(\\frac{\\Delta\\phi}{2}\\right) + \\cos(\\phi_1) \\cdot \\cos(\\phi_2) \\cdot \\sin^2\\left(\\frac{\\Delta\\lambda}{2}\\right)$$\n",
    "\n",
    "$$c = 2 \\cdot \\text{atan2}\\left(\\sqrt{a}, \\sqrt{1-a}\\right)$$\n",
    "\n",
    "$$d = R \\cdot c$$\n",
    "\n",
    "**Donde:**\n",
    "- $\\phi_1, \\phi_2$ = latitudes de los puntos 1 y 2 (en radianes)\n",
    "- $\\Delta\\phi$ = diferencia de latitudes = $\\phi_2 - \\phi_1$  \n",
    "- $\\Delta\\lambda$ = diferencia de longitudes = $\\lambda_2 - \\lambda_1$\n",
    "- $R$ = radio de la Tierra ≈ 6,371 km\n",
    "- $d$ = distancia entre los dos puntos\n",
    "\n",
    "🔄 Proceso de cálculo:\n",
    "1. **Convertir** coordenadas de grados a radianes\n",
    "2. **Calcular** las diferencias de latitud y longitud\n",
    "3. **Aplicar** la fórmula de Haversine para obtener el ángulo central\n",
    "4. **Multiplicar** por el radio terrestre para obtener la distancia"
   ]
  },
  {
   "cell_type": "code",
   "execution_count": null,
   "id": "4c5cd415",
   "metadata": {},
   "outputs": [],
   "source": [
    "# def distancia_entre_puntos_tierra(lat1, lon1, lat2, lon2, R = 6371.0):\n",
    "#     \"\"\"\n",
    "#     Calcula la distancia entre dos puntos en la superficie de la Tierra usando la fórmula del haversine.\n",
    "\n",
    "#     Parámetros:\n",
    "#     lat1 (float): Latitud del primer punto en grados.\n",
    "#     lon1 (float): Longitud del primer punto en grados.\n",
    "#     lat2 (float): Latitud del segundo punto en grados.\n",
    "#     lon2 (float): Longitud del segundo punto en grados.\n",
    "#     R (float): Radio de la Tierra en kilómetros. Valor por defecto es 6371.0 km.\n",
    "\n",
    "#     Retorna:\n",
    "#     float: La distancia entre los dos puntos en kilómetros.\n",
    "#     \"\"\"\n",
    "#     from math import radians, sin, cos, sqrt, atan2\n",
    "\n",
    "#     # Convertir coordenadas de grados a radianes\n",
    "#     lat1_rad = radians(lat1)\n",
    "#     lon1_rad = radians(lon1)\n",
    "#     lat2_rad = radians(lat2)\n",
    "#     lon2_rad = radians(lon2)\n",
    "\n",
    "#     # Diferencias de coordenadas\n",
    "#     dlat = lat2_rad - lat1_rad\n",
    "#     dlon = lon2_rad - lon1_rad\n",
    "\n",
    "#     # Fórmula del haversine\n",
    "#     a = sin(dlat / 2)**2 + cos(lat1_rad) * cos(lat2_rad) * sin(dlon / 2)**2\n",
    "#     c = 2 * atan2(sqrt(a), sqrt(1 - a))\n",
    "\n",
    "#     distancia = R * c\n",
    "#     return distancia\n",
    "\n",
    "# distancia_entre_puntos_tierra(19.4, -99.1, 20.6, -98.5)"
   ]
  },
  {
   "cell_type": "markdown",
   "id": "b834da14",
   "metadata": {},
   "source": [
    "# 🛡️ Gestión de excepciones\n",
    "La gestión o manejo de excepciones es una técnica de programación para controlar los errores producidos durante la ejecución de una aplicación. Se controlan de una forma parecida a una sentencia condicional. Si no se produce una excepción (general o específica), que sería el caso normal, la aplicación continúa con las siguientes instrucciones y, si se produce una, se ejecutarán las instrucciones indicadas por el desarrollador para su tratamiento, que pueden continuar la aplicación o detenerla, dependiendo de cada caso."
   ]
  },
  {
   "cell_type": "code",
   "execution_count": null,
   "id": "1f6ecbbf",
   "metadata": {},
   "outputs": [],
   "source": [
    "# def division(a, b):\n",
    "#     \"\"\"\n",
    "#     Realiza la división entre dos números con manejo de excepciones.\n",
    "    \n",
    "#     Esta función divide el primer número por el segundo, manejando el caso especial\n",
    "#     de división por cero para evitar que el programa se interrumpa abruptamente.\n",
    "    \n",
    "#     Parámetros:\n",
    "#     a (float o int): El dividendo (número que será dividido).\n",
    "#     b (float o int): El divisor (número por el cual se divide).\n",
    "    \n",
    "#     Retorna:\n",
    "#     float o None: El resultado de la división (a/b). Retorna None si b es cero.\n",
    "    \n",
    "#     Excepciones manejadas:\n",
    "#     ZeroDivisionError: Se captura cuando b es igual a cero y se retorna None.\n",
    "    \n",
    "#     Ejemplos:\n",
    "#     >>> division(10, 2)\n",
    "#     El resultado de la división es: 5.0\n",
    "#     5.0\n",
    "    \n",
    "#     >>> division(10, 0)\n",
    "#     Error: División por cero no permitida.\n",
    "#     None\n",
    "    \n",
    "#     >>> division(15, 3)\n",
    "#     El resultado de la división es: 5.0\n",
    "#     5.0\n",
    "#     \"\"\"\n",
    "#     try:\n",
    "#         resultado = a / b\n",
    "#         print(f\"El resultado de la división es: {resultado}\")\n",
    "#     except ZeroDivisionError:\n",
    "#         resultado = None\n",
    "#         print(\"Error: División por cero no permitida.\")\n",
    "#     return resultado\n",
    "\n",
    "# resultado = division(10, 2)"
   ]
  },
  {
   "cell_type": "code",
   "execution_count": null,
   "id": "5a7176e2",
   "metadata": {},
   "outputs": [],
   "source": [
    "# num = 10\n",
    "# for n in range(-2, 3, 1):\n",
    "#     try:\n",
    "#         div = num / n\n",
    "#         print(f\"{num} dividido entre {n} es {div}\")\n",
    "#     except:\n",
    "#         print(f\"{num} no se puede dividir entre {n}\")\n",
    "#     finally: # Siempre se ejecuta\n",
    "#         print(\"\\n\")"
   ]
  },
  {
   "cell_type": "markdown",
   "id": "d2be9f40",
   "metadata": {},
   "source": [
    "🧮 Ejercicio: Calculadora con funciones, manejo de excepciones y entrada de usuario\n",
    "\n",
    "Objetivo:\n",
    "Crea una función llamada calculadora que solicite al usuario dos números y una operación a realizar (+, -, *, /). La función debe:\n",
    "\n",
    "- Pedir los datos al usuario usando input.\n",
    "- Validar que los números sean realmente números, si no lo son, volver a pedirlos.\n",
    "- Realizar la operación indicada usando condicionales.\n",
    "- Manejar excepciones, especialmente la división por cero y entradas inválidas.\n",
    "- Incluir un docstring explicando qué hace la función, sus parámetros y su retorno.\n",
    "- Retornar el resultado o un mensaje de error si ocurre una excepción."
   ]
  },
  {
   "cell_type": "code",
   "execution_count": null,
   "id": "193ee1e3",
   "metadata": {},
   "outputs": [],
   "source": []
  }
 ],
 "metadata": {
  "kernelspec": {
   "display_name": "entornoCPU",
   "language": "python",
   "name": "python3"
  },
  "language_info": {
   "codemirror_mode": {
    "name": "ipython",
    "version": 3
   },
   "file_extension": ".py",
   "mimetype": "text/x-python",
   "name": "python",
   "nbconvert_exporter": "python",
   "pygments_lexer": "ipython3",
   "version": "3.11.3"
  }
 },
 "nbformat": 4,
 "nbformat_minor": 5
}
