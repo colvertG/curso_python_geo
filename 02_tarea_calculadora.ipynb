{
 "cells": [
  {
   "cell_type": "markdown",
   "id": "6d1dc99b",
   "metadata": {},
   "source": [
    "# 1"
   ]
  },
  {
   "cell_type": "code",
   "execution_count": 3,
   "id": "cd72bf99",
   "metadata": {},
   "outputs": [
    {
     "name": "stdout",
     "output_type": "stream",
     "text": [
      "Error: Entrada inválida. Por favor, introduce números válidos.\n"
     ]
    }
   ],
   "source": [
    "def calculadora():\n",
    "    \"\"\"\n",
    "    Realiza una operación aritmética simple entre dos números.\n",
    "\n",
    "    Retorna:\n",
    "    float: El resultado de la operación.\n",
    "    \"\"\"\n",
    "    try:\n",
    "        num1 = float(input(f'Introduce el primer numero'))\n",
    "        num2 = float(input(f'Introduce el segundo numero'))\n",
    "        operacion = str(input(f'Determina que operacion quieres realizar'))\n",
    "        if operacion == '+':\n",
    "            return num1 + num2\n",
    "        elif operacion == '-':\n",
    "            return num1 - num2\n",
    "        elif operacion == '*':\n",
    "            return num1 * num2\n",
    "        elif operacion == '/':\n",
    "            try:\n",
    "                return  num1 / num2\n",
    "            except ZeroDivisionError:\n",
    "                print(\"Error: División por cero no permitida.\")\n",
    "                return None\n",
    "    except:\n",
    "        print(\"Error: Entrada inválida. Por favor, introduce números válidos.\")\n",
    "        return None\n",
    "\n",
    "calculadora()"
   ]
  },
  {
   "cell_type": "markdown",
   "id": "3f3c62ea",
   "metadata": {},
   "source": [
    "# 2"
   ]
  },
  {
   "cell_type": "code",
   "execution_count": 4,
   "id": "da7c4387",
   "metadata": {},
   "outputs": [],
   "source": [
    "def datos():\n",
    "    \"\"\"\n",
    "    Solicita dos números\n",
    "\n",
    "    Return:\n",
    "        float o str: Resultado de la operación, o mensaje de error si ocurre una excepción.\n",
    "    \"\"\"\n",
    "    while True:\n",
    "        try:\n",
    "            num1 = float(input(\"Introduce el primer número: \"))\n",
    "            break\n",
    "        except ValueError:\n",
    "            print(\"Error: No es un número válido.\")\n",
    "\n",
    "    while True:\n",
    "        try:\n",
    "            num2 = float(input(\"Introduce el segundo número: \"))\n",
    "            break\n",
    "        except ValueError:\n",
    "            print(\"Error: No es un número válido.\")\n",
    "    \n",
    "    return num1, num2"
   ]
  },
  {
   "cell_type": "code",
   "execution_count": 8,
   "id": "5e91b43c",
   "metadata": {},
   "outputs": [],
   "source": [
    "a, b = datos()"
   ]
  },
  {
   "cell_type": "code",
   "execution_count": 9,
   "id": "79772155",
   "metadata": {},
   "outputs": [
    {
     "data": {
      "text/plain": [
       "(10.0, 1.0)"
      ]
     },
     "execution_count": 9,
     "metadata": {},
     "output_type": "execute_result"
    }
   ],
   "source": [
    "a, b"
   ]
  },
  {
   "cell_type": "code",
   "execution_count": 11,
   "id": "dcf2551d",
   "metadata": {},
   "outputs": [
    {
     "name": "stdout",
     "output_type": "stream",
     "text": [
      "El resultado de la multiplicación es: 30.0\n"
     ]
    }
   ],
   "source": [
    "class UnoMultiplicacionError(Exception):\n",
    "    \"\"\"Excepcion personalizada para manejar la multiplicación por uno\"\"\"\n",
    "    pass\n",
    "\n",
    "\n",
    "def multiplicacion(a,b):\n",
    "    \"\"\"\n",
    "    Realiza la multiplicación entre dos números con manejo de excepciones.\n",
    "    esta función multiplica el primer número por el segundo, pero lanza una \n",
    "    excepción si el segundo número es uno, como caso especial.\n",
    "\n",
    "    Parámetros:\n",
    "\n",
    "    a(float): Primer número.\n",
    "    b(float): Segundo número.\n",
    "\n",
    "    Return:\n",
    "        Float o none: El resultado de la multiplicación (a * b).\n",
    "        Retorna None si b es uno.\n",
    "\n",
    "    Excepciones manejadas:\n",
    "        MultiplicacionError: Se captura cuando b es igual a uno y se retorna None.\n",
    "\n",
    "    Ejemplos:\n",
    "        >>>multiplicacion(10, 5)\n",
    "        El resultado de la multiplicación es: 50.0\n",
    "        50.0\n",
    "\n",
    "    >>>multiplicacion(10, 1)\n",
    "        Error: Multiplicación entre uno no permitida. \n",
    "        None\n",
    "\n",
    "    >>>multiplicacion(5, 3)\n",
    "        El resultado de la multiplicación es: 15.0\n",
    "        15.0\n",
    "    \"\"\"\n",
    "\n",
    "    try:\n",
    "        if b == 1:\n",
    "            raise UnoMultiplicacionError\n",
    "        resultado = a * b\n",
    "        print(f\"El resultado de la multiplicación es: {resultado}\")\n",
    "    except UnoMultiplicacionError:\n",
    "        resultado = None\n",
    "        print(\"Error: Multiplicación por uno no permitida.\")\n",
    "    return resultado\n",
    "\n",
    "#Prueba\n",
    "resultado = multiplicacion(a, 3)\n"
   ]
  },
  {
   "cell_type": "markdown",
   "id": "8314e509",
   "metadata": {},
   "source": [
    "# 3"
   ]
  },
  {
   "cell_type": "code",
   "execution_count": 15,
   "id": "8759707e",
   "metadata": {},
   "outputs": [],
   "source": [
    "# Entrada de datos\n",
    "peso = float(input(\"Introduce tu peso (kg): \"))\n",
    "\n",
    "# Asegura que la altura es mayor que 0\n",
    "altura = -1.0\n",
    "while altura <= 0:\n",
    "    altura = float(input(\"Introduce tu altura (m): \"))\n",
    "    if altura <= 0:\n",
    "        print(\"La altura debe ser mayor que 0. Intenta de nuevo.\")"
   ]
  },
  {
   "cell_type": "code",
   "execution_count": 17,
   "id": "bf31f5e6",
   "metadata": {},
   "outputs": [
    {
     "name": "stdout",
     "output_type": "stream",
     "text": [
      "Tu IMC es: 0.004\n"
     ]
    }
   ],
   "source": [
    "\n",
    "def imc(peso, altura):\n",
    "    \"\"\"\n",
    "    Realiza el cálculo del índice de masa corporal con manejo de excepciones.\n",
    "    \n",
    "    Esta función divide el peso por el cuadrado de la altura, manejando el caso especial\n",
    "    de división por cero para evitar que el programa se interrumpa abruptamente.\n",
    "    \n",
    "    Parámetros:\n",
    "    peso (float o int): en kilogramos.\n",
    "    altura (float o int): en metros.\n",
    "    \n",
    "    Retorna:\n",
    "    float o None: El resultado de la división (peso (kg)/altura * altura (m)). Retorna None si altura es cero.\n",
    "    \n",
    "    Excepciones manejadas:\n",
    "    ZeroDivisionError: Se captura cuando altura es igual a cero y se retorna None.\n",
    "    \"\"\"\n",
    "    try:\n",
    "        resultado = peso / (altura*altura)\n",
    "        print(f\"Tu IMC es: {resultado}\")\n",
    "    except ZeroDivisionError:\n",
    "        resultado = None\n",
    "        print(\"Error: División por cero no permitida.\")\n",
    "\n",
    "    return resultado\n",
    "\n",
    "# Llama a la función\n",
    "imc_1 = imc(peso, altura)\n"
   ]
  },
  {
   "cell_type": "markdown",
   "id": "e9739201",
   "metadata": {},
   "source": [
    "# 4"
   ]
  },
  {
   "cell_type": "code",
   "execution_count": 18,
   "id": "da0db4ec",
   "metadata": {},
   "outputs": [],
   "source": [
    "def calculadora(a, b, operacion):\n",
    "    \"\"\"\n",
    "    Hace operaciones matematicas basicas\n",
    "    \n",
    "    Parametros:\n",
    "    a: primer numero\n",
    "    b: segundo numero\n",
    "    operacion: la operacion a hacer (+, -, *, /)\n",
    "    \n",
    "    Retorna:\n",
    "    El resultado de la operacion o None si hay error\n",
    "    \"\"\"\n",
    "    try:\n",
    "        if operacion == '+':\n",
    "            resultado = a + b\n",
    "        elif operacion == '-':\n",
    "            resultado = a - b\n",
    "        elif operacion == '*':\n",
    "            resultado = a * b\n",
    "        elif operacion == '/':\n",
    "            if b == 0:\n",
    "                print(\"Error: No se puede dividir entre cero\")\n",
    "                return None\n",
    "            resultado = a / b\n",
    "        else:\n",
    "            print(\"Error: Operacion no valida\")\n",
    "            return None\n",
    "        \n",
    "        print(\"El resultado es:\", resultado)\n",
    "        return resultado\n",
    "    except:\n",
    "        print(\"Error: Algo salio mal\")\n",
    "        return None"
   ]
  },
  {
   "cell_type": "code",
   "execution_count": 21,
   "id": "8a4b7543",
   "metadata": {},
   "outputs": [
    {
     "name": "stdout",
     "output_type": "stream",
     "text": [
      "Error: Operacion no valida\n"
     ]
    }
   ],
   "source": [
    "calculadora(10, 5, '**')"
   ]
  },
  {
   "cell_type": "markdown",
   "id": "5629a21c",
   "metadata": {},
   "source": [
    "# 6"
   ]
  },
  {
   "cell_type": "code",
   "execution_count": 32,
   "id": "de004ccf",
   "metadata": {},
   "outputs": [
    {
     "name": "stdout",
     "output_type": "stream",
     "text": [
      "<class 'str'>\n"
     ]
    }
   ],
   "source": [
    "a = 'a'\n",
    "print(type(''))"
   ]
  },
  {
   "cell_type": "code",
   "execution_count": 36,
   "id": "df9790a8",
   "metadata": {},
   "outputs": [
    {
     "data": {
      "text/plain": [
       "False"
      ]
     },
     "execution_count": 36,
     "metadata": {},
     "output_type": "execute_result"
    }
   ],
   "source": [
    "isinstance(a, int)"
   ]
  },
  {
   "cell_type": "code",
   "execution_count": null,
   "id": "120c982a",
   "metadata": {},
   "outputs": [],
   "source": [
    "def calculadora_simple(num1,num2,operacion):\n",
    "    #Se define primero los parámetros\n",
    "    \"\"\"\"\"\n",
    "    Hace cualquier operacion\n",
    "    \n",
    "    Parámetros\n",
    "    num1(float)=Numero 1\n",
    "    num2(float)=Numero 2\n",
    "    operacion(str)= Acepta suma, resta, multiplicación y division\n",
    "    \n",
    "    Retorna: \n",
    "    resultado(float): resultado de mi operación\n",
    "    \"\"\"\"\"\n",
    "    \n",
    "    \n",
    "    #se comienza con la condicional\n",
    "    if isinstance(num1, str) or isinstance(num2, str): \n",
    "        resultado = None\n",
    "        print( \"Inserta un número correcto \")\n",
    "        return resultado\n",
    "        \n",
    "    if operacion == '+': #en caso de una suma\n",
    "        resultado= num1 + num2\n",
    "        print(f'El resultado de la suma es: {resultado}')\n",
    "    elif operacion == '-': #operación de resta\n",
    "        resultado= num1 - num2\n",
    "        print(f'El resultado de la resta es: {resultado}')\n",
    "    elif operacion == '*': #multiplicación\n",
    "        resultado= num1 * num2\n",
    "        print(f'El resultado de la multiplicación es: {resultado}')\n",
    "    elif operacion == '/': \n",
    "        try:\n",
    "            resultado = num1 / num2\n",
    "            print(f'El resultado de la división es: {resultado}')\n",
    "        except ZeroDivisionError: #busca que no se divida entre 0\n",
    "            print(\"Error: División por cero no permitida.\")\n",
    "            resultado = None  # Asegura que el resultado sea None si hay error\n",
    "        \n",
    "    else:\n",
    "        resultado = None\n",
    "        print (\"Error de la operacion\")\n",
    "    \n",
    "    return (resultado)\n",
    "    "
   ]
  },
  {
   "cell_type": "code",
   "execution_count": 40,
   "id": "192d9fb1",
   "metadata": {},
   "outputs": [
    {
     "name": "stdout",
     "output_type": "stream",
     "text": [
      "Inserta un número correcto \n"
     ]
    }
   ],
   "source": [
    "res = calculadora_simple(10, 'c', 5)"
   ]
  }
 ],
 "metadata": {
  "kernelspec": {
   "display_name": "geo_python",
   "language": "python",
   "name": "python3"
  },
  "language_info": {
   "codemirror_mode": {
    "name": "ipython",
    "version": 3
   },
   "file_extension": ".py",
   "mimetype": "text/x-python",
   "name": "python",
   "nbconvert_exporter": "python",
   "pygments_lexer": "ipython3",
   "version": "3.11.13"
  }
 },
 "nbformat": 4,
 "nbformat_minor": 5
}
