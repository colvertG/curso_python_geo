{
 "cells": [
  {
   "cell_type": "markdown",
   "id": "644fbd37",
   "metadata": {},
   "source": [
    "# 📚 Introducción a Python para procesamiento de datos geoespaciales\n",
    "\n",
    "> Colvert Gomez Rubio - Octubre 2025"
   ]
  },
  {
   "cell_type": "markdown",
   "id": "878b89bd",
   "metadata": {},
   "source": [
    "# Descarga de imágenes usando [planetary-computer](https://planetarycomputer.microsoft.com/)"
   ]
  },
  {
   "cell_type": "code",
   "execution_count": null,
   "id": "2d31f5f0",
   "metadata": {},
   "outputs": [],
   "source": [
    "# pip install pystac-client planetary-computer"
   ]
  },
  {
   "cell_type": "code",
   "execution_count": null,
   "id": "625f901a",
   "metadata": {},
   "outputs": [],
   "source": [
    "# import pystac_client\n",
    "# import planetary_computer\n",
    "# from datetime import datetime"
   ]
  },
  {
   "cell_type": "code",
   "execution_count": null,
   "id": "d067de30",
   "metadata": {},
   "outputs": [],
   "source": [
    "# # Conectar a Microsoft Planetary Computer (no requiere credenciales)\n",
    "# catalog = pystac_client.Client.open(\n",
    "#     \"https://planetarycomputer.microsoft.com/api/stac/v1\",\n",
    "#     modifier=planetary_computer.sign_inplace,\n",
    "# )"
   ]
  },
  {
   "cell_type": "code",
   "execution_count": null,
   "id": "5aeffd1f",
   "metadata": {},
   "outputs": [],
   "source": [
    "# # Buscar escenas Landsat 8-9 para Buenos Aires\n",
    "# search = catalog.search(\n",
    "#     collections=[\"landsat-c2-l2\"],  # Landsat Collection 2 Level 2\n",
    "#     bbox=[-98.9, 18.8, -98.4, 19.5],  # Izta-Popo\n",
    "#     datetime=\"2025-01-01/2025-12-31\",\n",
    "#     query={\"eo:cloud_cover\": {\"lt\": 100}}  # Máximo 10% de nubes\n",
    "# )"
   ]
  },
  {
   "cell_type": "code",
   "execution_count": null,
   "id": "c0bab03d",
   "metadata": {},
   "outputs": [],
   "source": [
    "# Obtener todas las escenas encontradas"
   ]
  },
  {
   "cell_type": "code",
   "execution_count": null,
   "id": "01e36b32",
   "metadata": {},
   "outputs": [],
   "source": [
    "# Mostrar información de las primeras 5 escenas\n"
   ]
  },
  {
   "cell_type": "code",
   "execution_count": null,
   "id": "28717ca8",
   "metadata": {},
   "outputs": [],
   "source": [
    "# primer item\n"
   ]
  },
  {
   "cell_type": "code",
   "execution_count": null,
   "id": "336b419a",
   "metadata": {},
   "outputs": [],
   "source": [
    "# # Ver TODAS las bandas y assets disponibles\n",
    "# print(f\"Todos los assets disponibles para {item_0.id}:\\n\")\n",
    "# for key, asset in item_0.assets.items():\n",
    "#     print(f\"  - {key:20s}: {asset.title}\")"
   ]
  },
  {
   "cell_type": "code",
   "execution_count": null,
   "id": "a66d6c4c",
   "metadata": {},
   "outputs": [],
   "source": [
    "# # Ver las bandas disponibles\n",
    "# item = items[0]\n",
    "# print(f\"Bandas disponibles para {item.id}:\")\n",
    "# for key, asset in item.assets.items():\n",
    "#     if 'eo:bands' in asset.extra_fields:\n",
    "#         print(f\"  - {key}: {asset.title}\")"
   ]
  },
  {
   "cell_type": "code",
   "execution_count": null,
   "id": "837af6d0",
   "metadata": {},
   "outputs": [],
   "source": [
    "# Convertir a GeoDataFrame para tener funcionalidades geoespaciales"
   ]
  },
  {
   "cell_type": "code",
   "execution_count": null,
   "id": "b0f8a856",
   "metadata": {},
   "outputs": [],
   "source": [
    "# Obtener factores de escala desde los metadatos del item\n"
   ]
  },
  {
   "cell_type": "code",
   "execution_count": 1,
   "id": "0e5dcef5",
   "metadata": {},
   "outputs": [],
   "source": [
    "# Obtener la URL del asset de la banda verde"
   ]
  },
  {
   "cell_type": "markdown",
   "id": "28fcb74d",
   "metadata": {},
   "source": [
    "# RIOXARRAY"
   ]
  },
  {
   "cell_type": "code",
   "execution_count": null,
   "id": "a53a2d24",
   "metadata": {},
   "outputs": [],
   "source": [
    "import rioxarray\n",
    "import matplotlib.pyplot as plt"
   ]
  },
  {
   "cell_type": "markdown",
   "id": "d6472a23",
   "metadata": {},
   "source": [
    "https://tutorial.xarray.dev/fundamentals/01_data_structures.html"
   ]
  },
  {
   "cell_type": "code",
   "execution_count": null,
   "id": "904814a6",
   "metadata": {},
   "outputs": [],
   "source": [
    "# plot la banda en poca resolución \n"
   ]
  },
  {
   "cell_type": "code",
   "execution_count": null,
   "id": "127da9aa",
   "metadata": {},
   "outputs": [],
   "source": [
    "# Ver su sistema de referencia\n"
   ]
  },
  {
   "cell_type": "code",
   "execution_count": null,
   "id": "64495228",
   "metadata": {},
   "outputs": [],
   "source": [
    "# Obtener los valores como un array de numpy\n"
   ]
  },
  {
   "cell_type": "code",
   "execution_count": null,
   "id": "a9d23410",
   "metadata": {},
   "outputs": [],
   "source": [
    "# Hacer nan los ceros de mi rioxarray \n"
   ]
  },
  {
   "cell_type": "code",
   "execution_count": null,
   "id": "29f4780a",
   "metadata": {},
   "outputs": [],
   "source": [
    "# Reescalar mi rioxarray\n"
   ]
  },
  {
   "cell_type": "code",
   "execution_count": null,
   "id": "442c6713",
   "metadata": {},
   "outputs": [],
   "source": [
    "# Ver minimo y maximo de la banda reescalada\n"
   ]
  },
  {
   "cell_type": "code",
   "execution_count": null,
   "id": "2db476f3",
   "metadata": {},
   "outputs": [],
   "source": [
    "# Exportar la banda reescalada a GeoTIFF\n"
   ]
  },
  {
   "cell_type": "code",
   "execution_count": null,
   "id": "96db767c",
   "metadata": {},
   "outputs": [],
   "source": [
    "# Obtener bandas red y nir reescaladas\n",
    "# Ver minimo y maximo\n"
   ]
  },
  {
   "cell_type": "code",
   "execution_count": null,
   "id": "181cf536",
   "metadata": {},
   "outputs": [],
   "source": [
    "# Ver minimo y maximo\n"
   ]
  },
  {
   "cell_type": "code",
   "execution_count": null,
   "id": "302241f8",
   "metadata": {},
   "outputs": [],
   "source": [
    "# Historgrama de NDVI\n"
   ]
  },
  {
   "cell_type": "code",
   "execution_count": null,
   "id": "a3e12d9b",
   "metadata": {},
   "outputs": [],
   "source": [
    "# Filtrar ndvi a valores valdos \n"
   ]
  },
  {
   "cell_type": "code",
   "execution_count": null,
   "id": "a39faf88",
   "metadata": {},
   "outputs": [],
   "source": [
    "# Histograma de NDVI corr\n"
   ]
  },
  {
   "cell_type": "code",
   "execution_count": null,
   "id": "785a1fb6",
   "metadata": {},
   "outputs": [],
   "source": [
    "# Siguiente misión: Usar la variable de '- qa_pixel : Pixel Quality Assessment Band' para hacer el filtro de píxeles anómalos......"
   ]
  },
  {
   "cell_type": "code",
   "execution_count": null,
   "id": "7d7a5daf",
   "metadata": {},
   "outputs": [],
   "source": []
  },
  {
   "cell_type": "code",
   "execution_count": null,
   "id": "6b9cb389",
   "metadata": {},
   "outputs": [],
   "source": []
  },
  {
   "cell_type": "code",
   "execution_count": null,
   "id": "e6c08098",
   "metadata": {},
   "outputs": [],
   "source": []
  },
  {
   "cell_type": "code",
   "execution_count": null,
   "id": "3b4981cc",
   "metadata": {},
   "outputs": [],
   "source": []
  },
  {
   "cell_type": "code",
   "execution_count": null,
   "id": "a819d8dc",
   "metadata": {},
   "outputs": [],
   "source": []
  },
  {
   "cell_type": "code",
   "execution_count": null,
   "id": "8c3bdbc7",
   "metadata": {},
   "outputs": [],
   "source": []
  },
  {
   "cell_type": "code",
   "execution_count": null,
   "id": "359e298c",
   "metadata": {},
   "outputs": [],
   "source": []
  },
  {
   "cell_type": "code",
   "execution_count": null,
   "id": "64436a92",
   "metadata": {},
   "outputs": [],
   "source": []
  },
  {
   "cell_type": "code",
   "execution_count": null,
   "id": "9ca2d26a",
   "metadata": {},
   "outputs": [],
   "source": []
  },
  {
   "cell_type": "code",
   "execution_count": null,
   "id": "7f795325",
   "metadata": {},
   "outputs": [],
   "source": []
  },
  {
   "cell_type": "code",
   "execution_count": null,
   "id": "f1f0bd4e",
   "metadata": {},
   "outputs": [],
   "source": []
  },
  {
   "cell_type": "code",
   "execution_count": null,
   "id": "900358b9",
   "metadata": {},
   "outputs": [],
   "source": []
  },
  {
   "cell_type": "code",
   "execution_count": null,
   "id": "7f7754fb",
   "metadata": {},
   "outputs": [],
   "source": []
  },
  {
   "cell_type": "code",
   "execution_count": null,
   "id": "85f4924d",
   "metadata": {},
   "outputs": [],
   "source": []
  },
  {
   "cell_type": "code",
   "execution_count": null,
   "id": "3ee67507",
   "metadata": {},
   "outputs": [],
   "source": []
  },
  {
   "cell_type": "code",
   "execution_count": null,
   "id": "d4996e33",
   "metadata": {},
   "outputs": [],
   "source": []
  },
  {
   "cell_type": "code",
   "execution_count": null,
   "id": "82dd99f3",
   "metadata": {},
   "outputs": [],
   "source": []
  }
 ],
 "metadata": {
  "kernelspec": {
   "display_name": "geo_python",
   "language": "python",
   "name": "python3"
  },
  "language_info": {
   "codemirror_mode": {
    "name": "ipython",
    "version": 3
   },
   "file_extension": ".py",
   "mimetype": "text/x-python",
   "name": "python",
   "nbconvert_exporter": "python",
   "pygments_lexer": "ipython3",
   "version": "3.11.3"
  }
 },
 "nbformat": 4,
 "nbformat_minor": 5
}
