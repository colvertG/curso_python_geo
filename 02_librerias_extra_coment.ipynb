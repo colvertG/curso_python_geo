{
 "cells": [
  {
   "cell_type": "markdown",
   "id": "c64de03a",
   "metadata": {},
   "source": [
    "# Módulo OS (Operating System)\n",
    "El módulo **os** proporciona una interfaz portátil para utilizar funcionalidades dependientes del sistema operativo. Es esencial para interactuar con el sistema de archivos, variables de entorno, procesos y otras características del sistema operativo de manera independiente de la plataforma."
   ]
  },
  {
   "cell_type": "code",
   "execution_count": null,
   "id": "a771be9e",
   "metadata": {},
   "outputs": [],
   "source": [
    "import os"
   ]
  },
  {
   "cell_type": "code",
   "execution_count": null,
   "id": "326880db",
   "metadata": {},
   "outputs": [],
   "source": [
    "# Obtener el directorio de trabajo actual\n",
    "\n",
    "# Guardar el directorio de trabajo actual\n"
   ]
  },
  {
   "cell_type": "code",
   "execution_count": null,
   "id": "7c317256",
   "metadata": {},
   "outputs": [],
   "source": [
    "# Verificar si un directorio existe\n"
   ]
  },
  {
   "cell_type": "code",
   "execution_count": null,
   "id": "3376f9c4",
   "metadata": {},
   "outputs": [],
   "source": [
    "# Crear un nuevo directorio en el directorio de trabajo actual\n",
    "\n",
    "# Crear el nuevo directorio (si no existe)\n"
   ]
  },
  {
   "cell_type": "code",
   "execution_count": null,
   "id": "f9a42be0",
   "metadata": {},
   "outputs": [],
   "source": [
    "# # Crea un archivo dentro del directorio de trabajo\n",
    "# txt_test = os.path.join(path_test, \"archivo_prueba.txt\")\n",
    "# with open(txt_test, \"w\") as f:\n",
    "#     f.write(\"Este es un archivo de prueba.\".center(40, \"-\"))\n",
    "#     f.write(\"\\nOtra línea de texto.\")"
   ]
  },
  {
   "cell_type": "code",
   "execution_count": null,
   "id": "e41340a9",
   "metadata": {},
   "outputs": [],
   "source": [
    "# Listar archivos en el directorio de trabajo\n",
    "\n",
    "# Quedarme con los archivos que terminan en .ipynb"
   ]
  },
  {
   "cell_type": "code",
   "execution_count": null,
   "id": "80874561",
   "metadata": {},
   "outputs": [],
   "source": [
    "# Buscar archivos con una extensión específica en el directorio actual usando glob\n",
    "import glob"
   ]
  },
  {
   "cell_type": "code",
   "execution_count": null,
   "id": "9c9326c3",
   "metadata": {},
   "outputs": [],
   "source": [
    "# Quedarme solo con los archivos que terminan en .txt (solo el nombre del archivo) \n"
   ]
  },
  {
   "cell_type": "code",
   "execution_count": null,
   "id": "332f78fc",
   "metadata": {},
   "outputs": [],
   "source": [
    "# Eliminar el archivo de prueba\n"
   ]
  },
  {
   "cell_type": "markdown",
   "id": "2599ab0d",
   "metadata": {},
   "source": [
    "# Datetime\n",
    "[![Python Datetime](https://img.shields.io/badge/Python-Datetime-blue?style=for-the-badge&logo=python&logoColor=white)](https://docs.python.org/es/3.9/library/datetime.html)\n",
    "\n",
    "El módulo datetime proporciona clases para manipular fechas y horas.\n",
    "\n",
    "Si bien la implementación permite operaciones aritméticas con fechas y horas, su principal objetivo es poder extraer campos de forma eficiente para su posterior manipulación o formateo."
   ]
  },
  {
   "cell_type": "code",
   "execution_count": null,
   "id": "bd00f73d",
   "metadata": {},
   "outputs": [],
   "source": [
    "import datetime as dt # Manejo de fechas y horas\n",
    "import pytz # Manejo de zonas horarias"
   ]
  },
  {
   "cell_type": "markdown",
   "id": "85266c40",
   "metadata": {},
   "source": [
    "Tabla de códigos de formato strftime\n",
    "\n",
    "| Directiva | Significado | Ejemplo |\n",
    "|-----------|-------------|---------|\n",
    "| `%a` | Día de la semana como nombre abreviado según la configuración regional | Sun, Mon, …, Sat (en_US); So, Mo, …, Sa (de_DE) |\n",
    "| `%A` | Día de la semana como nombre completo de la localidad | Sunday, Monday, …, Saturday (en_US); Sonntag, Montag, …, Samstag (de_DE) |\n",
    "| `%w` | Día de la semana como un número decimal, donde 0 es domingo y 6 es sábado | 0, 1, …, 6 |\n",
    "| `%d` | Día del mes como un número decimal rellenado con ceros | 01, 02, …, 31 |\n",
    "| `%b` | Mes como nombre abreviado según la configuración regional | Jan, Feb, …, Dec (en_US); Jan, Feb, …, Dez (de_DE) |\n",
    "| `%B` | Mes como nombre completo según la configuración regional | January, February, …, December (en_US); Januar, Februar, …, Dezember (de_DE) |\n",
    "| `%m` | Mes como un número decimal rellenado con ceros | 01, 02, …, 12 |\n",
    "| `%y` | Año sin siglo como un número decimal rellenado con ceros | 00, 01, …, 99 |\n",
    "| `%Y` | Año con siglo como número decimal | 0001, 0002, …, 2013, 2014, …, 9998, 9999 |\n",
    "| `%H` | Hora (reloj de 24 horas) como un número decimal rellenado con ceros | 00, 01, …, 23 |\n",
    "| `%I` | Hora (reloj de 12 horas) como un número decimal rellenado con ceros | 01, 02, …, 12 |\n",
    "| `%p` | El equivalente de la configuración regional de AM o PM | AM, PM (en_US); am, pm (de_DE) |\n",
    "| `%M` | Minuto como un número decimal rellenado con ceros | 00, 01, …, 59 |\n",
    "| `%S` | Segundo como un número decimal rellenado con ceros | 00, 01, …, 59 |\n",
    "| `%f` | Microsegundo como un número decimal rellenado con ceros a 6 dígitos | 000000, 000001, …, 999999 |\n",
    "| `%z` | Desplazamiento UTC en la forma ±HHMM[SS[.ffffff]] | (vacío), +0000, -0400, +1030, +063415, -030712.345216 |\n",
    "| `%Z` | Nombre de zona horaria | (vacío), UTC, GMT |\n",
    "| `%j` | Día del año como un número decimal rellenado con ceros | 001, 002, …, 366 |\n",
    "| `%U` | Número de semana del año (domingo como primer día) | 00, 01, …, 53 |\n",
    "| `%W` | Número de semana del año (lunes como primer día) | 00, 01, …, 53 |\n",
    "| `%c` | Representación apropiada de fecha y hora | Tue Aug 16 21:30:00 1988 (en_US); Di 16 Aug 21:30:00 1988 (de_DE) |\n",
    "| `%x` | Representación de fecha apropiada | 08/16/88 (None); 08/16/1988 (en_US); 16.08.1988 (de_DE) |\n",
    "| `%X` | Representación de la hora apropiada | 21:30:00 (en_US); 21:30:00 (de_DE) |\n",
    "| `%%` | Un carácter literal '%' | % |"
   ]
  },
  {
   "cell_type": "code",
   "execution_count": null,
   "id": "8e0b4b02",
   "metadata": {},
   "outputs": [],
   "source": [
    "# Ver la fecha y hora actual\n"
   ]
  },
  {
   "cell_type": "code",
   "execution_count": null,
   "id": "8d8b47dc",
   "metadata": {},
   "outputs": [],
   "source": [
    "# Ver tipo de dato\n"
   ]
  },
  {
   "cell_type": "code",
   "execution_count": null,
   "id": "3b64a3ec",
   "metadata": {},
   "outputs": [],
   "source": [
    "# Obtener información específica de la fecha y hora\n"
   ]
  },
  {
   "cell_type": "code",
   "execution_count": null,
   "id": "5a2644b0",
   "metadata": {},
   "outputs": [],
   "source": [
    "# Convertir un string a objeto datetime\n"
   ]
  },
  {
   "cell_type": "code",
   "execution_count": null,
   "id": "1381260b",
   "metadata": {},
   "outputs": [],
   "source": [
    "# Ver zona horaria de date\n"
   ]
  },
  {
   "cell_type": "code",
   "execution_count": null,
   "id": "7d6026d6",
   "metadata": {},
   "outputs": [],
   "source": [
    "# Ver todas las zonas horarias disponibles en pytz\n",
    "pytz.all_timezones"
   ]
  },
  {
   "cell_type": "code",
   "execution_count": null,
   "id": "ca4f3b15",
   "metadata": {},
   "outputs": [],
   "source": [
    "# Crear una fecha definida con zona horaria\n",
    "date = dt.datetime(2025, 5, 10, 12, 30, tzinfo=pytz.timezone('America/Mexico_City'))  # 10 de mayo de 2025 a las 12:30 CST\n",
    "date"
   ]
  },
  {
   "cell_type": "code",
   "execution_count": null,
   "id": "b87a6e6e",
   "metadata": {},
   "outputs": [],
   "source": [
    "date.tzinfo  # Zona horaria de la fecha especificada"
   ]
  },
  {
   "cell_type": "code",
   "execution_count": null,
   "id": "2c45fae6",
   "metadata": {},
   "outputs": [],
   "source": [
    "# Formatear una fecha a string\n"
   ]
  },
  {
   "cell_type": "code",
   "execution_count": null,
   "id": "867eaa87",
   "metadata": {},
   "outputs": [],
   "source": [
    "# Sumar días a una fecha\n",
    "date + dt.timedelta(days = 10)  # Sumar 10 días"
   ]
  },
  {
   "cell_type": "code",
   "execution_count": null,
   "id": "313e4ff9",
   "metadata": {},
   "outputs": [],
   "source": [
    "# Restar minutos a una fecha\n"
   ]
  },
  {
   "cell_type": "code",
   "execution_count": null,
   "id": "42d4ffe9",
   "metadata": {},
   "outputs": [],
   "source": [
    "# Generar una serie de fechas incrementando en 10 días desde una fecha inicial 2024-01-01 hasta una fecha final 2024-12-31"
   ]
  },
  {
   "cell_type": "code",
   "execution_count": null,
   "id": "21fd3bba",
   "metadata": {},
   "outputs": [],
   "source": [
    "# Ver cuantos días faltan para mi próximo cumpleaños\n"
   ]
  },
  {
   "cell_type": "code",
   "execution_count": null,
   "id": "95b2bf0d",
   "metadata": {},
   "outputs": [],
   "source": [
    "# # Buscar la fecha de inicio en el nombre de un archivo 'OR_ABI-L2-CMIPC-M6C01_G16_s20250912101171_e20250912103544_c20250912104026.nc' y extraerla, luego convertirla a objeto datetime (UTC) y convertirla a hora local (CST). # El formato de la fecha es _sYYYYJJJHHMMSS donde YYYY es el año, JJJ es el día del año, HH es la hora, MM son los minutos y SS son los segundos.\n",
    "# import re\n",
    "# name_img = 'OR_ABI-L2-CMIPC-M6C01_G16_s20250912101171_e20250912103544_c20250912104026.nc'\n",
    "\n",
    "# # Extraer fecha de inicio _sYYYYJJJHHMM\n",
    "# pattern = r'_s(\\d{4})(\\d{3})(\\d{2})(\\d{2})(\\d{2})' # Patrón regex\n",
    "# match = re.search(pattern, name_img) # Buscar coincidencia\n",
    "\n",
    "# if match: # Si se encontró una coincidencia\n",
    "#     year = str(match.group(1))\n",
    "#     day_of_year = str(match.group(2)) \n",
    "#     hour = str(match.group(3))\n",
    "#     minute = str(match.group(4))\n",
    "#     second = str(match.group(5))\n",
    "\n",
    "#     print(f\"Año: {year}, Día del año: {day_of_year}, Hora: {hour}, Minuto: {minute}, Segundo: {second}\")\n",
    "\n",
    "# date_start = dt.datetime.strptime(f\"{year}{day_of_year}{hour}{minute}{second}\", '%Y%j%H%M%S') # Convertir a objeto datetime\n",
    "# date_start\n"
   ]
  },
  {
   "cell_type": "code",
   "execution_count": null,
   "id": "8c952000",
   "metadata": {},
   "outputs": [],
   "source": [
    "# Asignar zona horaria\n"
   ]
  },
  {
   "cell_type": "code",
   "execution_count": null,
   "id": "ff76b446",
   "metadata": {},
   "outputs": [],
   "source": [
    "# Convertir a hora local (CST)\n"
   ]
  },
  {
   "cell_type": "code",
   "execution_count": null,
   "id": "e2bfdb19",
   "metadata": {},
   "outputs": [],
   "source": [
    "# Imprimir la fecha y hora en formato legible"
   ]
  },
  {
   "cell_type": "markdown",
   "id": "bcd2ed0b",
   "metadata": {},
   "source": [
    "# Numpy\n",
    "[![NumPy](https://img.shields.io/badge/NumPy-013243?style=for-the-badge&logo=numpy&logoColor=white)](https://numpy.org/) \n",
    "\n",
    "Numpyes un paquete fundamental para la computación científica en Python. Es una biblioteca de Python que proporciona un objeto de matriz multidimensional y una variedad de rutinas para operaciones rápidas con matrices, incluyendo operaciones matemáticas, lógicas, manipulación de formas, ordenamiento, selección, E/S, transformadas discretas de Fourier, álgebra lineal básica, etc.\n"
   ]
  },
  {
   "cell_type": "code",
   "execution_count": null,
   "id": "947dfe65",
   "metadata": {},
   "outputs": [],
   "source": [
    "import numpy as np"
   ]
  },
  {
   "cell_type": "code",
   "execution_count": null,
   "id": "955979ae",
   "metadata": {},
   "outputs": [],
   "source": [
    "# Crear un array de numpy 1D\n"
   ]
  },
  {
   "cell_type": "code",
   "execution_count": null,
   "id": "6dac4674",
   "metadata": {},
   "outputs": [],
   "source": [
    "# Acceder al primer elemento del array\n"
   ]
  },
  {
   "cell_type": "code",
   "execution_count": null,
   "id": "0bb9743a",
   "metadata": {},
   "outputs": [],
   "source": [
    "# Crear un array de numpy 2D\n"
   ]
  },
  {
   "cell_type": "code",
   "execution_count": null,
   "id": "e66053ad",
   "metadata": {},
   "outputs": [],
   "source": [
    "# Ver las dimensiones del array\n"
   ]
  },
  {
   "cell_type": "code",
   "execution_count": null,
   "id": "2b0e5d95",
   "metadata": {},
   "outputs": [],
   "source": [
    "# Acceder a un elemento específico "
   ]
  },
  {
   "cell_type": "markdown",
   "id": "07c3fdb6",
   "metadata": {},
   "source": [
    "Notas:\n",
    "- Un array 0-D (cero-dimensional) es denominado \"escalar\"\n",
    "- Un array 1-D (unidimensional) es denominado \"vector\"\n",
    "- Un array 2-D (bidimensional) es denominado \"matriz\"\n",
    "- Un array ND (N-dimensional, donde \"N\" es típicamente un entero mayor que 2) es denominado \"tensor\""
   ]
  },
  {
   "cell_type": "code",
   "execution_count": null,
   "id": "c69c1709",
   "metadata": {},
   "outputs": [],
   "source": [
    "# Crear un array de ceros\n",
    "np.zeros((3, 4))"
   ]
  },
  {
   "cell_type": "code",
   "execution_count": null,
   "id": "101125a2",
   "metadata": {},
   "outputs": [],
   "source": [
    "# Crear un array de ceros con 3 matrices de 4 filas × 2 columnas\n",
    "np.zeros((3, 4, 2))"
   ]
  },
  {
   "cell_type": "code",
   "execution_count": null,
   "id": "79e6aed4",
   "metadata": {},
   "outputs": [],
   "source": [
    "# Crear un array de ceros con 3 bloques de (4×2×3)\n",
    "a = np.zeros((3, 4, 2, 3))\n",
    "a"
   ]
  },
  {
   "cell_type": "code",
   "execution_count": null,
   "id": "64818e23",
   "metadata": {},
   "outputs": [],
   "source": [
    "# Ver el número de dimensiones del array"
   ]
  },
  {
   "cell_type": "code",
   "execution_count": null,
   "id": "bfd3c5d7",
   "metadata": {},
   "outputs": [],
   "source": [
    "# Ver el tamaño total del array (número de elementos)"
   ]
  },
  {
   "cell_type": "code",
   "execution_count": null,
   "id": "b2299b26",
   "metadata": {},
   "outputs": [],
   "source": [
    "# Crear un array de unos con 3 filas y 2 columnas\n",
    "np.ones((3, 2))"
   ]
  },
  {
   "cell_type": "code",
   "execution_count": null,
   "id": "78a13aa8",
   "metadata": {},
   "outputs": [],
   "source": [
    "# Crear un array con valores en un rango específico\n",
    "np.arange(2, 9, 2)"
   ]
  },
  {
   "cell_type": "code",
   "execution_count": null,
   "id": "915e9588",
   "metadata": {},
   "outputs": [],
   "source": [
    "# Crear un array con valores espaciados uniformemente entre 0 y 10\n",
    "np.linspace(0, 10, num=3)"
   ]
  },
  {
   "cell_type": "code",
   "execution_count": null,
   "id": "917cbd5b",
   "metadata": {},
   "outputs": [],
   "source": [
    "# Crear un array de unos con 2 elementos y tipo de dato entero\n",
    "np.ones(2, dtype=np.int64)"
   ]
  },
  {
   "cell_type": "code",
   "execution_count": null,
   "id": "3bafcd52",
   "metadata": {},
   "outputs": [],
   "source": [
    "# Cambiar la forma (reshape) de un array\n",
    "a = np.arange(12) # Array con valores de 0 a 11\n"
   ]
  },
  {
   "cell_type": "code",
   "execution_count": null,
   "id": "1a1ec5c2",
   "metadata": {},
   "outputs": [],
   "source": [
    "# Filtrado de arrays con condiciones\n",
    "a = np.array([[1, 2, 3, 4], [5, 6, 7, 8], [9, 10, 11, 12]])"
   ]
  },
  {
   "cell_type": "code",
   "execution_count": null,
   "id": "345da028",
   "metadata": {},
   "outputs": [],
   "source": [
    "# Reemplazar elementos de un array según una condición\n",
    "a = np.array([[1, 2, 3, 4], [5, 6, 7, 8], [9, 10, 11, 12]])\n"
   ]
  },
  {
   "cell_type": "code",
   "execution_count": null,
   "id": "39c0c070",
   "metadata": {},
   "outputs": [],
   "source": [
    "# Estadísticas básicas de un array\n",
    "a.max(), a.min(), a.sum(), a.mean(), a.std() # Operaciones estadísticas básicas"
   ]
  },
  {
   "cell_type": "code",
   "execution_count": null,
   "id": "43ff4b88",
   "metadata": {},
   "outputs": [],
   "source": [
    "# Modificar un elemento específico del array\n",
    "a[1, 0] = 5 # Asignar valor 5 a la posición fila 1, columna 2\n",
    "a"
   ]
  },
  {
   "cell_type": "code",
   "execution_count": null,
   "id": "3ad9dac4",
   "metadata": {},
   "outputs": [],
   "source": [
    "# Crear una imagen de 8 filas y 12 columnas con valores aleatorios entre 0 y 255\n",
    "img = np.random.randint(0, 256, size=(8, 12)) # Generar la imagen\n",
    "img"
   ]
  },
  {
   "cell_type": "code",
   "execution_count": null,
   "id": "bdd40e9d",
   "metadata": {},
   "outputs": [],
   "source": [
    "# Crear una máscara binaria a partir de la imagen, poniendo 1 donde el valor es mayor a 128 y 0 en otro caso"
   ]
  },
  {
   "cell_type": "code",
   "execution_count": null,
   "id": "e7b5c92d",
   "metadata": {},
   "outputs": [],
   "source": [
    "# Aplicar la máscara a la imagen original"
   ]
  },
  {
   "cell_type": "code",
   "execution_count": null,
   "id": "3326b27a",
   "metadata": {},
   "outputs": [],
   "source": [
    "# Transponer la imagen (intercambiar filas y columnas)\n"
   ]
  },
  {
   "cell_type": "code",
   "execution_count": null,
   "id": "706c0e68",
   "metadata": {},
   "outputs": [],
   "source": [
    "# Aplanar la imagen a 1D\n"
   ]
  },
  {
   "cell_type": "markdown",
   "id": "ab50ac54",
   "metadata": {},
   "source": [
    "# Matplotlib\n",
    "[![Matplotlib](https://img.shields.io/badge/Matplotlib-11557c?style=for-the-badge&logo=python&logoColor=white)](https://matplotlib.org/) \n",
    "\n",
    "Matplotlib es una biblioteca completa para crear visualizaciones estáticas, animadas e interactivas en Python. Matplotlib es una biblioteca completa para crear visualizaciones estáticas, animadas e interactivas en Python.\n",
    "\n",
    "## Terminología común para características de gráficos en Matplotlib\n",
    "\n",
    "| Término | Descripción |\n",
    "|---------|-------------|\n",
    "| **Axis** | Ejes del gráfico que típicamente son x, y y z (para gráficos 3D) |\n",
    "| **Title** | Título de todo el gráfico |\n",
    "| **Label** | Nombre para todo el eje (por ejemplo, xlabel o ylabel) |\n",
    "| **Legend** | Leyenda del gráfico |\n",
    "| **Tick label** | Texto o valores que se representan en el eje |\n",
    "| **Symbol** | Símbolo para punto(s) de datos (en un gráfico de dispersión) que puede presentarse con diferentes formas o colores |\n",
    "| **Size** | Tamaño de, por ejemplo, un punto en un gráfico de dispersión. También se usa para referirse a tamaños de texto en un gráfico |\n",
    "| **Linestyle** | El estilo de cómo se debe dibujar la línea. Puede ser sólida o discontinua, por ejemplo |\n",
    "| **Linewidth** | El ancho de una línea en un gráfico |\n",
    "| **Alpha** | Nivel de transparencia de un elemento relleno en un gráfico (los valores van desde 0.0 (totalmente transparente) hasta 1.0 (sin transparencia)) |\n",
    "| **Tick(s)** | Se refiere a las marcas de graduación en un gráfico |\n",
    "| **Annotation** | Se refiere al texto añadido a un gráfico |\n",
    "| **Padding** | La distancia entre una etiqueta (de eje/graduación) y el eje |"
   ]
  },
  {
   "cell_type": "code",
   "execution_count": null,
   "id": "76b6ff39",
   "metadata": {},
   "outputs": [],
   "source": [
    "import matplotlib.pyplot as plt"
   ]
  },
  {
   "cell_type": "code",
   "execution_count": null,
   "id": "d4f4920d",
   "metadata": {},
   "outputs": [],
   "source": [
    "# Crea un array con números aleatorios entre 0 y 25 usando random de numpy\n",
    "a = np.random.randint(0, 26, size=25)\n",
    "a"
   ]
  },
  {
   "cell_type": "code",
   "execution_count": null,
   "id": "158fd510",
   "metadata": {},
   "outputs": [],
   "source": [
    "# Graficar el array\n"
   ]
  },
  {
   "cell_type": "code",
   "execution_count": null,
   "id": "0fe3db6a",
   "metadata": {},
   "outputs": [],
   "source": [
    "# Plot tipo scatter\n"
   ]
  },
  {
   "cell_type": "code",
   "execution_count": null,
   "id": "898c76a4",
   "metadata": {},
   "outputs": [],
   "source": [
    "# Plot de barras\n"
   ]
  },
  {
   "cell_type": "code",
   "execution_count": null,
   "id": "36abd54b",
   "metadata": {},
   "outputs": [],
   "source": [
    "# Personalizar el gráfico\n"
   ]
  },
  {
   "cell_type": "code",
   "execution_count": null,
   "id": "d76d0b88",
   "metadata": {},
   "outputs": [],
   "source": [
    "# Ejemplos mas avanzados con numpy y matplotlib:"
   ]
  },
  {
   "cell_type": "code",
   "execution_count": null,
   "id": "3f700ea3",
   "metadata": {},
   "outputs": [],
   "source": [
    "# Ejemplo: Plot de barras\n",
    "categories = ['A', 'B', 'C', 'D']\n",
    "values = [10, 15, 7, 12]\n",
    "plt.figure()\n",
    "plt.bar(categories, values, color=\"#438F63\", alpha=0.7, edgecolor='black', linewidth=0.5, label='Valores_categorías')\n",
    "plt.title('Mi gráfico de barras', fontsize=14, fontweight='bold', color='darkblue', pad=10, loc='right', fontname='Arial', style='italic', rotation=0, backgroundcolor='lightgray')\n",
    "plt.xlabel('Categorías')\n",
    "plt.ylabel('Valores')\n",
    "plt.grid(axis='y', linestyle='-', linewidth=0.5, color='gray')\n",
    "plt.tight_layout()\n",
    "plt.legend()\n",
    "plt.show()"
   ]
  },
  {
   "cell_type": "code",
   "execution_count": null,
   "id": "59cf88f1",
   "metadata": {},
   "outputs": [
    {
     "data": {
      "image/png": "[encoded data removed]",
      "text/plain": [
       "<Figure size 1800x900 with 2 Axes>"
      ]
     },
     "metadata": {},
     "output_type": "display_data"
    }
   ],
   "source": [
    "# Ejemplo: temperatura (°C) vs precipitación (mm)\n",
    "meses = ['Ene', 'Feb', 'Mar', 'Abr', 'May', 'Jun', \n",
    "         'Jul', 'Ago', 'Sep', 'Oct', 'Nov', 'Dic']\n",
    "temperatura = [15, 18, 22, 26, 29, 32, 34, 33, 30, 26, 20, 16]  # °C\n",
    "precipitacion = [45, 30, 25, 15, 5, 2, 1, 3, 8, 25, 35, 40]    # mm\n",
    "\n",
    "fig, ax1 = plt.subplots(figsize=(12, 6), dpi=150)\n",
    "ax2 = ax1.twinx()\n",
    "\n",
    "# Colores personalizados\n",
    "color_temp = \"#5C0B0B\"  # Color para la temperatura\n",
    "color_precip = '#294457'  # Color para la precipitación\n",
    "\n",
    "# Temperatura en eje izquierdo\n",
    "ax1.plot(meses, temperatura, '-o', linewidth=2, label='Temperatura', color=color_temp)\n",
    "ax1.set_xlabel('Mes')\n",
    "ax1.set_ylabel('Temperatura (°C)', fontweight='bold', color=color_temp)\n",
    "ax1.tick_params(axis='y', labelcolor=color_temp)\n",
    "ax1.legend(loc='upper left')\n",
    "\n",
    "\n",
    "# Precipitación en eje derecho\n",
    "ax2.bar(meses, precipitacion, alpha=0.8, color=color_precip, label='Precipitación')\n",
    "ax2.set_ylabel('Precipitación (mm)', fontweight='bold', color=color_precip)\n",
    "ax2.tick_params(axis='y', labelcolor=color_precip)\n",
    "ax2.legend(loc='upper right')\n",
    "\n",
    "plt.title('(Datos falsos) Temperatura vs Precipitación', fontsize=14, pad=10)\n",
    "plt.tight_layout()\n",
    "plt.grid(linestyle='--', linewidth=0.5, axis='y', color='gray', alpha=0.7)\n",
    "\n",
    "plt.show()"
   ]
  },
  {
   "cell_type": "code",
   "execution_count": null,
   "id": "20cbed15",
   "metadata": {},
   "outputs": [
    {
     "ename": "NameError",
     "evalue": "name 'np' is not defined",
     "output_type": "error",
     "traceback": [
      "\u001b[1;31m---------------------------------------------------------------------------\u001b[0m",
      "\u001b[1;31mNameError\u001b[0m                                 Traceback (most recent call last)",
      "Cell \u001b[1;32mIn[4], line 3\u001b[0m\n\u001b[0;32m      1\u001b[0m \u001b[38;5;66;03m# EJEMPLO: ELEVACIÓN TERRESTRE vs TEMPERATURA SUPERFICIAL\u001b[39;00m\n\u001b[1;32m----> 3\u001b[0m distancia_km \u001b[38;5;241m=\u001b[39m \u001b[43mnp\u001b[49m\u001b[38;5;241m.\u001b[39mlinspace(\u001b[38;5;241m0\u001b[39m, \u001b[38;5;241m50\u001b[39m, \u001b[38;5;241m100\u001b[39m)  \u001b[38;5;66;03m# 50 km de transecto\u001b[39;00m\n\u001b[0;32m      4\u001b[0m elevacion \u001b[38;5;241m=\u001b[39m \u001b[38;5;241m2000\u001b[39m \u001b[38;5;241m+\u001b[39m \u001b[38;5;241m1500\u001b[39m \u001b[38;5;241m*\u001b[39m np\u001b[38;5;241m.\u001b[39mexp(\u001b[38;5;241m-\u001b[39m(distancia_km \u001b[38;5;241m-\u001b[39m \u001b[38;5;241m25\u001b[39m)\u001b[38;5;241m*\u001b[39m\u001b[38;5;241m*\u001b[39m\u001b[38;5;241m2\u001b[39m \u001b[38;5;241m/\u001b[39m \u001b[38;5;241m100\u001b[39m) \u001b[38;5;241m+\u001b[39m np\u001b[38;5;241m.\u001b[39mrandom\u001b[38;5;241m.\u001b[39mnormal(\u001b[38;5;241m0\u001b[39m, \u001b[38;5;241m50\u001b[39m, \u001b[38;5;241m100\u001b[39m)  \u001b[38;5;66;03m# metros\u001b[39;00m\n\u001b[0;32m      5\u001b[0m temp_superficie \u001b[38;5;241m=\u001b[39m \u001b[38;5;241m25\u001b[39m \u001b[38;5;241m-\u001b[39m \u001b[38;5;241m0.006\u001b[39m \u001b[38;5;241m*\u001b[39m elevacion \u001b[38;5;241m+\u001b[39m np\u001b[38;5;241m.\u001b[39mrandom\u001b[38;5;241m.\u001b[39mnormal(\u001b[38;5;241m0\u001b[39m, \u001b[38;5;241m1\u001b[39m, \u001b[38;5;241m100\u001b[39m)  \u001b[38;5;66;03m# °C (gradiente altitudinal)\u001b[39;00m\n",
      "\u001b[1;31mNameError\u001b[0m: name 'np' is not defined"
     ]
    }
   ],
   "source": [
    "# Ejemplo: Elevación terrestre vs temperatura superficial\n",
    "distancia_km = np.linspace(0, 50, 100)  # 50 km de transecto\n",
    "elevacion = 2000 + 1500 * np.exp(-(distancia_km - 25)**2 / 100) + np.random.normal(0, 50, 100)  # metros\n",
    "temp_superficie = 25 - 0.006 * elevacion + np.random.normal(0, 1, 100)  # °C (gradiente altitudinal)\n",
    "\n",
    "fig, ax1 = plt.subplots(figsize=(12, 6), dpi=150)\n",
    "ax2 = ax1.twinx()\n",
    "\n",
    "# Elevación en eje izquierdo\n",
    "ax1.plot(distancia_km, elevacion, 'saddlebrown', linewidth=2, label='Elevación')\n",
    "ax1.fill_between(distancia_km, elevacion, alpha=0.4, color='saddlebrown')\n",
    "ax1.set_xlabel('Distancia (km)')\n",
    "ax1.set_ylabel('Elevación (m s.n.m.)', color='saddlebrown', fontweight='bold')\n",
    "ax1.tick_params(axis='y', labelcolor='saddlebrown')\n",
    "\n",
    "# Temperatura superficial en eje derecho\n",
    "scatter = ax2.scatter(distancia_km, temp_superficie, c=temp_superficie, \n",
    "                     cmap='coolwarm', s=20, alpha=0.8, label='Temp. Superficie')\n",
    "ax2.set_ylabel('Temperatura superficial (°C)', color='red', fontweight='bold')\n",
    "ax2.tick_params(axis='y', labelcolor='red')\n",
    "\n",
    "plt.title('Perfil Topográfico: Elevación vs Temperatura Superficial', fontsize=14, pad=20)\n",
    "plt.colorbar(scatter, ax=ax2, label='Temp (°C)', shrink=0.8)\n",
    "plt.tight_layout()\n",
    "plt.show()"
   ]
  },
  {
   "cell_type": "code",
   "execution_count": null,
   "id": "9f6de940",
   "metadata": {},
   "outputs": [],
   "source": [
    "img"
   ]
  },
  {
   "cell_type": "code",
   "execution_count": null,
   "id": "a11aad4f",
   "metadata": {},
   "outputs": [],
   "source": [
    "plt.imshow(img)"
   ]
  },
  {
   "cell_type": "code",
   "execution_count": null,
   "id": "f82ffd07",
   "metadata": {},
   "outputs": [],
   "source": [
    "# Plot de nuestro array img como mapa de calor\n",
    "plt.figure()\n",
    "plt.imshow(img, cmap='rainbow_r')\n",
    "plt.colorbar(pad=0.04, label='Intensidad', orientation='vertical', shrink=0.8)\n",
    "plt.title('Mapa de calor')\n",
    "plt.xlabel('Eje X')\n",
    "plt.ylabel('Eje Y')\n",
    "plt.show()"
   ]
  },
  {
   "cell_type": "code",
   "execution_count": null,
   "id": "d8f9a57f",
   "metadata": {},
   "outputs": [],
   "source": [
    "# Plot de nuestro array img como mapa de calor con personalización\n",
    "img = np.random.randint(0, 256, size=(100, 100))\n",
    "\n",
    "plt.figure(figsize=(6, 6))\n",
    "plt.imshow(img, cmap='coolwarm', vmin=0, vmax=255)\n",
    "plt.colorbar(label='Intensidad', orientation='horizontal', shrink=0.5)\n",
    "plt.title('Mapa de calor', fontsize=14)\n",
    "plt.xlabel('Eje X', fontsize=12)\n",
    "plt.ylabel('Eje Y', fontsize=12)\n",
    "plt.tight_layout()\n",
    "plt.show()"
   ]
  },
  {
   "cell_type": "markdown",
   "id": "47d7e18f",
   "metadata": {},
   "source": [
    "## Seaborn\n"
   ]
  },
  {
   "cell_type": "code",
   "execution_count": null,
   "id": "ee552897",
   "metadata": {},
   "outputs": [],
   "source": [
    "import seaborn as sns"
   ]
  },
  {
   "cell_type": "code",
   "execution_count": null,
   "id": "b1a5f88f",
   "metadata": {},
   "outputs": [],
   "source": [
    "# Plot de array (lineal) con seaborn\n",
    "plt.figure(figsize=(10, 4))\n",
    "sns.lineplot(x=range(len(a)), y=a, marker='o', color='purple')\n",
    "plt.title('Gráfico de línea con Seaborn', fontsize=14)\n",
    "plt.show()"
   ]
  },
  {
   "cell_type": "code",
   "execution_count": null,
   "id": "2d1ab886",
   "metadata": {},
   "outputs": [],
   "source": [
    "# Plot de mapa de img como mapa de calor con seaborn\n",
    "plt.figure()\n",
    "sns.heatmap(data=img, cmap='coolwarm', cbar_kws={'label': 'Intensidad'})\n",
    "plt.title('Mapa de calor con Seaborn', fontsize=14)\n",
    "plt.show()"
   ]
  },
  {
   "cell_type": "code",
   "execution_count": null,
   "id": "6e5fb331",
   "metadata": {},
   "outputs": [],
   "source": [
    "# Plot de tipo scatter con seaborn\n",
    "a = np.random.randint(0, 26, size=25)\n",
    "x = range(len(a))\n",
    "z = np.random.randint(1, 5, size=25)  # Valores aleatorios para el tamaño de los puntos\n",
    "\n",
    "plt.figure(figsize=(8, 5))\n",
    "sns.scatterplot(x=x, y=a, color='green', s=z*200, alpha=0.7)\n",
    "plt.title('Gráfico de dispersión con Seaborn', fontsize=14)\n",
    "plt.show()"
   ]
  },
  {
   "cell_type": "code",
   "execution_count": null,
   "id": "329f507a",
   "metadata": {},
   "outputs": [],
   "source": [
    "# Plot de tipo scatter con seaborn\n",
    "a = np.random.randint(0, 26, size=25)\n",
    "x = range(len(a))\n",
    "# 4 clases tipo para simbolizar diferentes categorías\n",
    "z = np.random.randint(0, 4, size=25)  \n",
    "\n",
    "plt.figure(figsize=(8, 5))\n",
    "sns.scatterplot(x=x, y=a, hue=z, palette='viridis', alpha=0.7)\n",
    "plt.title('Gráfico de dispersión con Seaborn', fontsize=14)\n",
    "plt.show()"
   ]
  },
  {
   "cell_type": "markdown",
   "id": "e40d6d9f",
   "metadata": {},
   "source": [
    "# Pandas\n",
    "Pandas es una biblioteca para el análisis y manipulación de datos en Python. Proporciona estructuras de datos de alto rendimiento y fáciles de usar, especialmente diseñadas para trabajar con datos tabulares (similar a hojas de cálculo) y series temporales."
   ]
  },
  {
   "cell_type": "code",
   "execution_count": 5,
   "id": "10f6da1a",
   "metadata": {},
   "outputs": [],
   "source": [
    "import pandas as pd"
   ]
  },
  {
   "cell_type": "code",
   "execution_count": null,
   "id": "e571b3b1",
   "metadata": {},
   "outputs": [
    {
     "ename": "NameError",
     "evalue": "name 'os' is not defined",
     "output_type": "error",
     "traceback": [
      "\u001b[1;31m---------------------------------------------------------------------------\u001b[0m",
      "\u001b[1;31mNameError\u001b[0m                                 Traceback (most recent call last)",
      "Cell \u001b[1;32mIn[6], line 3\u001b[0m\n\u001b[0;32m      1\u001b[0m \u001b[38;5;66;03m# Directorio donde se encuentra el archivo CSV\u001b[39;00m\n\u001b[0;32m      2\u001b[0m path_data \u001b[38;5;241m=\u001b[39m \u001b[38;5;124mr\u001b[39m\u001b[38;5;124m\"\u001b[39m\u001b[38;5;124mC:\u001b[39m\u001b[38;5;124m\\\u001b[39m\u001b[38;5;124mUsers\u001b[39m\u001b[38;5;124m\\\u001b[39m\u001b[38;5;124mcolve\u001b[39m\u001b[38;5;124m\\\u001b[39m\u001b[38;5;124mOneDrive\u001b[39m\u001b[38;5;124m\\\u001b[39m\u001b[38;5;124mGITHUB\u001b[39m\u001b[38;5;124m\\\u001b[39m\u001b[38;5;124mcurso_geo_python\u001b[39m\u001b[38;5;124m\\\u001b[39m\u001b[38;5;124mdata\u001b[39m\u001b[38;5;124m\"\u001b[39m\n\u001b[1;32m----> 3\u001b[0m path_fish \u001b[38;5;241m=\u001b[39m \u001b[43mos\u001b[49m\u001b[38;5;241m.\u001b[39mpath\u001b[38;5;241m.\u001b[39mjoin(path_data, \u001b[38;5;124m\"\u001b[39m\u001b[38;5;124mFish.csv\u001b[39m\u001b[38;5;124m\"\u001b[39m)\n",
      "\u001b[1;31mNameError\u001b[0m: name 'os' is not defined"
     ]
    }
   ],
   "source": [
    "# Directorio donde se encuentra el archivo CSV\n",
    "\n"
   ]
  },
  {
   "cell_type": "code",
   "execution_count": null,
   "id": "ac26a23c",
   "metadata": {},
   "outputs": [],
   "source": [
    "# Abrir el archivo CSV con pandas\n"
   ]
  },
  {
   "cell_type": "code",
   "execution_count": null,
   "id": "372ded22",
   "metadata": {},
   "outputs": [],
   "source": [
    "# Ver primeros registros del DataFrame\n"
   ]
  },
  {
   "cell_type": "code",
   "execution_count": null,
   "id": "977055c6",
   "metadata": {},
   "outputs": [],
   "source": [
    "# Ver últimos registros del DataFrame\n"
   ]
  },
  {
   "cell_type": "code",
   "execution_count": null,
   "id": "57759969",
   "metadata": {},
   "outputs": [],
   "source": [
    "# Número de filas en el DataFrame\n"
   ]
  },
  {
   "cell_type": "code",
   "execution_count": null,
   "id": "918d3c29",
   "metadata": {},
   "outputs": [],
   "source": [
    "# Ver su forma\n"
   ]
  },
  {
   "cell_type": "code",
   "execution_count": null,
   "id": "c871abb3",
   "metadata": {},
   "outputs": [],
   "source": [
    "# Ver las columnas del DataFrame\n"
   ]
  },
  {
   "cell_type": "code",
   "execution_count": null,
   "id": "0cd2b7c0",
   "metadata": {},
   "outputs": [],
   "source": [
    "# Ver número de columnas\n"
   ]
  },
  {
   "cell_type": "code",
   "execution_count": null,
   "id": "52417644",
   "metadata": {},
   "outputs": [],
   "source": [
    "# Ver tipo de dato de cada columna\n"
   ]
  },
  {
   "cell_type": "code",
   "execution_count": null,
   "id": "23743f0b",
   "metadata": {},
   "outputs": [],
   "source": [
    "# Ver un resumen estadístico del DataFrame\n"
   ]
  },
  {
   "cell_type": "code",
   "execution_count": null,
   "id": "59ea5cd8",
   "metadata": {},
   "outputs": [],
   "source": [
    "# Cambiar el nombre de una columna\n"
   ]
  },
  {
   "cell_type": "code",
   "execution_count": null,
   "id": "0956b1f9",
   "metadata": {},
   "outputs": [],
   "source": [
    "# Seleccionar dos columnas específicas\n"
   ]
  },
  {
   "cell_type": "code",
   "execution_count": null,
   "id": "b7f98e4f",
   "metadata": {},
   "outputs": [],
   "source": [
    "# Ver información general del DataFrame\n"
   ]
  },
  {
   "cell_type": "code",
   "execution_count": null,
   "id": "cf87cbfb",
   "metadata": {},
   "outputs": [],
   "source": [
    "# Quedarme con una columna específica como una lista\n",
    "df_species = df_fish['Species'].tolist()\n",
    "df_species"
   ]
  },
  {
   "cell_type": "code",
   "execution_count": null,
   "id": "083b67fe",
   "metadata": {},
   "outputs": [],
   "source": [
    "# Crear nueva columna de Robustez = Height / Width\n",
    "df_fish['Robustez'] = df_fish['Height'] / df_fish['Width']\n",
    "df_fish\n"
   ]
  },
  {
   "cell_type": "code",
   "execution_count": null,
   "id": "fcbc41d5",
   "metadata": {},
   "outputs": [],
   "source": [
    "# Eliminar la columna Length3\n",
    "df_fish_mod = df_fish.drop(columns=['Length3'])\n",
    "df_fish_mod"
   ]
  },
  {
   "cell_type": "code",
   "execution_count": null,
   "id": "1d3ab749",
   "metadata": {},
   "outputs": [],
   "source": [
    "# Hacer los titulos de las columnas en mayúsculas\n",
    "df_fish.columns = [col.capitalize() for col in df_fish.columns]"
   ]
  },
  {
   "cell_type": "code",
   "execution_count": null,
   "id": "0013fed8",
   "metadata": {},
   "outputs": [],
   "source": [
    "df_fish"
   ]
  },
  {
   "cell_type": "code",
   "execution_count": null,
   "id": "88aa366e",
   "metadata": {},
   "outputs": [],
   "source": [
    "# Seleccionar filas de df_fish_large según la condición Weight > 1000 y Robustez > 1.5"
   ]
  },
  {
   "cell_type": "code",
   "execution_count": null,
   "id": "3e9f31ca",
   "metadata": {},
   "outputs": [],
   "source": [
    "# Resetear el índice del DataFrame\n"
   ]
  },
  {
   "cell_type": "code",
   "execution_count": null,
   "id": "c537dc51",
   "metadata": {},
   "outputs": [],
   "source": [
    "# Ver si hay valores nulos en el DataFrame\n"
   ]
  },
  {
   "cell_type": "code",
   "execution_count": null,
   "id": "046b33a0",
   "metadata": {},
   "outputs": [],
   "source": [
    "# Eliminar filas con valores nulos\n"
   ]
  },
  {
   "cell_type": "code",
   "execution_count": null,
   "id": "54db0e55",
   "metadata": {},
   "outputs": [],
   "source": [
    "# Ordenar datos por una columna específica\n"
   ]
  },
  {
   "cell_type": "code",
   "execution_count": null,
   "id": "56fb1aaa",
   "metadata": {},
   "outputs": [],
   "source": [
    "# Generar un dataframe a partir de un diccionario\n",
    "nombres = ['Ana', 'Luis', 'Carlos', 'María', 'Jorge', 'Lucía', 'Marta', 'Sofía', 'Diego', 'Elena']\n",
    "edades = [23, 30, 35, 28, 40, 22, 50, 31, 29, 26]\n",
    "ciudades = ['CDMX', 'Guadalajara', 'Monterrey', 'Puebla', 'Tijuana', 'Mérida', 'Cancún', 'León', 'Querétaro', 'Toluca']"
   ]
  },
  {
   "cell_type": "code",
   "execution_count": null,
   "id": "dcbe16f9",
   "metadata": {},
   "outputs": [],
   "source": [
    "# Exportar un DataFrame a un archivo CSV\n"
   ]
  },
  {
   "cell_type": "code",
   "execution_count": null,
   "id": "fe003978",
   "metadata": {},
   "outputs": [],
   "source": []
  },
  {
   "cell_type": "code",
   "execution_count": null,
   "id": "0d936a76",
   "metadata": {},
   "outputs": [],
   "source": [
    "# Crea un plot del peso de los peces contra la robustez, con su simbologia de cada especie\n",
    "import matplotlib.pyplot as plt\n",
    "import seaborn as sns\n",
    "\n",
    "plt.figure()\n",
    "sns.scatterplot(data=df_fish, x='Weight', y='Robustez', hue='Species', alpha=0.7)\n",
    "plt.title('Peso vs Robustez de Peces', fontsize=14)\n",
    "plt.xlabel('Peso (g)', fontsize=12)\n",
    "plt.ylabel('Robustez (Height/Width)', fontsize=12)\n",
    "plt.grid(linestyle='--', linewidth=0.5, color='gray', alpha=0.7)\n",
    "plt.tight_layout()\n",
    "plt.show()"
   ]
  },
  {
   "cell_type": "code",
   "execution_count": null,
   "id": "9245af62",
   "metadata": {},
   "outputs": [],
   "source": [
    "# Crea la matriz de correlación del DataFrame df_fish\n"
   ]
  },
  {
   "cell_type": "code",
   "execution_count": null,
   "id": "04579c8a",
   "metadata": {},
   "outputs": [],
   "source": [
    "# Plotea la matriz de correlación con seaborn\n"
   ]
  },
  {
   "cell_type": "markdown",
   "id": "4e21d7e6",
   "metadata": {},
   "source": [
    "# Descarga de datos y descomprimir zip\n",
    "\n",
    "La librería **requests** es la herramienta estándar de Python para realizar peticiones HTTP de manera sencilla. Permite descargar archivos, consumir APIs REST, enviar datos POST, manejar autenticación y trabajar con cookies y sesiones. En el ejemplo mostrado, usamos `requests.get()` para descargar un archivo ZIP de la NASA que contiene datos de incendios activos, obtenemos el contenido con `.content` y lo guardamos en modo binario ('wb'). Aunque este es un uso básico, requests también permite **web scraping** (extrayendo datos de páginas HTML), **consumo de APIs** (obteniendo datos meteorológicos, financieros, geoespaciales), **envío de formularios**, **descarga con progreso**, **manejo de autenticación OAuth**, y **sesiones persistentes** para mantener cookies entre peticiones.\n",
    "\n",
    "Ejemplo para bajar datos de FIRMS: [FIRMS/Active Fire Data](https://firms.modaps.eosdis.nasa.gov/active_fire/)"
   ]
  },
  {
   "cell_type": "code",
   "execution_count": null,
   "id": "527df46a",
   "metadata": {},
   "outputs": [],
   "source": [
    "import requests"
   ]
  },
  {
   "cell_type": "code",
   "execution_count": null,
   "id": "33431154",
   "metadata": {},
   "outputs": [],
   "source": [
    "# # URL del archivo a descargar\n",
    "# url = 'https://firms.modaps.eosdis.nasa.gov/data/active_fire/suomi-npp-viirs-c2/shapes/zips/SUOMI_VIIRS_C2_Central_America_24h.zip'\n",
    "# # Extraer el nombre del archivo del URL\n",
    "\n",
    "# # Descargar el archivo y guardarlo en el directorio de salida\n",
    "# file = requests.get(url) # Descargar el archivo\n",
    "# open(os.path.join(path_data, zip_file_name), 'wb').write(file.content) # Guardar el archivo\n",
    "# file.close() # Cerrar la conexión"
   ]
  },
  {
   "cell_type": "code",
   "execution_count": null,
   "id": "cb1a2488",
   "metadata": {},
   "outputs": [],
   "source": [
    "# import zipfile\n",
    "\n",
    "# # Descomprimir el archivo ZIP\n",
    "# zf = zipfile.ZipFile(os.path.join(path_data, zip_file_name), \"r\") # Abrir el archivo ZIP en modo lectura\n",
    "# for i in zf.namelist(): # Listar los archivos dentro del ZIP\n",
    "#     zf.extract(i, path=path_data) # Extraer cada archivo en el directorio de salida\n",
    "# zf.close() # Cerrar el archivo ZIP"
   ]
  },
  {
   "cell_type": "code",
   "execution_count": null,
   "id": "e0214e8d",
   "metadata": {},
   "outputs": [],
   "source": []
  }
 ],
 "metadata": {
  "kernelspec": {
   "display_name": "entornoCPU",
   "language": "python",
   "name": "python3"
  },
  "language_info": {
   "codemirror_mode": {
    "name": "ipython",
    "version": 3
   },
   "file_extension": ".py",
   "mimetype": "text/x-python",
   "name": "python",
   "nbconvert_exporter": "python",
   "pygments_lexer": "ipython3",
   "version": "3.11.3"
  }
 },
 "nbformat": 4,
 "nbformat_minor": 5
}
