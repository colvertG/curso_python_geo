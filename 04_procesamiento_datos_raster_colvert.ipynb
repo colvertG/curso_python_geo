{
 "cells": [
  {
   "cell_type": "markdown",
   "id": "644fbd37",
   "metadata": {},
   "source": [
    "# 📚 Introducción a Python para procesamiento de datos geoespaciales\n",
    "\n",
    "> Colvert Gomez Rubio - Octubre 2025"
   ]
  },
  {
   "cell_type": "markdown",
   "id": "878b89bd",
   "metadata": {},
   "source": [
    "# Descarga de imágenes usando [planetary-computer](https://planetarycomputer.microsoft.com/)"
   ]
  },
  {
   "cell_type": "code",
   "execution_count": 2,
   "id": "2d31f5f0",
   "metadata": {},
   "outputs": [],
   "source": [
    "# pip install pystac-client planetary-computer"
   ]
  },
  {
   "cell_type": "code",
   "execution_count": 3,
   "id": "625f901a",
   "metadata": {},
   "outputs": [],
   "source": [
    "import pystac_client\n",
    "import planetary_computer\n",
    "from datetime import datetime"
   ]
  },
  {
   "cell_type": "code",
   "execution_count": 4,
   "id": "d067de30",
   "metadata": {},
   "outputs": [],
   "source": [
    "# # Conectar a Microsoft Planetary Computer (no requiere credenciales)\n",
    "catalog = pystac_client.Client.open(\n",
    "    \"https://planetarycomputer.microsoft.com/api/stac/v1\",\n",
    "    modifier=planetary_computer.sign_inplace,\n",
    ")"
   ]
  },
  {
   "cell_type": "code",
   "execution_count": 18,
   "id": "5aeffd1f",
   "metadata": {},
   "outputs": [],
   "source": [
    "# # Buscar escenas Landsat 8-9 para Buenos Aires\n",
    "search = catalog.search(\n",
    "    collections=[\"landsat-c2-l2\"],  # Landsat Collection 2 Level 2\n",
    "    bbox=[-98.9, 18.8, -98.4, 19.5],  # Izta-Popo\n",
    "    datetime=\"2025-01-01/2025-12-31\",\n",
    "    query={\"eo:cloud_cover\": {\"lt\": 100}}  # Máximo 100% de nubes\n",
    ")"
   ]
  },
  {
   "cell_type": "code",
   "execution_count": 19,
   "id": "c0bab03d",
   "metadata": {},
   "outputs": [
    {
     "data": {
      "text/plain": [
       "[<Item id=LC09_L2SP_026047_20251004_02_T1>,\n",
       " <Item id=LC09_L2SP_026046_20251004_02_T1>,\n",
       " <Item id=LC09_L2SP_025047_20250927_02_T1>,\n",
       " <Item id=LC08_L2SP_026047_20250926_02_T1>,\n",
       " <Item id=LC08_L2SP_026046_20250926_02_T1>,\n",
       " <Item id=LC08_L2SP_025047_20250919_02_T1>,\n",
       " <Item id=LC09_L2SP_026047_20250918_02_T1>,\n",
       " <Item id=LC09_L2SP_026046_20250918_02_T1>,\n",
       " <Item id=LC09_L2SP_025047_20250911_02_T1>,\n",
       " <Item id=LC08_L2SP_026047_20250910_02_T1>,\n",
       " <Item id=LC08_L2SP_026046_20250910_02_T1>,\n",
       " <Item id=LC08_L2SP_025047_20250903_02_T1>,\n",
       " <Item id=LC09_L2SP_026047_20250902_02_T1>,\n",
       " <Item id=LC09_L2SP_026046_20250902_02_T1>,\n",
       " <Item id=LC09_L2SP_025047_20250826_02_T1>,\n",
       " <Item id=LC08_L2SP_026047_20250825_02_T1>,\n",
       " <Item id=LC08_L2SP_026046_20250825_02_T1>,\n",
       " <Item id=LC08_L2SP_025047_20250818_02_T1>,\n",
       " <Item id=LC09_L2SP_026047_20250817_02_T1>,\n",
       " <Item id=LC09_L2SP_026046_20250817_02_T1>,\n",
       " <Item id=LC09_L2SP_025047_20250810_02_T1>,\n",
       " <Item id=LC08_L2SP_026047_20250809_02_T1>,\n",
       " <Item id=LC08_L2SP_026046_20250809_02_T1>,\n",
       " <Item id=LC08_L2SP_025047_20250802_02_T1>,\n",
       " <Item id=LC09_L2SP_026047_20250801_02_T1>,\n",
       " <Item id=LC09_L2SP_026046_20250801_02_T1>,\n",
       " <Item id=LC09_L2SP_025047_20250725_02_T1>,\n",
       " <Item id=LC08_L2SP_026047_20250724_02_T1>,\n",
       " <Item id=LC08_L2SP_026046_20250724_02_T1>,\n",
       " <Item id=LC08_L2SP_025047_20250717_02_T1>,\n",
       " <Item id=LC09_L2SP_026047_20250716_02_T1>,\n",
       " <Item id=LC09_L2SP_026046_20250716_02_T1>,\n",
       " <Item id=LC09_L2SP_025047_20250709_02_T1>,\n",
       " <Item id=LC08_L2SP_026047_20250708_02_T1>,\n",
       " <Item id=LC08_L2SP_026046_20250708_02_T1>,\n",
       " <Item id=LC08_L2SP_025047_20250701_02_T1>,\n",
       " <Item id=LC09_L2SP_026047_20250630_02_T2>,\n",
       " <Item id=LC09_L2SP_026046_20250630_02_T2>,\n",
       " <Item id=LC09_L2SP_025047_20250623_02_T2>,\n",
       " <Item id=LC08_L2SP_026047_20250622_02_T2>,\n",
       " <Item id=LC08_L2SP_026046_20250622_02_T2>,\n",
       " <Item id=LC08_L2SP_025047_20250615_02_T1>,\n",
       " <Item id=LC09_L2SP_026047_20250614_02_T2>,\n",
       " <Item id=LC09_L2SP_026046_20250614_02_T1>,\n",
       " <Item id=LC09_L2SP_025047_20250607_02_T1>,\n",
       " <Item id=LC08_L2SP_026047_20250606_02_T1>,\n",
       " <Item id=LC08_L2SP_026046_20250606_02_T1>,\n",
       " <Item id=LC08_L2SP_025047_20250530_02_T1>,\n",
       " <Item id=LC09_L2SP_026047_20250529_02_T1>,\n",
       " <Item id=LC09_L2SP_026046_20250529_02_T1>,\n",
       " <Item id=LC09_L2SP_025047_20250522_02_T1>,\n",
       " <Item id=LC08_L2SP_026047_20250521_02_T1>,\n",
       " <Item id=LC08_L2SP_026046_20250521_02_T1>,\n",
       " <Item id=LC08_L2SP_025047_20250514_02_T1>,\n",
       " <Item id=LC09_L2SP_026047_20250513_02_T1>,\n",
       " <Item id=LC09_L2SP_026046_20250513_02_T1>,\n",
       " <Item id=LC09_L2SP_025047_20250506_02_T1>,\n",
       " <Item id=LC08_L2SP_026047_20250505_02_T1>,\n",
       " <Item id=LC08_L2SP_026046_20250505_02_T1>,\n",
       " <Item id=LC08_L2SP_025047_20250428_02_T1>,\n",
       " <Item id=LC09_L2SP_026047_20250427_02_T1>,\n",
       " <Item id=LC09_L2SP_026046_20250427_02_T1>,\n",
       " <Item id=LC09_L2SP_025047_20250420_02_T1>,\n",
       " <Item id=LC08_L2SP_026047_20250419_02_T1>,\n",
       " <Item id=LC08_L2SP_026046_20250419_02_T1>,\n",
       " <Item id=LC08_L2SP_025047_20250412_02_T1>,\n",
       " <Item id=LC09_L2SP_026047_20250411_02_T1>,\n",
       " <Item id=LC09_L2SP_026046_20250411_02_T1>,\n",
       " <Item id=LC09_L2SP_025047_20250404_02_T1>,\n",
       " <Item id=LC08_L2SP_026047_20250403_02_T1>,\n",
       " <Item id=LC08_L2SP_026046_20250403_02_T1>,\n",
       " <Item id=LC08_L2SP_025047_20250327_02_T1>,\n",
       " <Item id=LC09_L2SP_026047_20250326_02_T1>,\n",
       " <Item id=LC09_L2SP_026046_20250326_02_T1>,\n",
       " <Item id=LC09_L2SP_025047_20250319_02_T1>,\n",
       " <Item id=LC08_L2SP_026047_20250318_02_T1>,\n",
       " <Item id=LC08_L2SP_026046_20250318_02_T1>,\n",
       " <Item id=LC08_L2SP_025047_20250311_02_T1>,\n",
       " <Item id=LC09_L2SP_026047_20250310_02_T1>,\n",
       " <Item id=LC09_L2SP_026046_20250310_02_T1>,\n",
       " <Item id=LC09_L2SP_025047_20250303_02_T1>,\n",
       " <Item id=LC08_L2SP_026047_20250302_02_T1>,\n",
       " <Item id=LC08_L2SP_026046_20250302_02_T1>,\n",
       " <Item id=LC08_L2SP_025047_20250223_02_T1>,\n",
       " <Item id=LC09_L2SP_026047_20250222_02_T1>,\n",
       " <Item id=LC09_L2SP_026046_20250222_02_T1>,\n",
       " <Item id=LC09_L2SP_025047_20250215_02_T1>,\n",
       " <Item id=LC08_L2SP_026047_20250214_02_T1>,\n",
       " <Item id=LC08_L2SP_026046_20250214_02_T1>,\n",
       " <Item id=LC08_L2SP_025047_20250207_02_T1>,\n",
       " <Item id=LC09_L2SP_026047_20250206_02_T1>,\n",
       " <Item id=LC09_L2SP_026046_20250206_02_T1>,\n",
       " <Item id=LC09_L2SP_025047_20250130_02_T1>,\n",
       " <Item id=LC08_L2SP_026047_20250129_02_T1>,\n",
       " <Item id=LC08_L2SP_026046_20250129_02_T1>,\n",
       " <Item id=LC08_L2SP_025047_20250122_02_T1>,\n",
       " <Item id=LC09_L2SP_026047_20250121_02_T1>,\n",
       " <Item id=LC09_L2SP_026046_20250121_02_T1>,\n",
       " <Item id=LC08_L2SP_026047_20250113_02_T1>,\n",
       " <Item id=LC08_L2SP_026046_20250113_02_T1>,\n",
       " <Item id=LC08_L2SP_025047_20250106_02_T1>,\n",
       " <Item id=LC09_L2SP_026047_20250105_02_T1>,\n",
       " <Item id=LC09_L2SP_026046_20250105_02_T1>]"
      ]
     },
     "execution_count": 19,
     "metadata": {},
     "output_type": "execute_result"
    }
   ],
   "source": [
    "# Obtener todas las escenas encontradas\n",
    "items = list(search.items())\n",
    "items"
   ]
  },
  {
   "cell_type": "code",
   "execution_count": 20,
   "id": "01e36b32",
   "metadata": {},
   "outputs": [
    {
     "data": {
      "text/plain": [
       "[<Item id=LC09_L2SP_026047_20251004_02_T1>,\n",
       " <Item id=LC09_L2SP_026046_20251004_02_T1>,\n",
       " <Item id=LC09_L2SP_025047_20250927_02_T1>,\n",
       " <Item id=LC08_L2SP_026047_20250926_02_T1>,\n",
       " <Item id=LC08_L2SP_026046_20250926_02_T1>]"
      ]
     },
     "execution_count": 20,
     "metadata": {},
     "output_type": "execute_result"
    }
   ],
   "source": [
    "# Mostrar información de las primeras 5 escenas\n",
    "items[:5]"
   ]
  },
  {
   "cell_type": "code",
   "execution_count": 21,
   "id": "28717ca8",
   "metadata": {},
   "outputs": [
    {
     "data": {
      "text/html": [
       "&lt;Item id=LC09_L2SP_026047_20251004_02_T1&gt;"
      ],
      "text/plain": [
       "<Item id=LC09_L2SP_026047_20251004_02_T1>"
      ]
     },
     "execution_count": 21,
     "metadata": {},
     "output_type": "execute_result"
    }
   ],
   "source": [
    "# primer item\n",
    "item_0 = items[0]\n",
    "item_0"
   ]
  },
  {
   "cell_type": "code",
   "execution_count": 22,
   "id": "20e5879e",
   "metadata": {},
   "outputs": [
    {
     "data": {
      "text/plain": [
       "datetime.datetime(2025, 10, 4, 17, 0, 17, 535650, tzinfo=tzutc())"
      ]
     },
     "execution_count": 22,
     "metadata": {},
     "output_type": "execute_result"
    }
   ],
   "source": [
    "item_0.datetime"
   ]
  },
  {
   "cell_type": "code",
   "execution_count": 23,
   "id": "a69b0694",
   "metadata": {},
   "outputs": [
    {
     "data": {
      "text/plain": [
       "{'type': 'Polygon',\n",
       " 'coordinates': [[[-99.78727423827206, 19.82623699153034],\n",
       "   [-100.17836039079722, 18.094283444889708],\n",
       "   [-98.46354463005342, 17.736505114829477],\n",
       "   [-98.0579173297434, 19.471452989709537],\n",
       "   [-99.78727423827206, 19.82623699153034]]]}"
      ]
     },
     "execution_count": 23,
     "metadata": {},
     "output_type": "execute_result"
    }
   ],
   "source": [
    "item_0.geometry"
   ]
  },
  {
   "cell_type": "code",
   "execution_count": 24,
   "id": "88a34c2c",
   "metadata": {},
   "outputs": [
    {
     "data": {
      "text/plain": [
       "{'gsd': 30,\n",
       " 'created': '2025-10-08T09:26:30.550444Z',\n",
       " 'sci:doi': '10.5066/P9OGBGM6',\n",
       " 'datetime': '2025-10-04T17:00:17.535650Z',\n",
       " 'platform': 'landsat-9',\n",
       " 'proj:shape': [7761, 7601],\n",
       " 'description': 'Landsat Collection 2 Level-2',\n",
       " 'instruments': ['oli', 'tirs'],\n",
       " 'eo:cloud_cover': 51.95,\n",
       " 'proj:transform': [30.0, 0.0, 372885.0, 0.0, -30.0, 2193315.0],\n",
       " 'view:off_nadir': 0,\n",
       " 'landsat:wrs_row': '047',\n",
       " 'landsat:scene_id': 'LC90260472025277LGN00',\n",
       " 'landsat:wrs_path': '026',\n",
       " 'landsat:wrs_type': '2',\n",
       " 'view:sun_azimuth': 136.20319145,\n",
       " 'landsat:correction': 'L2SP',\n",
       " 'view:sun_elevation': 58.62064915,\n",
       " 'landsat:cloud_cover_land': 51.95,\n",
       " 'landsat:collection_number': '02',\n",
       " 'landsat:collection_category': 'T1',\n",
       " 'proj:code': 'EPSG:32614'}"
      ]
     },
     "execution_count": 24,
     "metadata": {},
     "output_type": "execute_result"
    }
   ],
   "source": [
    "item_0.properties"
   ]
  },
  {
   "cell_type": "code",
   "execution_count": 25,
   "id": "336b419a",
   "metadata": {},
   "outputs": [
    {
     "name": "stdout",
     "output_type": "stream",
     "text": [
      "Todos los assets disponibles para LC09_L2SP_026047_20251004_02_T1:\n",
      "\n",
      "  - qa                  : Surface Temperature Quality Assessment Band\n",
      "  - ang                 : Angle Coefficients File\n",
      "  - red                 : Red Band\n",
      "  - blue                : Blue Band\n",
      "  - drad                : Downwelled Radiance Band\n",
      "  - emis                : Emissivity Band\n",
      "  - emsd                : Emissivity Standard Deviation Band\n",
      "  - trad                : Thermal Radiance Band\n",
      "  - urad                : Upwelled Radiance Band\n",
      "  - atran               : Atmospheric Transmittance Band\n",
      "  - cdist               : Cloud Distance Band\n",
      "  - green               : Green Band\n",
      "  - nir08               : Near Infrared Band 0.8\n",
      "  - lwir11              : Surface Temperature Band\n",
      "  - swir16              : Short-wave Infrared Band 1.6\n",
      "  - swir22              : Short-wave Infrared Band 2.2\n",
      "  - coastal             : Coastal/Aerosol Band\n",
      "  - mtl.txt             : Product Metadata File (txt)\n",
      "  - mtl.xml             : Product Metadata File (xml)\n",
      "  - mtl.json            : Product Metadata File (json)\n",
      "  - qa_pixel            : Pixel Quality Assessment Band\n",
      "  - qa_radsat           : Radiometric Saturation and Terrain Occlusion Quality Assessment Band\n",
      "  - qa_aerosol          : Aerosol Quality Assessment Band\n",
      "  - tilejson            : TileJSON with default rendering\n",
      "  - rendered_preview    : Rendered preview\n"
     ]
    }
   ],
   "source": [
    "# # Ver TODAS las bandas y assets disponibles\n",
    "print(f\"Todos los assets disponibles para {item_0.id}:\\n\")\n",
    "for key, asset in item_0.assets.items():\n",
    "    print(f\"  - {key:20s}: {asset.title}\")"
   ]
  },
  {
   "cell_type": "code",
   "execution_count": 26,
   "id": "a66d6c4c",
   "metadata": {},
   "outputs": [
    {
     "name": "stdout",
     "output_type": "stream",
     "text": [
      "Bandas disponibles para LC09_L2SP_026047_20251004_02_T1:\n",
      "  - red: Red Band\n",
      "  - blue: Blue Band\n",
      "  - green: Green Band\n",
      "  - nir08: Near Infrared Band 0.8\n",
      "  - lwir11: Surface Temperature Band\n",
      "  - swir16: Short-wave Infrared Band 1.6\n",
      "  - swir22: Short-wave Infrared Band 2.2\n",
      "  - coastal: Coastal/Aerosol Band\n"
     ]
    }
   ],
   "source": [
    "# # Ver las bandas disponibles\n",
    "item = items[0]\n",
    "print(f\"Bandas disponibles para {item.id}:\")\n",
    "for key, asset in item.assets.items():\n",
    "    if 'eo:bands' in asset.extra_fields:\n",
    "        print(f\"  - {key}: {asset.title}\")"
   ]
  },
  {
   "cell_type": "code",
   "execution_count": 27,
   "id": "c8ccef48",
   "metadata": {},
   "outputs": [
    {
     "data": {
      "text/plain": [
       "'LC09_L2SP_026047_20251004_02_T1'"
      ]
     },
     "execution_count": 27,
     "metadata": {},
     "output_type": "execute_result"
    }
   ],
   "source": [
    "item_0.id"
   ]
  },
  {
   "cell_type": "code",
   "execution_count": 28,
   "id": "837af6d0",
   "metadata": {},
   "outputs": [
    {
     "data": {
      "text/html": [
       "<div>\n",
       "<style scoped>\n",
       "    .dataframe tbody tr th:only-of-type {\n",
       "        vertical-align: middle;\n",
       "    }\n",
       "\n",
       "    .dataframe tbody tr th {\n",
       "        vertical-align: top;\n",
       "    }\n",
       "\n",
       "    .dataframe thead th {\n",
       "        text-align: right;\n",
       "    }\n",
       "</style>\n",
       "<table border=\"1\" class=\"dataframe\">\n",
       "  <thead>\n",
       "    <tr style=\"text-align: right;\">\n",
       "      <th></th>\n",
       "      <th>id</th>\n",
       "      <th>geometry</th>\n",
       "      <th>gsd</th>\n",
       "      <th>created</th>\n",
       "      <th>sci:doi</th>\n",
       "      <th>datetime</th>\n",
       "      <th>platform</th>\n",
       "      <th>proj:shape</th>\n",
       "      <th>description</th>\n",
       "      <th>instruments</th>\n",
       "      <th>...</th>\n",
       "      <th>landsat:scene_id</th>\n",
       "      <th>landsat:wrs_path</th>\n",
       "      <th>landsat:wrs_type</th>\n",
       "      <th>view:sun_azimuth</th>\n",
       "      <th>landsat:correction</th>\n",
       "      <th>view:sun_elevation</th>\n",
       "      <th>landsat:cloud_cover_land</th>\n",
       "      <th>landsat:collection_number</th>\n",
       "      <th>landsat:collection_category</th>\n",
       "      <th>proj:code</th>\n",
       "    </tr>\n",
       "  </thead>\n",
       "  <tbody>\n",
       "    <tr>\n",
       "      <th>0</th>\n",
       "      <td>LC09_L2SP_026047_20251004_02_T1</td>\n",
       "      <td>POLYGON ((-99.78727 19.82624, -100.17836 18.09...</td>\n",
       "      <td>30</td>\n",
       "      <td>2025-10-08T09:26:30.550444Z</td>\n",
       "      <td>10.5066/P9OGBGM6</td>\n",
       "      <td>2025-10-04T17:00:17.535650Z</td>\n",
       "      <td>landsat-9</td>\n",
       "      <td>[7761, 7601]</td>\n",
       "      <td>Landsat Collection 2 Level-2</td>\n",
       "      <td>[oli, tirs]</td>\n",
       "      <td>...</td>\n",
       "      <td>LC90260472025277LGN00</td>\n",
       "      <td>026</td>\n",
       "      <td>2</td>\n",
       "      <td>136.203191</td>\n",
       "      <td>L2SP</td>\n",
       "      <td>58.620649</td>\n",
       "      <td>51.95</td>\n",
       "      <td>02</td>\n",
       "      <td>T1</td>\n",
       "      <td>EPSG:32614</td>\n",
       "    </tr>\n",
       "    <tr>\n",
       "      <th>1</th>\n",
       "      <td>LC09_L2SP_026046_20251004_02_T1</td>\n",
       "      <td>POLYGON ((-99.46273 21.26923, -99.85249 19.536...</td>\n",
       "      <td>30</td>\n",
       "      <td>2025-10-08T09:26:29.340787Z</td>\n",
       "      <td>10.5066/P9OGBGM6</td>\n",
       "      <td>2025-10-04T16:59:53.636163Z</td>\n",
       "      <td>landsat-9</td>\n",
       "      <td>[7751, 7601]</td>\n",
       "      <td>Landsat Collection 2 Level-2</td>\n",
       "      <td>[oli, tirs]</td>\n",
       "      <td>...</td>\n",
       "      <td>LC90260462025277LGN00</td>\n",
       "      <td>026</td>\n",
       "      <td>2</td>\n",
       "      <td>138.120495</td>\n",
       "      <td>L2SP</td>\n",
       "      <td>57.712492</td>\n",
       "      <td>49.11</td>\n",
       "      <td>02</td>\n",
       "      <td>T1</td>\n",
       "      <td>EPSG:32614</td>\n",
       "    </tr>\n",
       "    <tr>\n",
       "      <th>2</th>\n",
       "      <td>LC09_L2SP_025047_20250927_02_T1</td>\n",
       "      <td>POLYGON ((-98.24777 19.82639, -98.63797 18.094...</td>\n",
       "      <td>30</td>\n",
       "      <td>2025-10-02T09:20:23.381761Z</td>\n",
       "      <td>10.5066/P9OGBGM6</td>\n",
       "      <td>2025-09-27T16:54:06.614234Z</td>\n",
       "      <td>landsat-9</td>\n",
       "      <td>[7711, 7561]</td>\n",
       "      <td>Landsat Collection 2 Level-2</td>\n",
       "      <td>[oli, tirs]</td>\n",
       "      <td>...</td>\n",
       "      <td>LC90250472025270LGN00</td>\n",
       "      <td>025</td>\n",
       "      <td>2</td>\n",
       "      <td>131.745002</td>\n",
       "      <td>L2SP</td>\n",
       "      <td>60.216227</td>\n",
       "      <td>28.09</td>\n",
       "      <td>02</td>\n",
       "      <td>T1</td>\n",
       "      <td>EPSG:32614</td>\n",
       "    </tr>\n",
       "    <tr>\n",
       "      <th>3</th>\n",
       "      <td>LC08_L2SP_026047_20250926_02_T1</td>\n",
       "      <td>POLYGON ((-99.79474 19.82891, -100.18575 18.09...</td>\n",
       "      <td>30</td>\n",
       "      <td>2025-10-05T09:20:46.826712Z</td>\n",
       "      <td>10.5066/P9OGBGM6</td>\n",
       "      <td>2025-09-26T17:00:14.812341Z</td>\n",
       "      <td>landsat-8</td>\n",
       "      <td>[7761, 7611]</td>\n",
       "      <td>Landsat Collection 2 Level-2</td>\n",
       "      <td>[oli, tirs]</td>\n",
       "      <td>...</td>\n",
       "      <td>LC80260472025269LGN00</td>\n",
       "      <td>026</td>\n",
       "      <td>2</td>\n",
       "      <td>131.059268</td>\n",
       "      <td>L2SP</td>\n",
       "      <td>60.424213</td>\n",
       "      <td>41.10</td>\n",
       "      <td>02</td>\n",
       "      <td>T1</td>\n",
       "      <td>EPSG:32614</td>\n",
       "    </tr>\n",
       "    <tr>\n",
       "      <th>4</th>\n",
       "      <td>LC08_L2SP_026046_20250926_02_T1</td>\n",
       "      <td>POLYGON ((-99.46997 21.27165, -99.85965 19.538...</td>\n",
       "      <td>30</td>\n",
       "      <td>2025-10-05T09:20:45.654541Z</td>\n",
       "      <td>10.5066/P9OGBGM6</td>\n",
       "      <td>2025-09-26T16:59:50.917065Z</td>\n",
       "      <td>landsat-8</td>\n",
       "      <td>[7761, 7601]</td>\n",
       "      <td>Landsat Collection 2 Level-2</td>\n",
       "      <td>[oli, tirs]</td>\n",
       "      <td>...</td>\n",
       "      <td>LC80260462025269LGN00</td>\n",
       "      <td>026</td>\n",
       "      <td>2</td>\n",
       "      <td>133.246413</td>\n",
       "      <td>L2SP</td>\n",
       "      <td>59.619292</td>\n",
       "      <td>41.72</td>\n",
       "      <td>02</td>\n",
       "      <td>T1</td>\n",
       "      <td>EPSG:32614</td>\n",
       "    </tr>\n",
       "  </tbody>\n",
       "</table>\n",
       "<p>5 rows × 24 columns</p>\n",
       "</div>"
      ],
      "text/plain": [
       "                                id  \\\n",
       "0  LC09_L2SP_026047_20251004_02_T1   \n",
       "1  LC09_L2SP_026046_20251004_02_T1   \n",
       "2  LC09_L2SP_025047_20250927_02_T1   \n",
       "3  LC08_L2SP_026047_20250926_02_T1   \n",
       "4  LC08_L2SP_026046_20250926_02_T1   \n",
       "\n",
       "                                            geometry  gsd  \\\n",
       "0  POLYGON ((-99.78727 19.82624, -100.17836 18.09...   30   \n",
       "1  POLYGON ((-99.46273 21.26923, -99.85249 19.536...   30   \n",
       "2  POLYGON ((-98.24777 19.82639, -98.63797 18.094...   30   \n",
       "3  POLYGON ((-99.79474 19.82891, -100.18575 18.09...   30   \n",
       "4  POLYGON ((-99.46997 21.27165, -99.85965 19.538...   30   \n",
       "\n",
       "                       created           sci:doi                     datetime  \\\n",
       "0  2025-10-08T09:26:30.550444Z  10.5066/P9OGBGM6  2025-10-04T17:00:17.535650Z   \n",
       "1  2025-10-08T09:26:29.340787Z  10.5066/P9OGBGM6  2025-10-04T16:59:53.636163Z   \n",
       "2  2025-10-02T09:20:23.381761Z  10.5066/P9OGBGM6  2025-09-27T16:54:06.614234Z   \n",
       "3  2025-10-05T09:20:46.826712Z  10.5066/P9OGBGM6  2025-09-26T17:00:14.812341Z   \n",
       "4  2025-10-05T09:20:45.654541Z  10.5066/P9OGBGM6  2025-09-26T16:59:50.917065Z   \n",
       "\n",
       "    platform    proj:shape                   description  instruments  ...  \\\n",
       "0  landsat-9  [7761, 7601]  Landsat Collection 2 Level-2  [oli, tirs]  ...   \n",
       "1  landsat-9  [7751, 7601]  Landsat Collection 2 Level-2  [oli, tirs]  ...   \n",
       "2  landsat-9  [7711, 7561]  Landsat Collection 2 Level-2  [oli, tirs]  ...   \n",
       "3  landsat-8  [7761, 7611]  Landsat Collection 2 Level-2  [oli, tirs]  ...   \n",
       "4  landsat-8  [7761, 7601]  Landsat Collection 2 Level-2  [oli, tirs]  ...   \n",
       "\n",
       "        landsat:scene_id landsat:wrs_path  landsat:wrs_type view:sun_azimuth  \\\n",
       "0  LC90260472025277LGN00              026                 2       136.203191   \n",
       "1  LC90260462025277LGN00              026                 2       138.120495   \n",
       "2  LC90250472025270LGN00              025                 2       131.745002   \n",
       "3  LC80260472025269LGN00              026                 2       131.059268   \n",
       "4  LC80260462025269LGN00              026                 2       133.246413   \n",
       "\n",
       "  landsat:correction view:sun_elevation landsat:cloud_cover_land  \\\n",
       "0               L2SP          58.620649                    51.95   \n",
       "1               L2SP          57.712492                    49.11   \n",
       "2               L2SP          60.216227                    28.09   \n",
       "3               L2SP          60.424213                    41.10   \n",
       "4               L2SP          59.619292                    41.72   \n",
       "\n",
       "   landsat:collection_number landsat:collection_category   proj:code  \n",
       "0                         02                          T1  EPSG:32614  \n",
       "1                         02                          T1  EPSG:32614  \n",
       "2                         02                          T1  EPSG:32614  \n",
       "3                         02                          T1  EPSG:32614  \n",
       "4                         02                          T1  EPSG:32614  \n",
       "\n",
       "[5 rows x 24 columns]"
      ]
     },
     "execution_count": 28,
     "metadata": {},
     "output_type": "execute_result"
    }
   ],
   "source": [
    "# Convertir a GeoDataFrame para tener funcionalidades geoespaciales\n",
    "import geopandas as gpd\n",
    "from shapely.geometry import shape\n",
    "\n",
    "lista_escenas = []\n",
    "for item in items:\n",
    "    info = {\"id\":item.id, 'geometry': shape(item.geometry)}\n",
    "    for key, value in item.properties.items():\n",
    "        info[key] = value\n",
    "    lista_escenas.append(info)\n",
    "\n",
    "gdf = gpd.GeoDataFrame(lista_escenas, crs = 'EPSG:4326')\n",
    "gdf.head()"
   ]
  },
  {
   "cell_type": "code",
   "execution_count": 29,
   "id": "b0f8a856",
   "metadata": {},
   "outputs": [],
   "source": [
    "# Obtener factores de escala desde los metadatos del item\n",
    "item = items[68]\n",
    "\n",
    "green_asset = item.assets['green']"
   ]
  },
  {
   "cell_type": "code",
   "execution_count": 40,
   "id": "1e5daba4",
   "metadata": {},
   "outputs": [
    {
     "data": {
      "text/plain": [
       "(2.75e-05, -0.2)"
      ]
     },
     "execution_count": 40,
     "metadata": {},
     "output_type": "execute_result"
    }
   ],
   "source": [
    "green_band_info = green_asset.extra_fields['raster:bands'][0]\n",
    "green_scale = green_band_info.get('scale')\n",
    "green_offset = green_band_info.get('offset')\n",
    "\n",
    "green_scale, green_offset"
   ]
  },
  {
   "cell_type": "code",
   "execution_count": 41,
   "id": "0e5dcef5",
   "metadata": {},
   "outputs": [
    {
     "data": {
      "text/plain": [
       "'https://landsateuwest.blob.core.windows.net/landsat-c2/level-2/standard/oli-tirs/2025/025/047/LC09_L2SP_025047_20250404_20250405_02_T1/LC09_L2SP_025047_20250404_20250405_02_T1_SR_B3.TIF?st=2025-10-08T18%3A40%3A48Z&se=2025-10-09T19%3A25%3A48Z&sp=rl&sv=2025-07-05&sr=c&skoid=9c8ff44a-6a2c-4dfb-b298-1c9212f64d9a&sktid=72f988bf-86f1-41af-91ab-2d7cd011db47&skt=2025-10-09T15%3A55%3A49Z&ske=2025-10-16T15%3A55%3A49Z&sks=b&skv=2025-07-05&sig=Wdqb51/1sn3hnXcSrjO1uirU560HOuvjTmKAURd7eu4%3D'"
      ]
     },
     "execution_count": 41,
     "metadata": {},
     "output_type": "execute_result"
    }
   ],
   "source": [
    "# Obtener la URL del asset de la banda verde\n",
    "green_band_url = item.assets[\"green\"].href\n",
    "green_band_url"
   ]
  },
  {
   "cell_type": "markdown",
   "id": "28fcb74d",
   "metadata": {},
   "source": [
    "# RIOXARRAY"
   ]
  },
  {
   "cell_type": "code",
   "execution_count": null,
   "id": "a53a2d24",
   "metadata": {},
   "outputs": [],
   "source": [
    "import rioxarray\n",
    "import matplotlib.pyplot as plt"
   ]
  },
  {
   "cell_type": "markdown",
   "id": "d6472a23",
   "metadata": {},
   "source": [
    "https://tutorial.xarray.dev/fundamentals/01_data_structures.html"
   ]
  },
  {
   "cell_type": "code",
   "execution_count": null,
   "id": "904814a6",
   "metadata": {},
   "outputs": [],
   "source": [
    "# plot la banda\n"
   ]
  },
  {
   "cell_type": "code",
   "execution_count": null,
   "id": "127da9aa",
   "metadata": {},
   "outputs": [],
   "source": [
    "# Ver su sistema de referencia\n"
   ]
  },
  {
   "cell_type": "code",
   "execution_count": null,
   "id": "64495228",
   "metadata": {},
   "outputs": [],
   "source": [
    "# Obtener los valores como un array de numpy\n"
   ]
  },
  {
   "cell_type": "code",
   "execution_count": null,
   "id": "a9d23410",
   "metadata": {},
   "outputs": [],
   "source": [
    "# Hacer nan los ceros de mi rioxarray \n"
   ]
  },
  {
   "cell_type": "code",
   "execution_count": null,
   "id": "29f4780a",
   "metadata": {},
   "outputs": [],
   "source": [
    "# Reescalar mi rioxarray\n"
   ]
  },
  {
   "cell_type": "code",
   "execution_count": null,
   "id": "442c6713",
   "metadata": {},
   "outputs": [],
   "source": [
    "# Ver minimo y maximo de la banda reescalada\n"
   ]
  },
  {
   "cell_type": "code",
   "execution_count": null,
   "id": "2db476f3",
   "metadata": {},
   "outputs": [],
   "source": [
    "# Exportar la banda reescalada a GeoTIFF\n"
   ]
  },
  {
   "cell_type": "code",
   "execution_count": null,
   "id": "96db767c",
   "metadata": {},
   "outputs": [],
   "source": [
    "# Obtener bandas red y nir reescaladas\n",
    "# Ver minimo y maximo\n"
   ]
  },
  {
   "cell_type": "code",
   "execution_count": null,
   "id": "181cf536",
   "metadata": {},
   "outputs": [],
   "source": [
    "# Ver minimo y maximo\n"
   ]
  },
  {
   "cell_type": "code",
   "execution_count": null,
   "id": "302241f8",
   "metadata": {},
   "outputs": [],
   "source": [
    "# Historgrama de NDVI\n"
   ]
  },
  {
   "cell_type": "code",
   "execution_count": null,
   "id": "a3e12d9b",
   "metadata": {},
   "outputs": [],
   "source": [
    "# Filtrar ndvi a valores valdos \n"
   ]
  },
  {
   "cell_type": "code",
   "execution_count": null,
   "id": "a39faf88",
   "metadata": {},
   "outputs": [],
   "source": [
    "# Histograma de NDVI corr\n"
   ]
  },
  {
   "cell_type": "code",
   "execution_count": null,
   "id": "785a1fb6",
   "metadata": {},
   "outputs": [],
   "source": [
    "# Siguiente misión: Usar la variable de '- qa_pixel : Pixel Quality Assessment Band' para hacer el filtro de píxeles anómalos......"
   ]
  },
  {
   "cell_type": "code",
   "execution_count": null,
   "id": "7d7a5daf",
   "metadata": {},
   "outputs": [],
   "source": []
  },
  {
   "cell_type": "code",
   "execution_count": null,
   "id": "6b9cb389",
   "metadata": {},
   "outputs": [],
   "source": []
  },
  {
   "cell_type": "code",
   "execution_count": null,
   "id": "e6c08098",
   "metadata": {},
   "outputs": [],
   "source": []
  },
  {
   "cell_type": "code",
   "execution_count": null,
   "id": "3b4981cc",
   "metadata": {},
   "outputs": [],
   "source": []
  },
  {
   "cell_type": "code",
   "execution_count": null,
   "id": "a819d8dc",
   "metadata": {},
   "outputs": [],
   "source": []
  },
  {
   "cell_type": "code",
   "execution_count": null,
   "id": "8c3bdbc7",
   "metadata": {},
   "outputs": [],
   "source": []
  },
  {
   "cell_type": "code",
   "execution_count": null,
   "id": "359e298c",
   "metadata": {},
   "outputs": [],
   "source": []
  },
  {
   "cell_type": "code",
   "execution_count": null,
   "id": "64436a92",
   "metadata": {},
   "outputs": [],
   "source": []
  },
  {
   "cell_type": "code",
   "execution_count": null,
   "id": "9ca2d26a",
   "metadata": {},
   "outputs": [],
   "source": []
  },
  {
   "cell_type": "code",
   "execution_count": null,
   "id": "7f795325",
   "metadata": {},
   "outputs": [],
   "source": []
  },
  {
   "cell_type": "code",
   "execution_count": null,
   "id": "f1f0bd4e",
   "metadata": {},
   "outputs": [],
   "source": []
  },
  {
   "cell_type": "code",
   "execution_count": null,
   "id": "900358b9",
   "metadata": {},
   "outputs": [],
   "source": []
  },
  {
   "cell_type": "code",
   "execution_count": null,
   "id": "7f7754fb",
   "metadata": {},
   "outputs": [],
   "source": []
  },
  {
   "cell_type": "code",
   "execution_count": null,
   "id": "85f4924d",
   "metadata": {},
   "outputs": [],
   "source": []
  },
  {
   "cell_type": "code",
   "execution_count": null,
   "id": "3ee67507",
   "metadata": {},
   "outputs": [],
   "source": []
  },
  {
   "cell_type": "code",
   "execution_count": null,
   "id": "d4996e33",
   "metadata": {},
   "outputs": [],
   "source": []
  },
  {
   "cell_type": "code",
   "execution_count": null,
   "id": "82dd99f3",
   "metadata": {},
   "outputs": [],
   "source": []
  }
 ],
 "metadata": {
  "kernelspec": {
   "display_name": "geo_python",
   "language": "python",
   "name": "python3"
  },
  "language_info": {
   "codemirror_mode": {
    "name": "ipython",
    "version": 3
   },
   "file_extension": ".py",
   "mimetype": "text/x-python",
   "name": "python",
   "nbconvert_exporter": "python",
   "pygments_lexer": "ipython3",
   "version": "3.11.13"
  }
 },
 "nbformat": 4,
 "nbformat_minor": 5
}
