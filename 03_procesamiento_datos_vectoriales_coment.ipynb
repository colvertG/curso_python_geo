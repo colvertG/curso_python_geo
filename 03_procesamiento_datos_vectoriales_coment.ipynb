{
 "cells": [
  {
   "cell_type": "markdown",
   "id": "65b8659c",
   "metadata": {},
   "source": [
    "# 📚 Introducción a Python para procesamiento de datos geoespaciales\n",
    "\n",
    "> Colvert Gomez Rubio - Octubre 2025"
   ]
  },
  {
   "cell_type": "markdown",
   "id": "d81e993c",
   "metadata": {},
   "source": [
    "# Shapely"
   ]
  },
  {
   "cell_type": "code",
   "execution_count": null,
   "id": "509535fb",
   "metadata": {},
   "outputs": [],
   "source": [
    "from shapely import Point, LineString, Polygon"
   ]
  },
  {
   "cell_type": "code",
   "execution_count": null,
   "id": "a1c2eb99",
   "metadata": {},
   "outputs": [],
   "source": [
    "# Crear un punto\n",
    "point = Point(3, 5)\n",
    "point"
   ]
  },
  {
   "cell_type": "code",
   "execution_count": null,
   "id": "2fd9fd02",
   "metadata": {},
   "outputs": [],
   "source": []
  },
  {
   "cell_type": "code",
   "execution_count": null,
   "id": "bb5a8077",
   "metadata": {},
   "outputs": [],
   "source": []
  },
  {
   "cell_type": "markdown",
   "id": "9ffef2fc",
   "metadata": {},
   "source": [
    "WKT (Well-Known Text) es un formato para interpretar correctamente las coordenadas geográficas."
   ]
  },
  {
   "cell_type": "code",
   "execution_count": null,
   "id": "013cb8ac",
   "metadata": {},
   "outputs": [],
   "source": [
    "point.wkt"
   ]
  },
  {
   "cell_type": "code",
   "execution_count": null,
   "id": "79f48afd",
   "metadata": {},
   "outputs": [],
   "source": []
  },
  {
   "cell_type": "code",
   "execution_count": null,
   "id": "77883635",
   "metadata": {},
   "outputs": [],
   "source": [
    "# Crear una línea\n",
    "point_1 = Point(0, 0)\n",
    "point_2 = Point(4, 4)\n",
    "point_3 = Point(8, 0)\n",
    "\n"
   ]
  },
  {
   "cell_type": "code",
   "execution_count": null,
   "id": "c9845687",
   "metadata": {},
   "outputs": [],
   "source": [
    "# Longitud de la línea\n",
    "line.length"
   ]
  },
  {
   "cell_type": "code",
   "execution_count": null,
   "id": "27c3f6c3",
   "metadata": {},
   "outputs": [],
   "source": []
  },
  {
   "cell_type": "code",
   "execution_count": null,
   "id": "a29ed320",
   "metadata": {},
   "outputs": [],
   "source": [
    "# Crear un polígono\n"
   ]
  },
  {
   "cell_type": "code",
   "execution_count": null,
   "id": "db2251b2",
   "metadata": {},
   "outputs": [],
   "source": [
    "polygon.wkt"
   ]
  },
  {
   "cell_type": "code",
   "execution_count": null,
   "id": "072cfec1",
   "metadata": {},
   "outputs": [],
   "source": [
    "# Crear geometrías múltiples\n",
    "from shapely import MultiPoint, MultiLineString, MultiPolygon"
   ]
  },
  {
   "cell_type": "code",
   "execution_count": null,
   "id": "7e09c172",
   "metadata": {},
   "outputs": [],
   "source": []
  },
  {
   "cell_type": "code",
   "execution_count": null,
   "id": "f38f06fb",
   "metadata": {},
   "outputs": [],
   "source": [
    "multilinestring = MultiLineString([LineString([point_1, point_2]), LineString([point_1, point_3])])\n",
    "multilinestring"
   ]
  },
  {
   "cell_type": "code",
   "execution_count": null,
   "id": "23b9a2e6",
   "metadata": {},
   "outputs": [],
   "source": [
    "point_4 = Point(4, -4)\n",
    "multipolygon = MultiPolygon([Polygon([point_1, point_2, point_3]), Polygon([point_1, point_3, point_4])])\n",
    "multipolygon"
   ]
  },
  {
   "cell_type": "code",
   "execution_count": null,
   "id": "86984edc",
   "metadata": {},
   "outputs": [],
   "source": []
  },
  {
   "cell_type": "markdown",
   "id": "815fe12c",
   "metadata": {},
   "source": [
    "# Descarga de datos y descomprimir zip\n",
    "\n",
    "La librería **requests** es la herramienta estándar de Python para realizar peticiones HTTP de manera sencilla. Permite descargar archivos, consumir APIs REST, enviar datos POST, manejar autenticación y trabajar con cookies y sesiones. En el ejemplo mostrado, usamos `requests.get()` para descargar y obtenemos el contenido con `.content` y lo guardamos en modo binario ('wb'). Aunque este es un uso básico, requests también permite **web scraping** (extrayendo datos de páginas HTML), **consumo de APIs**, **envío de formularios**, **descarga con progreso**, **manejo de autenticación OAuth**, y **sesiones persistentes** para mantener cookies entre peticiones.\n",
    "\n",
    "Ejemplo para bajar datos de FIRMS y CONABIO:\n",
    "- [CONABIO-dest23w](http://www.conabio.gob.mx/informacion/gis/?vns=gis_root/dipol/estata/dest23gw)\n",
    "- [FIRMS/Active Fire Data](https://firms.modaps.eosdis.nasa.gov/active_fire/)"
   ]
  },
  {
   "cell_type": "code",
   "execution_count": null,
   "id": "81750b5b",
   "metadata": {},
   "outputs": [],
   "source": [
    "import requests\n",
    "import zipfile\n",
    "import os"
   ]
  },
  {
   "cell_type": "code",
   "execution_count": null,
   "id": "a0ad1764",
   "metadata": {},
   "outputs": [],
   "source": [
    "# Directorios (crear entidades_federativas y firms si no existen dentro de data)\n"
   ]
  },
  {
   "cell_type": "code",
   "execution_count": null,
   "id": "1c6d4869",
   "metadata": {},
   "outputs": [],
   "source": [
    "# Descarga las entidades federativas de México desde CONABIO\n",
    "url = \n",
    "zip_name_entidades = \n",
    "zip_name_entidades"
   ]
  },
  {
   "cell_type": "code",
   "execution_count": null,
   "id": "1baac15c",
   "metadata": {},
   "outputs": [],
   "source": [
    "# Descargar el archivo y guardarlo en el directorio de salida\n",
    "file = requests.get(url) # Descargar el archivo\n",
    "open(os.path.join(path_entidades, zip_name_entidades), 'wb').write(file.content) # Guardar el archivo\n",
    "file.close() # Cerrar la conexión"
   ]
  },
  {
   "cell_type": "code",
   "execution_count": null,
   "id": "a215c99a",
   "metadata": {},
   "outputs": [],
   "source": [
    "# Descomprimir el archivo\n",
    "zf = zipfile.ZipFile(os.path.join(path_entidades, zip_name_entidades), \"r\") # Abrir el archivo ZIP en modo lectura\n",
    "for i in zf.namelist(): # Listar los archivos dentro del ZIP\n",
    "    zf.extract(i, path=) # Extraer cada archivo en el directorio de salida"
   ]
  },
  {
   "cell_type": "code",
   "execution_count": null,
   "id": "f6641ac6",
   "metadata": {},
   "outputs": [],
   "source": [
    "# Lo mismo para FIRMS\n",
    "url = \n",
    "zip_name_firms = \n",
    "zip_name_firms"
   ]
  },
  {
   "cell_type": "code",
   "execution_count": null,
   "id": "4881e5fb",
   "metadata": {},
   "outputs": [],
   "source": [
    "file = requests.get() # Descargar el archivo\n",
    "open(os.path.join(path_firms, zip_name_firms), 'wb').write(file.) # Guardar el archivo\n",
    "file.close() # Cerrar la conexión"
   ]
  },
  {
   "cell_type": "code",
   "execution_count": null,
   "id": "216c79b7",
   "metadata": {},
   "outputs": [],
   "source": [
    "# Descomprimir el archivo\n"
   ]
  },
  {
   "cell_type": "markdown",
   "id": "55f81800",
   "metadata": {},
   "source": [
    "# Geopandas"
   ]
  },
  {
   "cell_type": "code",
   "execution_count": null,
   "id": "c9b6a0a0",
   "metadata": {},
   "outputs": [],
   "source": [
    "import geopandas as gpd\n",
    "import matplotlib.pyplot as plt"
   ]
  },
  {
   "cell_type": "code",
   "execution_count": null,
   "id": "56c8d8e0",
   "metadata": {},
   "outputs": [],
   "source": [
    "# Abrir el archivo shapefile con geopandas\n"
   ]
  },
  {
   "cell_type": "code",
   "execution_count": null,
   "id": "3f2c9edf",
   "metadata": {},
   "outputs": [],
   "source": [
    "# Ver su sistema de referencia espacial (CRS)\n",
    "gdf_mex.crs"
   ]
  },
  {
   "cell_type": "code",
   "execution_count": null,
   "id": "2a111682",
   "metadata": {},
   "outputs": [],
   "source": [
    "# Plot sencillo"
   ]
  },
  {
   "cell_type": "code",
   "execution_count": null,
   "id": "15795d94",
   "metadata": {},
   "outputs": [],
   "source": [
    "# Corregir la codificación de NOMGEO\n",
    "gdf_mex['NOMGEO'] = gdf_mex['NOMGEO'].str.encode('latin1').str.decode('utf-8')\n",
    "gdf_mex.head()"
   ]
  },
  {
   "cell_type": "code",
   "execution_count": null,
   "id": "1a8011fa",
   "metadata": {},
   "outputs": [],
   "source": [
    "# Quedarme con NOMGEO igual a México\n"
   ]
  },
  {
   "cell_type": "code",
   "execution_count": null,
   "id": "e6de33b1",
   "metadata": {},
   "outputs": [],
   "source": [
    "# Área de la CDMX\n"
   ]
  },
  {
   "cell_type": "code",
   "execution_count": null,
   "id": "71568044",
   "metadata": {},
   "outputs": [],
   "source": [
    "# Reproyectar a CCL de México (EPSG:6372)\n"
   ]
  },
  {
   "cell_type": "markdown",
   "id": "2440f80c",
   "metadata": {},
   "source": [
    "[AEA vs CCL](https://map-projections.net/compare.php?p1=albers-equal-area-conic&p2=lambert-conformal-conic)\n",
    "\n",
    "[proj.org](https://proj.org/en/stable/index.html)"
   ]
  },
  {
   "cell_type": "code",
   "execution_count": null,
   "id": "c6cf27d5",
   "metadata": {},
   "outputs": [],
   "source": [
    "# Ahora reproyectar a Albers Equal Area Conic (AEA) para México)\n",
    "aea_mexico = \n",
    "gdf_mex_mexico_aea = gdf_mex_mexico.to_crs(aea_mexico)\n",
    "gdf_mex_mexico_aea.geometry.area / "
   ]
  },
  {
   "cell_type": "code",
   "execution_count": null,
   "id": "eccbd18a",
   "metadata": {},
   "outputs": [],
   "source": [
    "# Reproyecta a UTM zona 14N (EPSG:32614)\n"
   ]
  },
  {
   "cell_type": "code",
   "execution_count": null,
   "id": "ffa275c2",
   "metadata": {},
   "outputs": [],
   "source": [
    "# Reproyectar el gdf_mex a aea_mexico\n"
   ]
  },
  {
   "cell_type": "code",
   "execution_count": null,
   "id": "b74a4a57",
   "metadata": {},
   "outputs": [],
   "source": [
    "# Agregar una nueva columna con el área en km²\n"
   ]
  },
  {
   "cell_type": "code",
   "execution_count": null,
   "id": "9951a095",
   "metadata": {},
   "outputs": [],
   "source": [
    "# Sacar la diferencia entre el área original AREA que esta en CCL y la reproyectada AEA\n"
   ]
  },
  {
   "cell_type": "code",
   "execution_count": null,
   "id": "e9e49192",
   "metadata": {},
   "outputs": [],
   "source": [
    "# Obtener el área en aea en el gdf_mex reproyectando\n",
    "gdf_mex['area_km2'] = gdf_mex.to_crs(aea_mexico).geometry.area / 1e6\n",
    "gdf_mex.head()"
   ]
  },
  {
   "cell_type": "code",
   "execution_count": null,
   "id": "67205e10",
   "metadata": {},
   "outputs": [],
   "source": [
    "gdf_mex.crs"
   ]
  },
  {
   "cell_type": "code",
   "execution_count": null,
   "id": "93496721",
   "metadata": {},
   "outputs": [],
   "source": [
    "# Crear un nuevo gdf con las columnas NOMGEO y area_km2 y su geometría\n"
   ]
  },
  {
   "cell_type": "code",
   "execution_count": null,
   "id": "de70c0ea",
   "metadata": {},
   "outputs": [],
   "source": [
    "# Cambiar el nombre de la columna de NOMGEO a entidad\n"
   ]
  },
  {
   "cell_type": "code",
   "execution_count": null,
   "id": "2b09e0b7",
   "metadata": {},
   "outputs": [],
   "source": [
    "# Exportar el gdf corregido a un nuevo archivo geojson\n",
    "gdf_mex_corr.to_file(os.path.join(path_entidades, 'entidades_federativas_area_correcta.geojson'), driver='GeoJSON')"
   ]
  },
  {
   "cell_type": "code",
   "execution_count": null,
   "id": "4ee41421",
   "metadata": {},
   "outputs": [],
   "source": [
    "# Exportar el gdf original y el corregido a un nuevo archivo geopackage"
   ]
  },
  {
   "cell_type": "code",
   "execution_count": null,
   "id": "6c3fe7ff",
   "metadata": {},
   "outputs": [],
   "source": [
    "# Abrir shape de FIRMS\n",
    "shapefile_path = os.path.join(path_firms, 'SUOMI_VIIRS_C2_Central_America_24h.shp')\n",
    "gdf_firms = gpd.read_file(shapefile_path)"
   ]
  },
  {
   "cell_type": "code",
   "execution_count": null,
   "id": "d20e21dc",
   "metadata": {},
   "outputs": [],
   "source": [
    "gdf_firms.head()"
   ]
  },
  {
   "cell_type": "code",
   "execution_count": null,
   "id": "b960cc6d",
   "metadata": {},
   "outputs": [],
   "source": [
    "gdf_firms.describe()"
   ]
  },
  {
   "cell_type": "code",
   "execution_count": null,
   "id": "a3590a9d",
   "metadata": {},
   "outputs": [],
   "source": [
    "gdf_firms.crs"
   ]
  },
  {
   "cell_type": "code",
   "execution_count": null,
   "id": "1178673e",
   "metadata": {},
   "outputs": [],
   "source": [
    "# Unión espacial (spatial join) entre gdf_mex_corr y gdf_firms (ya están en el mismo CRS)\n",
    "gdf_sjoin = gpd.sjoin(gdf_mex_corr, gdf_firms, how='inner', predicate='contains')\n",
    "gdf_sjoin.head()"
   ]
  },
  {
   "cell_type": "code",
   "execution_count": null,
   "id": "8d93f0a9",
   "metadata": {},
   "outputs": [],
   "source": [
    "# Agregar el conteo de puntos de FIRMS por entidad federativa con programación estructurada"
   ]
  },
  {
   "cell_type": "code",
   "execution_count": null,
   "id": "63650e61",
   "metadata": {},
   "outputs": [],
   "source": [
    "# Agregar el conteo de puntos de FIRMS por entidad federativa\n",
    "# gdf_mex_corr['firms_count'] = gdf_mex_corr.geometry.apply(lambda x: gdf_firms.within(x).sum())"
   ]
  },
  {
   "cell_type": "code",
   "execution_count": null,
   "id": "2a3880af",
   "metadata": {},
   "outputs": [],
   "source": [
    "# Crear nueva columa de DATE con la fecha y hora en formato datetime y CST"
   ]
  },
  {
   "cell_type": "code",
   "execution_count": null,
   "id": "780627bd",
   "metadata": {},
   "outputs": [],
   "source": [
    "# Ver tipo de dato de ACQ_DATE\n"
   ]
  },
  {
   "cell_type": "code",
   "execution_count": null,
   "id": "96afd52d",
   "metadata": {},
   "outputs": [],
   "source": [
    "# Crea una nueva columna en gdf_firms con la suma de ACQ_DATE y AQC_TIME\n",
    "\n"
   ]
  },
  {
   "cell_type": "code",
   "execution_count": null,
   "id": "77c33af3",
   "metadata": {},
   "outputs": [],
   "source": [
    "# DATE esta en formato string YYYY-MM-DD HHMM, hay que convertirlo a datetime\n"
   ]
  },
  {
   "cell_type": "code",
   "execution_count": null,
   "id": "ee2b4353",
   "metadata": {},
   "outputs": [],
   "source": [
    "# Asignar la zona horaria de UTC (tiempo universal coordinado) a la columna DATE\n"
   ]
  },
  {
   "cell_type": "code",
   "execution_count": null,
   "id": "90eaf38a",
   "metadata": {},
   "outputs": [],
   "source": [
    "# Convierte DATE a la zona horaria de Ciudad de México (CST, UTC-6) en una nueva columna DATE_CST\n"
   ]
  },
  {
   "cell_type": "markdown",
   "id": "b9dcb1b4",
   "metadata": {},
   "source": [
    "# Reproyección de coordenadas"
   ]
  },
  {
   "cell_type": "code",
   "execution_count": null,
   "id": "b502baa8",
   "metadata": {},
   "outputs": [],
   "source": [
    "import pyproj"
   ]
  },
  {
   "cell_type": "code",
   "execution_count": null,
   "id": "13d10c8c",
   "metadata": {},
   "outputs": [],
   "source": [
    "# Reproyecta una coordenada de epsg:4326 a epsg:6372\n",
    "transformer = pyproj.Transformer."
   ]
  },
  {
   "cell_type": "code",
   "execution_count": null,
   "id": "ecdae6e1",
   "metadata": {},
   "outputs": [],
   "source": [
    "# Definiendo los CRS con proj4, de 4326 a AEA\n",
    "crs_4326 = "
   ]
  }
 ],
 "metadata": {
  "kernelspec": {
   "display_name": "entornoCPU",
   "language": "python",
   "name": "python3"
  },
  "language_info": {
   "codemirror_mode": {
    "name": "ipython",
    "version": 3
   },
   "file_extension": ".py",
   "mimetype": "text/x-python",
   "name": "python",
   "nbconvert_exporter": "python",
   "pygments_lexer": "ipython3",
   "version": "3.11.3"
  }
 },
 "nbformat": 4,
 "nbformat_minor": 5
}
